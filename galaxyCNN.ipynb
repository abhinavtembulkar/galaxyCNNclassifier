{
  "nbformat": 4,
  "nbformat_minor": 0,
  "metadata": {
    "colab": {
      "name": "galaxyCNN",
      "provenance": [],
      "collapsed_sections": [],
      "include_colab_link": true
    },
    "kernelspec": {
      "name": "python3",
      "display_name": "Python 3"
    },
    "widgets": {
      "application/vnd.jupyter.widget-state+json": {
<<<<<<< HEAD
        "20ac4ad6519d49719ca7ec5f8d99ae22": {
=======
        "c6426d5e2f684864a3418d82dc9c5432": {
>>>>>>> 6c431331739c1dcdad618b816190999dbf20862b
          "model_module": "@jupyter-widgets/controls",
          "model_name": "HBoxModel",
          "state": {
            "_view_name": "HBoxView",
            "_dom_classes": [],
            "_model_name": "HBoxModel",
            "_view_module": "@jupyter-widgets/controls",
            "_model_module_version": "1.5.0",
            "_view_count": null,
            "_view_module_version": "1.5.0",
            "box_style": "",
<<<<<<< HEAD
            "layout": "IPY_MODEL_347c6934882b4aaea344ea00fd3d41c2",
            "_model_module": "@jupyter-widgets/controls",
            "children": [
              "IPY_MODEL_5c281898ed8f4332b19d485c57efaef8",
              "IPY_MODEL_e32866d2eb3d4544a2abe3ad7331f0f0"
            ]
          }
        },
        "347c6934882b4aaea344ea00fd3d41c2": {
=======
            "layout": "IPY_MODEL_36f21932e5f946529b76b1dba3525485",
            "_model_module": "@jupyter-widgets/controls",
            "children": [
              "IPY_MODEL_984b41c7f70443c4b44bdf9c1374700f",
              "IPY_MODEL_4d4bd23a9ae149f9b8762002d0b86daa"
            ]
          }
        },
        "36f21932e5f946529b76b1dba3525485": {
>>>>>>> 6c431331739c1dcdad618b816190999dbf20862b
          "model_module": "@jupyter-widgets/base",
          "model_name": "LayoutModel",
          "state": {
            "_view_name": "LayoutView",
            "grid_template_rows": null,
            "right": null,
            "justify_content": null,
            "_view_module": "@jupyter-widgets/base",
            "overflow": null,
            "_model_module_version": "1.2.0",
            "_view_count": null,
            "flex_flow": null,
            "width": null,
            "min_width": null,
            "border": null,
            "align_items": null,
            "bottom": null,
            "_model_module": "@jupyter-widgets/base",
            "top": null,
            "grid_column": null,
            "overflow_y": null,
            "overflow_x": null,
            "grid_auto_flow": null,
            "grid_area": null,
            "grid_template_columns": null,
            "flex": null,
            "_model_name": "LayoutModel",
            "justify_items": null,
            "grid_row": null,
            "max_height": null,
            "align_content": null,
            "visibility": null,
            "align_self": null,
            "height": null,
            "min_height": null,
            "padding": null,
            "grid_auto_rows": null,
            "grid_gap": null,
            "max_width": null,
            "order": null,
            "_view_module_version": "1.2.0",
            "grid_template_areas": null,
            "object_position": null,
            "object_fit": null,
            "grid_auto_columns": null,
            "margin": null,
            "display": null,
            "left": null
          }
        },
<<<<<<< HEAD
        "5c281898ed8f4332b19d485c57efaef8": {
=======
        "984b41c7f70443c4b44bdf9c1374700f": {
>>>>>>> 6c431331739c1dcdad618b816190999dbf20862b
          "model_module": "@jupyter-widgets/controls",
          "model_name": "FloatProgressModel",
          "state": {
            "_view_name": "ProgressView",
<<<<<<< HEAD
            "style": "IPY_MODEL_a7f0b38dd5764965ba78dc72c2175d41",
=======
            "style": "IPY_MODEL_d3ef7714abd84cd5a6e3613890ff11ab",
>>>>>>> 6c431331739c1dcdad618b816190999dbf20862b
            "_dom_classes": [],
            "description": "100%",
            "_model_name": "FloatProgressModel",
            "bar_style": "success",
            "max": 868,
            "_view_module": "@jupyter-widgets/controls",
            "_model_module_version": "1.5.0",
            "value": 868,
            "_view_count": null,
            "_view_module_version": "1.5.0",
            "orientation": "horizontal",
            "min": 0,
            "description_tooltip": null,
            "_model_module": "@jupyter-widgets/controls",
<<<<<<< HEAD
            "layout": "IPY_MODEL_87261ff502ab43f78bffc623a8b34cad"
          }
        },
        "e32866d2eb3d4544a2abe3ad7331f0f0": {
=======
            "layout": "IPY_MODEL_06dc902a291f49c5a611e3fff9c2de41"
          }
        },
        "4d4bd23a9ae149f9b8762002d0b86daa": {
>>>>>>> 6c431331739c1dcdad618b816190999dbf20862b
          "model_module": "@jupyter-widgets/controls",
          "model_name": "HTMLModel",
          "state": {
            "_view_name": "HTMLView",
<<<<<<< HEAD
            "style": "IPY_MODEL_03f310d439944696b266ef5ba8118525",
=======
            "style": "IPY_MODEL_83701ea4fa4f4cac99f00e56a002456b",
>>>>>>> 6c431331739c1dcdad618b816190999dbf20862b
            "_dom_classes": [],
            "description": "",
            "_model_name": "HTMLModel",
            "placeholder": "​",
            "_view_module": "@jupyter-widgets/controls",
            "_model_module_version": "1.5.0",
<<<<<<< HEAD
            "value": " 868/868 [00:16&lt;00:00, 54.23it/s]",
=======
            "value": " 868/868 [01:50&lt;00:00,  7.85it/s]",
>>>>>>> 6c431331739c1dcdad618b816190999dbf20862b
            "_view_count": null,
            "_view_module_version": "1.5.0",
            "description_tooltip": null,
            "_model_module": "@jupyter-widgets/controls",
<<<<<<< HEAD
            "layout": "IPY_MODEL_16d41caf573c448c9611b35557a4f4c0"
          }
        },
        "a7f0b38dd5764965ba78dc72c2175d41": {
=======
            "layout": "IPY_MODEL_a941ed856423484eb8123bc23ca1750f"
          }
        },
        "d3ef7714abd84cd5a6e3613890ff11ab": {
>>>>>>> 6c431331739c1dcdad618b816190999dbf20862b
          "model_module": "@jupyter-widgets/controls",
          "model_name": "ProgressStyleModel",
          "state": {
            "_view_name": "StyleView",
            "_model_name": "ProgressStyleModel",
            "description_width": "initial",
            "_view_module": "@jupyter-widgets/base",
            "_model_module_version": "1.5.0",
            "_view_count": null,
            "_view_module_version": "1.2.0",
            "bar_color": null,
            "_model_module": "@jupyter-widgets/controls"
          }
        },
<<<<<<< HEAD
        "87261ff502ab43f78bffc623a8b34cad": {
=======
        "06dc902a291f49c5a611e3fff9c2de41": {
>>>>>>> 6c431331739c1dcdad618b816190999dbf20862b
          "model_module": "@jupyter-widgets/base",
          "model_name": "LayoutModel",
          "state": {
            "_view_name": "LayoutView",
            "grid_template_rows": null,
            "right": null,
            "justify_content": null,
            "_view_module": "@jupyter-widgets/base",
            "overflow": null,
            "_model_module_version": "1.2.0",
            "_view_count": null,
            "flex_flow": null,
            "width": null,
            "min_width": null,
            "border": null,
            "align_items": null,
            "bottom": null,
            "_model_module": "@jupyter-widgets/base",
            "top": null,
            "grid_column": null,
            "overflow_y": null,
            "overflow_x": null,
            "grid_auto_flow": null,
            "grid_area": null,
            "grid_template_columns": null,
            "flex": null,
            "_model_name": "LayoutModel",
            "justify_items": null,
            "grid_row": null,
            "max_height": null,
            "align_content": null,
            "visibility": null,
            "align_self": null,
            "height": null,
            "min_height": null,
            "padding": null,
            "grid_auto_rows": null,
            "grid_gap": null,
            "max_width": null,
            "order": null,
            "_view_module_version": "1.2.0",
            "grid_template_areas": null,
            "object_position": null,
            "object_fit": null,
            "grid_auto_columns": null,
            "margin": null,
            "display": null,
            "left": null
          }
        },
<<<<<<< HEAD
        "03f310d439944696b266ef5ba8118525": {
=======
        "83701ea4fa4f4cac99f00e56a002456b": {
>>>>>>> 6c431331739c1dcdad618b816190999dbf20862b
          "model_module": "@jupyter-widgets/controls",
          "model_name": "DescriptionStyleModel",
          "state": {
            "_view_name": "StyleView",
            "_model_name": "DescriptionStyleModel",
            "description_width": "",
            "_view_module": "@jupyter-widgets/base",
            "_model_module_version": "1.5.0",
            "_view_count": null,
            "_view_module_version": "1.2.0",
            "_model_module": "@jupyter-widgets/controls"
          }
        },
<<<<<<< HEAD
        "16d41caf573c448c9611b35557a4f4c0": {
=======
        "a941ed856423484eb8123bc23ca1750f": {
>>>>>>> 6c431331739c1dcdad618b816190999dbf20862b
          "model_module": "@jupyter-widgets/base",
          "model_name": "LayoutModel",
          "state": {
            "_view_name": "LayoutView",
            "grid_template_rows": null,
            "right": null,
            "justify_content": null,
            "_view_module": "@jupyter-widgets/base",
            "overflow": null,
            "_model_module_version": "1.2.0",
            "_view_count": null,
            "flex_flow": null,
            "width": null,
            "min_width": null,
            "border": null,
            "align_items": null,
            "bottom": null,
            "_model_module": "@jupyter-widgets/base",
            "top": null,
            "grid_column": null,
            "overflow_y": null,
            "overflow_x": null,
            "grid_auto_flow": null,
            "grid_area": null,
            "grid_template_columns": null,
            "flex": null,
            "_model_name": "LayoutModel",
            "justify_items": null,
            "grid_row": null,
            "max_height": null,
            "align_content": null,
            "visibility": null,
            "align_self": null,
            "height": null,
            "min_height": null,
            "padding": null,
            "grid_auto_rows": null,
            "grid_gap": null,
            "max_width": null,
            "order": null,
            "_view_module_version": "1.2.0",
            "grid_template_areas": null,
            "object_position": null,
            "object_fit": null,
            "grid_auto_columns": null,
            "margin": null,
            "display": null,
            "left": null
          }
        },
<<<<<<< HEAD
        "471c4ee7f5754ee48941fc0a7cfc7eb2": {
=======
        "4561ed78e97842ae99ceabb32b29d9f8": {
>>>>>>> 6c431331739c1dcdad618b816190999dbf20862b
          "model_module": "@jupyter-widgets/controls",
          "model_name": "HBoxModel",
          "state": {
            "_view_name": "HBoxView",
            "_dom_classes": [],
            "_model_name": "HBoxModel",
            "_view_module": "@jupyter-widgets/controls",
            "_model_module_version": "1.5.0",
            "_view_count": null,
            "_view_module_version": "1.5.0",
            "box_style": "",
<<<<<<< HEAD
            "layout": "IPY_MODEL_9f580cd8e1f24ec2b84c41033f45a62c",
            "_model_module": "@jupyter-widgets/controls",
            "children": [
              "IPY_MODEL_9d260cc217ec45da83bdec9ce4ffeea2",
              "IPY_MODEL_2f76648a99cd4fedbb2dc8199c19cc55"
            ]
          }
        },
        "9f580cd8e1f24ec2b84c41033f45a62c": {
=======
            "layout": "IPY_MODEL_d0f8ca73cb5449488661280b1eb07ef3",
            "_model_module": "@jupyter-widgets/controls",
            "children": [
              "IPY_MODEL_f22ac1422cdd475f8979e01fe8e7c587",
              "IPY_MODEL_39714020ee314be38f14ffc8758ea307"
            ]
          }
        },
        "d0f8ca73cb5449488661280b1eb07ef3": {
>>>>>>> 6c431331739c1dcdad618b816190999dbf20862b
          "model_module": "@jupyter-widgets/base",
          "model_name": "LayoutModel",
          "state": {
            "_view_name": "LayoutView",
            "grid_template_rows": null,
            "right": null,
            "justify_content": null,
            "_view_module": "@jupyter-widgets/base",
            "overflow": null,
            "_model_module_version": "1.2.0",
            "_view_count": null,
            "flex_flow": null,
            "width": null,
            "min_width": null,
            "border": null,
            "align_items": null,
            "bottom": null,
            "_model_module": "@jupyter-widgets/base",
            "top": null,
            "grid_column": null,
            "overflow_y": null,
            "overflow_x": null,
            "grid_auto_flow": null,
            "grid_area": null,
            "grid_template_columns": null,
            "flex": null,
            "_model_name": "LayoutModel",
            "justify_items": null,
            "grid_row": null,
            "max_height": null,
            "align_content": null,
            "visibility": null,
            "align_self": null,
            "height": null,
            "min_height": null,
            "padding": null,
            "grid_auto_rows": null,
            "grid_gap": null,
            "max_width": null,
            "order": null,
            "_view_module_version": "1.2.0",
            "grid_template_areas": null,
            "object_position": null,
            "object_fit": null,
            "grid_auto_columns": null,
            "margin": null,
            "display": null,
            "left": null
          }
        },
<<<<<<< HEAD
        "9d260cc217ec45da83bdec9ce4ffeea2": {
=======
        "f22ac1422cdd475f8979e01fe8e7c587": {
>>>>>>> 6c431331739c1dcdad618b816190999dbf20862b
          "model_module": "@jupyter-widgets/controls",
          "model_name": "FloatProgressModel",
          "state": {
            "_view_name": "ProgressView",
<<<<<<< HEAD
            "style": "IPY_MODEL_4fd164c25a1343359b924fa71dff5f8c",
=======
            "style": "IPY_MODEL_70b24b6d112a462098ce52a94362443f",
>>>>>>> 6c431331739c1dcdad618b816190999dbf20862b
            "_dom_classes": [],
            "description": "100%",
            "_model_name": "FloatProgressModel",
            "bar_style": "success",
            "max": 868,
            "_view_module": "@jupyter-widgets/controls",
            "_model_module_version": "1.5.0",
            "value": 868,
            "_view_count": null,
            "_view_module_version": "1.5.0",
            "orientation": "horizontal",
            "min": 0,
            "description_tooltip": null,
            "_model_module": "@jupyter-widgets/controls",
<<<<<<< HEAD
            "layout": "IPY_MODEL_0b21436c5fa34063820ecbbaa152a52d"
          }
        },
        "2f76648a99cd4fedbb2dc8199c19cc55": {
=======
            "layout": "IPY_MODEL_575a4aa4e8b347a39a36a69514a81142"
          }
        },
        "39714020ee314be38f14ffc8758ea307": {
>>>>>>> 6c431331739c1dcdad618b816190999dbf20862b
          "model_module": "@jupyter-widgets/controls",
          "model_name": "HTMLModel",
          "state": {
            "_view_name": "HTMLView",
<<<<<<< HEAD
            "style": "IPY_MODEL_8edffb13e0a34c09a3ab8bc0c21ab148",
=======
            "style": "IPY_MODEL_2d5fe1e213f141efb65f3e3c9552c2c1",
>>>>>>> 6c431331739c1dcdad618b816190999dbf20862b
            "_dom_classes": [],
            "description": "",
            "_model_name": "HTMLModel",
            "placeholder": "​",
            "_view_module": "@jupyter-widgets/controls",
            "_model_module_version": "1.5.0",
<<<<<<< HEAD
            "value": " 868/868 [00:10&lt;00:00, 81.60it/s]",
=======
            "value": " 868/868 [00:38&lt;00:00, 22.28it/s]",
>>>>>>> 6c431331739c1dcdad618b816190999dbf20862b
            "_view_count": null,
            "_view_module_version": "1.5.0",
            "description_tooltip": null,
            "_model_module": "@jupyter-widgets/controls",
<<<<<<< HEAD
            "layout": "IPY_MODEL_d62f04ddfa22446a997f0931ba86841c"
          }
        },
        "4fd164c25a1343359b924fa71dff5f8c": {
=======
            "layout": "IPY_MODEL_9c6f5e2620e2421682af695e809393f9"
          }
        },
        "70b24b6d112a462098ce52a94362443f": {
>>>>>>> 6c431331739c1dcdad618b816190999dbf20862b
          "model_module": "@jupyter-widgets/controls",
          "model_name": "ProgressStyleModel",
          "state": {
            "_view_name": "StyleView",
            "_model_name": "ProgressStyleModel",
            "description_width": "initial",
            "_view_module": "@jupyter-widgets/base",
            "_model_module_version": "1.5.0",
            "_view_count": null,
            "_view_module_version": "1.2.0",
            "bar_color": null,
            "_model_module": "@jupyter-widgets/controls"
          }
        },
<<<<<<< HEAD
        "0b21436c5fa34063820ecbbaa152a52d": {
=======
        "575a4aa4e8b347a39a36a69514a81142": {
>>>>>>> 6c431331739c1dcdad618b816190999dbf20862b
          "model_module": "@jupyter-widgets/base",
          "model_name": "LayoutModel",
          "state": {
            "_view_name": "LayoutView",
            "grid_template_rows": null,
            "right": null,
            "justify_content": null,
            "_view_module": "@jupyter-widgets/base",
            "overflow": null,
            "_model_module_version": "1.2.0",
            "_view_count": null,
            "flex_flow": null,
            "width": null,
            "min_width": null,
            "border": null,
            "align_items": null,
            "bottom": null,
            "_model_module": "@jupyter-widgets/base",
            "top": null,
            "grid_column": null,
            "overflow_y": null,
            "overflow_x": null,
            "grid_auto_flow": null,
            "grid_area": null,
            "grid_template_columns": null,
            "flex": null,
            "_model_name": "LayoutModel",
            "justify_items": null,
            "grid_row": null,
            "max_height": null,
            "align_content": null,
            "visibility": null,
            "align_self": null,
            "height": null,
            "min_height": null,
            "padding": null,
            "grid_auto_rows": null,
            "grid_gap": null,
            "max_width": null,
            "order": null,
            "_view_module_version": "1.2.0",
            "grid_template_areas": null,
            "object_position": null,
            "object_fit": null,
            "grid_auto_columns": null,
            "margin": null,
            "display": null,
            "left": null
          }
        },
<<<<<<< HEAD
        "8edffb13e0a34c09a3ab8bc0c21ab148": {
=======
        "2d5fe1e213f141efb65f3e3c9552c2c1": {
>>>>>>> 6c431331739c1dcdad618b816190999dbf20862b
          "model_module": "@jupyter-widgets/controls",
          "model_name": "DescriptionStyleModel",
          "state": {
            "_view_name": "StyleView",
            "_model_name": "DescriptionStyleModel",
            "description_width": "",
            "_view_module": "@jupyter-widgets/base",
            "_model_module_version": "1.5.0",
            "_view_count": null,
            "_view_module_version": "1.2.0",
            "_model_module": "@jupyter-widgets/controls"
          }
        },
<<<<<<< HEAD
        "d62f04ddfa22446a997f0931ba86841c": {
=======
        "9c6f5e2620e2421682af695e809393f9": {
>>>>>>> 6c431331739c1dcdad618b816190999dbf20862b
          "model_module": "@jupyter-widgets/base",
          "model_name": "LayoutModel",
          "state": {
            "_view_name": "LayoutView",
            "grid_template_rows": null,
            "right": null,
            "justify_content": null,
            "_view_module": "@jupyter-widgets/base",
            "overflow": null,
            "_model_module_version": "1.2.0",
            "_view_count": null,
            "flex_flow": null,
            "width": null,
            "min_width": null,
            "border": null,
            "align_items": null,
            "bottom": null,
            "_model_module": "@jupyter-widgets/base",
            "top": null,
            "grid_column": null,
            "overflow_y": null,
            "overflow_x": null,
            "grid_auto_flow": null,
            "grid_area": null,
            "grid_template_columns": null,
            "flex": null,
            "_model_name": "LayoutModel",
            "justify_items": null,
            "grid_row": null,
            "max_height": null,
            "align_content": null,
            "visibility": null,
            "align_self": null,
            "height": null,
            "min_height": null,
            "padding": null,
            "grid_auto_rows": null,
            "grid_gap": null,
            "max_width": null,
            "order": null,
            "_view_module_version": "1.2.0",
            "grid_template_areas": null,
            "object_position": null,
            "object_fit": null,
            "grid_auto_columns": null,
            "margin": null,
            "display": null,
            "left": null
          }
        },
<<<<<<< HEAD
        "ed894ed10c4e44b1876983a4e6aa7363": {
=======
        "cb2511b71ab34c51a4d2c55eb53a675e": {
>>>>>>> 6c431331739c1dcdad618b816190999dbf20862b
          "model_module": "@jupyter-widgets/controls",
          "model_name": "HBoxModel",
          "state": {
            "_view_name": "HBoxView",
            "_dom_classes": [],
            "_model_name": "HBoxModel",
            "_view_module": "@jupyter-widgets/controls",
            "_model_module_version": "1.5.0",
            "_view_count": null,
            "_view_module_version": "1.5.0",
            "box_style": "",
<<<<<<< HEAD
            "layout": "IPY_MODEL_d27fd97e64614e47827c4f1aa1ab2b18",
            "_model_module": "@jupyter-widgets/controls",
            "children": [
              "IPY_MODEL_ef463fd5cbea4590a63c3f8866d1fff1",
              "IPY_MODEL_93c7f74b6ade4d3296acaad8c1b4373e"
            ]
          }
        },
        "d27fd97e64614e47827c4f1aa1ab2b18": {
=======
            "layout": "IPY_MODEL_d35c2192843241b89bfde3ea0d2ba6da",
            "_model_module": "@jupyter-widgets/controls",
            "children": [
              "IPY_MODEL_cf0f028bbf184aa2b54fcf1fd130c340",
              "IPY_MODEL_65a374a522e245ef9921a38f0e8ed782"
            ]
          }
        },
        "d35c2192843241b89bfde3ea0d2ba6da": {
>>>>>>> 6c431331739c1dcdad618b816190999dbf20862b
          "model_module": "@jupyter-widgets/base",
          "model_name": "LayoutModel",
          "state": {
            "_view_name": "LayoutView",
            "grid_template_rows": null,
            "right": null,
            "justify_content": null,
            "_view_module": "@jupyter-widgets/base",
            "overflow": null,
            "_model_module_version": "1.2.0",
            "_view_count": null,
            "flex_flow": null,
            "width": null,
            "min_width": null,
            "border": null,
            "align_items": null,
            "bottom": null,
            "_model_module": "@jupyter-widgets/base",
            "top": null,
            "grid_column": null,
            "overflow_y": null,
            "overflow_x": null,
            "grid_auto_flow": null,
            "grid_area": null,
            "grid_template_columns": null,
            "flex": null,
            "_model_name": "LayoutModel",
            "justify_items": null,
            "grid_row": null,
            "max_height": null,
            "align_content": null,
            "visibility": null,
            "align_self": null,
            "height": null,
            "min_height": null,
            "padding": null,
            "grid_auto_rows": null,
            "grid_gap": null,
            "max_width": null,
            "order": null,
            "_view_module_version": "1.2.0",
            "grid_template_areas": null,
            "object_position": null,
            "object_fit": null,
            "grid_auto_columns": null,
            "margin": null,
            "display": null,
            "left": null
          }
        },
<<<<<<< HEAD
        "ef463fd5cbea4590a63c3f8866d1fff1": {
=======
        "cf0f028bbf184aa2b54fcf1fd130c340": {
>>>>>>> 6c431331739c1dcdad618b816190999dbf20862b
          "model_module": "@jupyter-widgets/controls",
          "model_name": "FloatProgressModel",
          "state": {
            "_view_name": "ProgressView",
<<<<<<< HEAD
            "style": "IPY_MODEL_994df0bb225943fcb79fbab7bef7fc2a",
=======
            "style": "IPY_MODEL_20775b1fb7f745398ef87966549ac984",
>>>>>>> 6c431331739c1dcdad618b816190999dbf20862b
            "_dom_classes": [],
            "description": "100%",
            "_model_name": "FloatProgressModel",
            "bar_style": "success",
            "max": 868,
            "_view_module": "@jupyter-widgets/controls",
            "_model_module_version": "1.5.0",
            "value": 868,
            "_view_count": null,
            "_view_module_version": "1.5.0",
            "orientation": "horizontal",
            "min": 0,
            "description_tooltip": null,
            "_model_module": "@jupyter-widgets/controls",
<<<<<<< HEAD
            "layout": "IPY_MODEL_c0bf2d14b7734c9096075930c571ad3e"
          }
        },
        "93c7f74b6ade4d3296acaad8c1b4373e": {
=======
            "layout": "IPY_MODEL_c5bf99f932a1433e9e1a98c4ef67baca"
          }
        },
        "65a374a522e245ef9921a38f0e8ed782": {
>>>>>>> 6c431331739c1dcdad618b816190999dbf20862b
          "model_module": "@jupyter-widgets/controls",
          "model_name": "HTMLModel",
          "state": {
            "_view_name": "HTMLView",
<<<<<<< HEAD
            "style": "IPY_MODEL_e4ec29546eea468f972a098a3072308a",
=======
            "style": "IPY_MODEL_75edfdb7d5cc46709f080f1eb47dc4e0",
>>>>>>> 6c431331739c1dcdad618b816190999dbf20862b
            "_dom_classes": [],
            "description": "",
            "_model_name": "HTMLModel",
            "placeholder": "​",
            "_view_module": "@jupyter-widgets/controls",
            "_model_module_version": "1.5.0",
<<<<<<< HEAD
            "value": " 868/868 [00:05&lt;00:00, 162.23it/s]",
=======
            "value": " 868/868 [00:28&lt;00:00, 31.00it/s]",
>>>>>>> 6c431331739c1dcdad618b816190999dbf20862b
            "_view_count": null,
            "_view_module_version": "1.5.0",
            "description_tooltip": null,
            "_model_module": "@jupyter-widgets/controls",
<<<<<<< HEAD
            "layout": "IPY_MODEL_7ff527ac0b1a432bb7a124e3e5edaebd"
          }
        },
        "994df0bb225943fcb79fbab7bef7fc2a": {
=======
            "layout": "IPY_MODEL_3ece6879729940c88bf26417cb554000"
          }
        },
        "20775b1fb7f745398ef87966549ac984": {
>>>>>>> 6c431331739c1dcdad618b816190999dbf20862b
          "model_module": "@jupyter-widgets/controls",
          "model_name": "ProgressStyleModel",
          "state": {
            "_view_name": "StyleView",
            "_model_name": "ProgressStyleModel",
            "description_width": "initial",
            "_view_module": "@jupyter-widgets/base",
            "_model_module_version": "1.5.0",
            "_view_count": null,
            "_view_module_version": "1.2.0",
            "bar_color": null,
            "_model_module": "@jupyter-widgets/controls"
          }
        },
<<<<<<< HEAD
        "c0bf2d14b7734c9096075930c571ad3e": {
=======
        "c5bf99f932a1433e9e1a98c4ef67baca": {
>>>>>>> 6c431331739c1dcdad618b816190999dbf20862b
          "model_module": "@jupyter-widgets/base",
          "model_name": "LayoutModel",
          "state": {
            "_view_name": "LayoutView",
            "grid_template_rows": null,
            "right": null,
            "justify_content": null,
            "_view_module": "@jupyter-widgets/base",
            "overflow": null,
            "_model_module_version": "1.2.0",
            "_view_count": null,
            "flex_flow": null,
            "width": null,
            "min_width": null,
            "border": null,
            "align_items": null,
            "bottom": null,
            "_model_module": "@jupyter-widgets/base",
            "top": null,
            "grid_column": null,
            "overflow_y": null,
            "overflow_x": null,
            "grid_auto_flow": null,
            "grid_area": null,
            "grid_template_columns": null,
            "flex": null,
            "_model_name": "LayoutModel",
            "justify_items": null,
            "grid_row": null,
            "max_height": null,
            "align_content": null,
            "visibility": null,
            "align_self": null,
            "height": null,
            "min_height": null,
            "padding": null,
            "grid_auto_rows": null,
            "grid_gap": null,
            "max_width": null,
            "order": null,
            "_view_module_version": "1.2.0",
            "grid_template_areas": null,
            "object_position": null,
            "object_fit": null,
            "grid_auto_columns": null,
            "margin": null,
            "display": null,
            "left": null
          }
        },
<<<<<<< HEAD
        "e4ec29546eea468f972a098a3072308a": {
=======
        "75edfdb7d5cc46709f080f1eb47dc4e0": {
>>>>>>> 6c431331739c1dcdad618b816190999dbf20862b
          "model_module": "@jupyter-widgets/controls",
          "model_name": "DescriptionStyleModel",
          "state": {
            "_view_name": "StyleView",
            "_model_name": "DescriptionStyleModel",
            "description_width": "",
            "_view_module": "@jupyter-widgets/base",
            "_model_module_version": "1.5.0",
            "_view_count": null,
            "_view_module_version": "1.2.0",
            "_model_module": "@jupyter-widgets/controls"
          }
        },
<<<<<<< HEAD
        "7ff527ac0b1a432bb7a124e3e5edaebd": {
=======
        "3ece6879729940c88bf26417cb554000": {
>>>>>>> 6c431331739c1dcdad618b816190999dbf20862b
          "model_module": "@jupyter-widgets/base",
          "model_name": "LayoutModel",
          "state": {
            "_view_name": "LayoutView",
            "grid_template_rows": null,
            "right": null,
            "justify_content": null,
            "_view_module": "@jupyter-widgets/base",
            "overflow": null,
            "_model_module_version": "1.2.0",
            "_view_count": null,
            "flex_flow": null,
            "width": null,
            "min_width": null,
            "border": null,
            "align_items": null,
            "bottom": null,
            "_model_module": "@jupyter-widgets/base",
            "top": null,
            "grid_column": null,
            "overflow_y": null,
            "overflow_x": null,
            "grid_auto_flow": null,
            "grid_area": null,
            "grid_template_columns": null,
            "flex": null,
            "_model_name": "LayoutModel",
            "justify_items": null,
            "grid_row": null,
            "max_height": null,
            "align_content": null,
            "visibility": null,
            "align_self": null,
            "height": null,
            "min_height": null,
            "padding": null,
            "grid_auto_rows": null,
            "grid_gap": null,
            "max_width": null,
            "order": null,
            "_view_module_version": "1.2.0",
            "grid_template_areas": null,
            "object_position": null,
            "object_fit": null,
            "grid_auto_columns": null,
            "margin": null,
            "display": null,
            "left": null
          }
        },
<<<<<<< HEAD
        "8bb803a8b83f4f948bb38284bdc81381": {
=======
        "7f84c4e310d44c19bafc418f5e46063a": {
>>>>>>> 6c431331739c1dcdad618b816190999dbf20862b
          "model_module": "@jupyter-widgets/controls",
          "model_name": "HBoxModel",
          "state": {
            "_view_name": "HBoxView",
            "_dom_classes": [],
            "_model_name": "HBoxModel",
            "_view_module": "@jupyter-widgets/controls",
            "_model_module_version": "1.5.0",
            "_view_count": null,
            "_view_module_version": "1.5.0",
            "box_style": "",
<<<<<<< HEAD
            "layout": "IPY_MODEL_06288c708ce245c692faa835c23593fa",
            "_model_module": "@jupyter-widgets/controls",
            "children": [
              "IPY_MODEL_a9d1e6302ec848c8881d3de7c54f9f34",
              "IPY_MODEL_5f04dbe78c17417ebdbb1920eca5f757"
            ]
          }
        },
        "06288c708ce245c692faa835c23593fa": {
=======
            "layout": "IPY_MODEL_74cc21f33e164e659382f10f1f372e2f",
            "_model_module": "@jupyter-widgets/controls",
            "children": [
              "IPY_MODEL_a0274862c65b4b4fbf5f05a5708f5524",
              "IPY_MODEL_491183631e9f42d685da35288a95b667"
            ]
          }
        },
        "74cc21f33e164e659382f10f1f372e2f": {
>>>>>>> 6c431331739c1dcdad618b816190999dbf20862b
          "model_module": "@jupyter-widgets/base",
          "model_name": "LayoutModel",
          "state": {
            "_view_name": "LayoutView",
            "grid_template_rows": null,
            "right": null,
            "justify_content": null,
            "_view_module": "@jupyter-widgets/base",
            "overflow": null,
            "_model_module_version": "1.2.0",
            "_view_count": null,
            "flex_flow": null,
            "width": null,
            "min_width": null,
            "border": null,
            "align_items": null,
            "bottom": null,
            "_model_module": "@jupyter-widgets/base",
            "top": null,
            "grid_column": null,
            "overflow_y": null,
            "overflow_x": null,
            "grid_auto_flow": null,
            "grid_area": null,
            "grid_template_columns": null,
            "flex": null,
            "_model_name": "LayoutModel",
            "justify_items": null,
            "grid_row": null,
            "max_height": null,
            "align_content": null,
            "visibility": null,
            "align_self": null,
            "height": null,
            "min_height": null,
            "padding": null,
            "grid_auto_rows": null,
            "grid_gap": null,
            "max_width": null,
            "order": null,
            "_view_module_version": "1.2.0",
            "grid_template_areas": null,
            "object_position": null,
            "object_fit": null,
            "grid_auto_columns": null,
            "margin": null,
            "display": null,
            "left": null
          }
        },
<<<<<<< HEAD
        "a9d1e6302ec848c8881d3de7c54f9f34": {
=======
        "a0274862c65b4b4fbf5f05a5708f5524": {
>>>>>>> 6c431331739c1dcdad618b816190999dbf20862b
          "model_module": "@jupyter-widgets/controls",
          "model_name": "FloatProgressModel",
          "state": {
            "_view_name": "ProgressView",
<<<<<<< HEAD
            "style": "IPY_MODEL_de442afadf864f1face49c19aec35921",
=======
            "style": "IPY_MODEL_d39082a3564642e886ffd5efde5bd57c",
>>>>>>> 6c431331739c1dcdad618b816190999dbf20862b
            "_dom_classes": [],
            "description": "100%",
            "_model_name": "FloatProgressModel",
            "bar_style": "success",
            "max": 868,
            "_view_module": "@jupyter-widgets/controls",
            "_model_module_version": "1.5.0",
            "value": 868,
            "_view_count": null,
            "_view_module_version": "1.5.0",
            "orientation": "horizontal",
            "min": 0,
            "description_tooltip": null,
            "_model_module": "@jupyter-widgets/controls",
<<<<<<< HEAD
            "layout": "IPY_MODEL_1eff9fe98c304a0499bdf74ef77874a9"
          }
        },
        "5f04dbe78c17417ebdbb1920eca5f757": {
=======
            "layout": "IPY_MODEL_a9106b55dc194c179b92f1270212ae96"
          }
        },
        "491183631e9f42d685da35288a95b667": {
>>>>>>> 6c431331739c1dcdad618b816190999dbf20862b
          "model_module": "@jupyter-widgets/controls",
          "model_name": "HTMLModel",
          "state": {
            "_view_name": "HTMLView",
<<<<<<< HEAD
            "style": "IPY_MODEL_53301cc45ce641659e5a97396fe6ead1",
=======
            "style": "IPY_MODEL_e57ff3ec86334999916fe9ef25848c7a",
>>>>>>> 6c431331739c1dcdad618b816190999dbf20862b
            "_dom_classes": [],
            "description": "",
            "_model_name": "HTMLModel",
            "placeholder": "​",
            "_view_module": "@jupyter-widgets/controls",
            "_model_module_version": "1.5.0",
<<<<<<< HEAD
            "value": " 868/868 [00:05&lt;00:00, 161.19it/s]",
=======
            "value": " 868/868 [00:17&lt;00:00, 50.97it/s]",
>>>>>>> 6c431331739c1dcdad618b816190999dbf20862b
            "_view_count": null,
            "_view_module_version": "1.5.0",
            "description_tooltip": null,
            "_model_module": "@jupyter-widgets/controls",
<<<<<<< HEAD
            "layout": "IPY_MODEL_c29d900b47f34c579ac67e3280ac7c2b"
          }
        },
        "de442afadf864f1face49c19aec35921": {
=======
            "layout": "IPY_MODEL_a928cb95b5844a2fa5d5eb1a65b45b76"
          }
        },
        "d39082a3564642e886ffd5efde5bd57c": {
>>>>>>> 6c431331739c1dcdad618b816190999dbf20862b
          "model_module": "@jupyter-widgets/controls",
          "model_name": "ProgressStyleModel",
          "state": {
            "_view_name": "StyleView",
            "_model_name": "ProgressStyleModel",
            "description_width": "initial",
            "_view_module": "@jupyter-widgets/base",
            "_model_module_version": "1.5.0",
            "_view_count": null,
            "_view_module_version": "1.2.0",
            "bar_color": null,
            "_model_module": "@jupyter-widgets/controls"
          }
        },
<<<<<<< HEAD
        "1eff9fe98c304a0499bdf74ef77874a9": {
=======
        "a9106b55dc194c179b92f1270212ae96": {
>>>>>>> 6c431331739c1dcdad618b816190999dbf20862b
          "model_module": "@jupyter-widgets/base",
          "model_name": "LayoutModel",
          "state": {
            "_view_name": "LayoutView",
            "grid_template_rows": null,
            "right": null,
            "justify_content": null,
            "_view_module": "@jupyter-widgets/base",
            "overflow": null,
            "_model_module_version": "1.2.0",
            "_view_count": null,
            "flex_flow": null,
            "width": null,
            "min_width": null,
            "border": null,
            "align_items": null,
            "bottom": null,
            "_model_module": "@jupyter-widgets/base",
            "top": null,
            "grid_column": null,
            "overflow_y": null,
            "overflow_x": null,
            "grid_auto_flow": null,
            "grid_area": null,
            "grid_template_columns": null,
            "flex": null,
            "_model_name": "LayoutModel",
            "justify_items": null,
            "grid_row": null,
            "max_height": null,
            "align_content": null,
            "visibility": null,
            "align_self": null,
            "height": null,
            "min_height": null,
            "padding": null,
            "grid_auto_rows": null,
            "grid_gap": null,
            "max_width": null,
            "order": null,
            "_view_module_version": "1.2.0",
            "grid_template_areas": null,
            "object_position": null,
            "object_fit": null,
            "grid_auto_columns": null,
            "margin": null,
            "display": null,
            "left": null
          }
        },
<<<<<<< HEAD
        "53301cc45ce641659e5a97396fe6ead1": {
=======
        "e57ff3ec86334999916fe9ef25848c7a": {
>>>>>>> 6c431331739c1dcdad618b816190999dbf20862b
          "model_module": "@jupyter-widgets/controls",
          "model_name": "DescriptionStyleModel",
          "state": {
            "_view_name": "StyleView",
            "_model_name": "DescriptionStyleModel",
            "description_width": "",
            "_view_module": "@jupyter-widgets/base",
            "_model_module_version": "1.5.0",
            "_view_count": null,
            "_view_module_version": "1.2.0",
            "_model_module": "@jupyter-widgets/controls"
          }
        },
<<<<<<< HEAD
        "c29d900b47f34c579ac67e3280ac7c2b": {
=======
        "a928cb95b5844a2fa5d5eb1a65b45b76": {
>>>>>>> 6c431331739c1dcdad618b816190999dbf20862b
          "model_module": "@jupyter-widgets/base",
          "model_name": "LayoutModel",
          "state": {
            "_view_name": "LayoutView",
            "grid_template_rows": null,
            "right": null,
            "justify_content": null,
            "_view_module": "@jupyter-widgets/base",
            "overflow": null,
            "_model_module_version": "1.2.0",
            "_view_count": null,
            "flex_flow": null,
            "width": null,
            "min_width": null,
            "border": null,
            "align_items": null,
            "bottom": null,
            "_model_module": "@jupyter-widgets/base",
            "top": null,
            "grid_column": null,
            "overflow_y": null,
            "overflow_x": null,
            "grid_auto_flow": null,
            "grid_area": null,
            "grid_template_columns": null,
            "flex": null,
            "_model_name": "LayoutModel",
            "justify_items": null,
            "grid_row": null,
            "max_height": null,
            "align_content": null,
            "visibility": null,
            "align_self": null,
            "height": null,
            "min_height": null,
            "padding": null,
            "grid_auto_rows": null,
            "grid_gap": null,
            "max_width": null,
            "order": null,
            "_view_module_version": "1.2.0",
            "grid_template_areas": null,
            "object_position": null,
            "object_fit": null,
            "grid_auto_columns": null,
            "margin": null,
            "display": null,
            "left": null
          }
        },
<<<<<<< HEAD
        "6f510c622ca14a51b26794e6c5346f96": {
=======
        "414d7d7134e9427984facdb46a0ff21e": {
>>>>>>> 6c431331739c1dcdad618b816190999dbf20862b
          "model_module": "@jupyter-widgets/controls",
          "model_name": "HBoxModel",
          "state": {
            "_view_name": "HBoxView",
            "_dom_classes": [],
            "_model_name": "HBoxModel",
            "_view_module": "@jupyter-widgets/controls",
            "_model_module_version": "1.5.0",
            "_view_count": null,
            "_view_module_version": "1.5.0",
            "box_style": "",
<<<<<<< HEAD
            "layout": "IPY_MODEL_17d91b82aade48f3a88258120d1450cf",
            "_model_module": "@jupyter-widgets/controls",
            "children": [
              "IPY_MODEL_16b54d8d93f44678820afefde05e6c5f",
              "IPY_MODEL_9e494b1a99d34b13b9eed6bbc155a592"
            ]
          }
        },
        "17d91b82aade48f3a88258120d1450cf": {
=======
            "layout": "IPY_MODEL_83a05f49d55d4b01bb0bb0b8bf036e62",
            "_model_module": "@jupyter-widgets/controls",
            "children": [
              "IPY_MODEL_4bc0b682afef4f05b36f5abbff621937",
              "IPY_MODEL_e84487e9539b411698673d2952efa1e7"
            ]
          }
        },
        "83a05f49d55d4b01bb0bb0b8bf036e62": {
>>>>>>> 6c431331739c1dcdad618b816190999dbf20862b
          "model_module": "@jupyter-widgets/base",
          "model_name": "LayoutModel",
          "state": {
            "_view_name": "LayoutView",
            "grid_template_rows": null,
            "right": null,
            "justify_content": null,
            "_view_module": "@jupyter-widgets/base",
            "overflow": null,
            "_model_module_version": "1.2.0",
            "_view_count": null,
            "flex_flow": null,
            "width": null,
            "min_width": null,
            "border": null,
            "align_items": null,
            "bottom": null,
            "_model_module": "@jupyter-widgets/base",
            "top": null,
            "grid_column": null,
            "overflow_y": null,
            "overflow_x": null,
            "grid_auto_flow": null,
            "grid_area": null,
            "grid_template_columns": null,
            "flex": null,
            "_model_name": "LayoutModel",
            "justify_items": null,
            "grid_row": null,
            "max_height": null,
            "align_content": null,
            "visibility": null,
            "align_self": null,
            "height": null,
            "min_height": null,
            "padding": null,
            "grid_auto_rows": null,
            "grid_gap": null,
            "max_width": null,
            "order": null,
            "_view_module_version": "1.2.0",
            "grid_template_areas": null,
            "object_position": null,
            "object_fit": null,
            "grid_auto_columns": null,
            "margin": null,
            "display": null,
            "left": null
          }
        },
<<<<<<< HEAD
        "16b54d8d93f44678820afefde05e6c5f": {
=======
        "4bc0b682afef4f05b36f5abbff621937": {
>>>>>>> 6c431331739c1dcdad618b816190999dbf20862b
          "model_module": "@jupyter-widgets/controls",
          "model_name": "FloatProgressModel",
          "state": {
            "_view_name": "ProgressView",
<<<<<<< HEAD
            "style": "IPY_MODEL_3b9530f39aaa462886c03f92f25dac4b",
=======
            "style": "IPY_MODEL_8a235f0ef740433ebb70a2f6e2cb439e",
>>>>>>> 6c431331739c1dcdad618b816190999dbf20862b
            "_dom_classes": [],
            "description": "100%",
            "_model_name": "FloatProgressModel",
            "bar_style": "success",
            "max": 868,
            "_view_module": "@jupyter-widgets/controls",
            "_model_module_version": "1.5.0",
            "value": 868,
            "_view_count": null,
            "_view_module_version": "1.5.0",
            "orientation": "horizontal",
            "min": 0,
            "description_tooltip": null,
            "_model_module": "@jupyter-widgets/controls",
<<<<<<< HEAD
            "layout": "IPY_MODEL_a4c4bd2a727249d7900ff3fb768711ec"
          }
        },
        "9e494b1a99d34b13b9eed6bbc155a592": {
=======
            "layout": "IPY_MODEL_b980b1157c044a59abc3d8354c150cbf"
          }
        },
        "e84487e9539b411698673d2952efa1e7": {
>>>>>>> 6c431331739c1dcdad618b816190999dbf20862b
          "model_module": "@jupyter-widgets/controls",
          "model_name": "HTMLModel",
          "state": {
            "_view_name": "HTMLView",
<<<<<<< HEAD
            "style": "IPY_MODEL_c0a08458d64340eabb227dbddb5acb54",
=======
            "style": "IPY_MODEL_2f5eca6264e74e4e98ad780dbb40466b",
>>>>>>> 6c431331739c1dcdad618b816190999dbf20862b
            "_dom_classes": [],
            "description": "",
            "_model_name": "HTMLModel",
            "placeholder": "​",
            "_view_module": "@jupyter-widgets/controls",
            "_model_module_version": "1.5.0",
<<<<<<< HEAD
            "value": " 868/868 [00:16&lt;00:00, 53.52it/s]",
=======
            "value": " 868/868 [01:06&lt;00:00, 13.04it/s]",
>>>>>>> 6c431331739c1dcdad618b816190999dbf20862b
            "_view_count": null,
            "_view_module_version": "1.5.0",
            "description_tooltip": null,
            "_model_module": "@jupyter-widgets/controls",
<<<<<<< HEAD
            "layout": "IPY_MODEL_0fa2c644bf774605843854325f8c48d8"
          }
        },
        "3b9530f39aaa462886c03f92f25dac4b": {
=======
            "layout": "IPY_MODEL_f5456d4532b04627a3612cacbf6aa415"
          }
        },
        "8a235f0ef740433ebb70a2f6e2cb439e": {
>>>>>>> 6c431331739c1dcdad618b816190999dbf20862b
          "model_module": "@jupyter-widgets/controls",
          "model_name": "ProgressStyleModel",
          "state": {
            "_view_name": "StyleView",
            "_model_name": "ProgressStyleModel",
            "description_width": "initial",
            "_view_module": "@jupyter-widgets/base",
            "_model_module_version": "1.5.0",
            "_view_count": null,
            "_view_module_version": "1.2.0",
            "bar_color": null,
            "_model_module": "@jupyter-widgets/controls"
          }
        },
<<<<<<< HEAD
        "a4c4bd2a727249d7900ff3fb768711ec": {
=======
        "b980b1157c044a59abc3d8354c150cbf": {
>>>>>>> 6c431331739c1dcdad618b816190999dbf20862b
          "model_module": "@jupyter-widgets/base",
          "model_name": "LayoutModel",
          "state": {
            "_view_name": "LayoutView",
            "grid_template_rows": null,
            "right": null,
            "justify_content": null,
            "_view_module": "@jupyter-widgets/base",
            "overflow": null,
            "_model_module_version": "1.2.0",
            "_view_count": null,
            "flex_flow": null,
            "width": null,
            "min_width": null,
            "border": null,
            "align_items": null,
            "bottom": null,
            "_model_module": "@jupyter-widgets/base",
            "top": null,
            "grid_column": null,
            "overflow_y": null,
            "overflow_x": null,
            "grid_auto_flow": null,
            "grid_area": null,
            "grid_template_columns": null,
            "flex": null,
            "_model_name": "LayoutModel",
            "justify_items": null,
            "grid_row": null,
            "max_height": null,
            "align_content": null,
            "visibility": null,
            "align_self": null,
            "height": null,
            "min_height": null,
            "padding": null,
            "grid_auto_rows": null,
            "grid_gap": null,
            "max_width": null,
            "order": null,
            "_view_module_version": "1.2.0",
            "grid_template_areas": null,
            "object_position": null,
            "object_fit": null,
            "grid_auto_columns": null,
            "margin": null,
            "display": null,
            "left": null
          }
        },
<<<<<<< HEAD
        "c0a08458d64340eabb227dbddb5acb54": {
=======
        "2f5eca6264e74e4e98ad780dbb40466b": {
>>>>>>> 6c431331739c1dcdad618b816190999dbf20862b
          "model_module": "@jupyter-widgets/controls",
          "model_name": "DescriptionStyleModel",
          "state": {
            "_view_name": "StyleView",
            "_model_name": "DescriptionStyleModel",
            "description_width": "",
            "_view_module": "@jupyter-widgets/base",
            "_model_module_version": "1.5.0",
            "_view_count": null,
            "_view_module_version": "1.2.0",
            "_model_module": "@jupyter-widgets/controls"
          }
        },
<<<<<<< HEAD
        "0fa2c644bf774605843854325f8c48d8": {
=======
        "f5456d4532b04627a3612cacbf6aa415": {
>>>>>>> 6c431331739c1dcdad618b816190999dbf20862b
          "model_module": "@jupyter-widgets/base",
          "model_name": "LayoutModel",
          "state": {
            "_view_name": "LayoutView",
            "grid_template_rows": null,
            "right": null,
            "justify_content": null,
            "_view_module": "@jupyter-widgets/base",
            "overflow": null,
            "_model_module_version": "1.2.0",
            "_view_count": null,
            "flex_flow": null,
            "width": null,
            "min_width": null,
            "border": null,
            "align_items": null,
            "bottom": null,
            "_model_module": "@jupyter-widgets/base",
            "top": null,
            "grid_column": null,
            "overflow_y": null,
            "overflow_x": null,
            "grid_auto_flow": null,
            "grid_area": null,
            "grid_template_columns": null,
            "flex": null,
            "_model_name": "LayoutModel",
            "justify_items": null,
            "grid_row": null,
            "max_height": null,
            "align_content": null,
            "visibility": null,
            "align_self": null,
            "height": null,
            "min_height": null,
            "padding": null,
            "grid_auto_rows": null,
            "grid_gap": null,
            "max_width": null,
            "order": null,
            "_view_module_version": "1.2.0",
            "grid_template_areas": null,
            "object_position": null,
            "object_fit": null,
            "grid_auto_columns": null,
            "margin": null,
            "display": null,
            "left": null
          }
        },
<<<<<<< HEAD
        "4716505376774c37b90d2b0307fadca2": {
=======
        "87d8690e999a403f90b7c67eb163239d": {
>>>>>>> 6c431331739c1dcdad618b816190999dbf20862b
          "model_module": "@jupyter-widgets/controls",
          "model_name": "HBoxModel",
          "state": {
            "_view_name": "HBoxView",
            "_dom_classes": [],
            "_model_name": "HBoxModel",
            "_view_module": "@jupyter-widgets/controls",
            "_model_module_version": "1.5.0",
            "_view_count": null,
            "_view_module_version": "1.5.0",
            "box_style": "",
<<<<<<< HEAD
            "layout": "IPY_MODEL_3beee21261fc400b93699cad9c1b982c",
            "_model_module": "@jupyter-widgets/controls",
            "children": [
              "IPY_MODEL_a52c2713e8e74062a394973f22f1ad82",
              "IPY_MODEL_ab59faee2e5e47baa75492532432e5a0"
            ]
          }
        },
        "3beee21261fc400b93699cad9c1b982c": {
=======
            "layout": "IPY_MODEL_b0b050e72d364c5aa46f05545c58ba90",
            "_model_module": "@jupyter-widgets/controls",
            "children": [
              "IPY_MODEL_c9058dc41f9443b3a76e4c7aedba5625",
              "IPY_MODEL_512992cc594b4e708d1ec32411f759a8"
            ]
          }
        },
        "b0b050e72d364c5aa46f05545c58ba90": {
>>>>>>> 6c431331739c1dcdad618b816190999dbf20862b
          "model_module": "@jupyter-widgets/base",
          "model_name": "LayoutModel",
          "state": {
            "_view_name": "LayoutView",
            "grid_template_rows": null,
            "right": null,
            "justify_content": null,
            "_view_module": "@jupyter-widgets/base",
            "overflow": null,
            "_model_module_version": "1.2.0",
            "_view_count": null,
            "flex_flow": null,
            "width": null,
            "min_width": null,
            "border": null,
            "align_items": null,
            "bottom": null,
            "_model_module": "@jupyter-widgets/base",
            "top": null,
            "grid_column": null,
            "overflow_y": null,
            "overflow_x": null,
            "grid_auto_flow": null,
            "grid_area": null,
            "grid_template_columns": null,
            "flex": null,
            "_model_name": "LayoutModel",
            "justify_items": null,
            "grid_row": null,
            "max_height": null,
            "align_content": null,
            "visibility": null,
            "align_self": null,
            "height": null,
            "min_height": null,
            "padding": null,
            "grid_auto_rows": null,
            "grid_gap": null,
            "max_width": null,
            "order": null,
            "_view_module_version": "1.2.0",
            "grid_template_areas": null,
            "object_position": null,
            "object_fit": null,
            "grid_auto_columns": null,
            "margin": null,
            "display": null,
            "left": null
          }
        },
<<<<<<< HEAD
        "a52c2713e8e74062a394973f22f1ad82": {
=======
        "c9058dc41f9443b3a76e4c7aedba5625": {
>>>>>>> 6c431331739c1dcdad618b816190999dbf20862b
          "model_module": "@jupyter-widgets/controls",
          "model_name": "FloatProgressModel",
          "state": {
            "_view_name": "ProgressView",
<<<<<<< HEAD
            "style": "IPY_MODEL_8f4dc542b6ae4114951ba6cad5250ef3",
=======
            "style": "IPY_MODEL_1c1b7d3b6c91481bb02660defde6f0a4",
>>>>>>> 6c431331739c1dcdad618b816190999dbf20862b
            "_dom_classes": [],
            "description": "100%",
            "_model_name": "FloatProgressModel",
            "bar_style": "success",
            "max": 868,
            "_view_module": "@jupyter-widgets/controls",
            "_model_module_version": "1.5.0",
            "value": 868,
            "_view_count": null,
            "_view_module_version": "1.5.0",
            "orientation": "horizontal",
            "min": 0,
            "description_tooltip": null,
            "_model_module": "@jupyter-widgets/controls",
<<<<<<< HEAD
            "layout": "IPY_MODEL_093906c8a038487cbf40efebc8fb3731"
          }
        },
        "ab59faee2e5e47baa75492532432e5a0": {
=======
            "layout": "IPY_MODEL_82fcfdbbca4e4f9bb9bbfb4ef121ef8d"
          }
        },
        "512992cc594b4e708d1ec32411f759a8": {
>>>>>>> 6c431331739c1dcdad618b816190999dbf20862b
          "model_module": "@jupyter-widgets/controls",
          "model_name": "HTMLModel",
          "state": {
            "_view_name": "HTMLView",
<<<<<<< HEAD
            "style": "IPY_MODEL_3eaa5f28a5e84be396ac8c666705eca7",
=======
            "style": "IPY_MODEL_f710c4787861457fad903bbc9e2d992f",
>>>>>>> 6c431331739c1dcdad618b816190999dbf20862b
            "_dom_classes": [],
            "description": "",
            "_model_name": "HTMLModel",
            "placeholder": "​",
            "_view_module": "@jupyter-widgets/controls",
            "_model_module_version": "1.5.0",
<<<<<<< HEAD
            "value": " 868/868 [00:10&lt;00:00, 79.70it/s]",
=======
            "value": " 868/868 [00:36&lt;00:00, 23.97it/s]",
>>>>>>> 6c431331739c1dcdad618b816190999dbf20862b
            "_view_count": null,
            "_view_module_version": "1.5.0",
            "description_tooltip": null,
            "_model_module": "@jupyter-widgets/controls",
<<<<<<< HEAD
            "layout": "IPY_MODEL_509256f822f94e93b4b5f2fa206a02d7"
          }
        },
        "8f4dc542b6ae4114951ba6cad5250ef3": {
=======
            "layout": "IPY_MODEL_fc0ead6d6c3947be89b5696f3b0ce0cf"
          }
        },
        "1c1b7d3b6c91481bb02660defde6f0a4": {
>>>>>>> 6c431331739c1dcdad618b816190999dbf20862b
          "model_module": "@jupyter-widgets/controls",
          "model_name": "ProgressStyleModel",
          "state": {
            "_view_name": "StyleView",
            "_model_name": "ProgressStyleModel",
            "description_width": "initial",
            "_view_module": "@jupyter-widgets/base",
            "_model_module_version": "1.5.0",
            "_view_count": null,
            "_view_module_version": "1.2.0",
            "bar_color": null,
            "_model_module": "@jupyter-widgets/controls"
          }
        },
<<<<<<< HEAD
        "093906c8a038487cbf40efebc8fb3731": {
=======
        "82fcfdbbca4e4f9bb9bbfb4ef121ef8d": {
>>>>>>> 6c431331739c1dcdad618b816190999dbf20862b
          "model_module": "@jupyter-widgets/base",
          "model_name": "LayoutModel",
          "state": {
            "_view_name": "LayoutView",
            "grid_template_rows": null,
            "right": null,
            "justify_content": null,
            "_view_module": "@jupyter-widgets/base",
            "overflow": null,
            "_model_module_version": "1.2.0",
            "_view_count": null,
            "flex_flow": null,
            "width": null,
            "min_width": null,
            "border": null,
            "align_items": null,
            "bottom": null,
            "_model_module": "@jupyter-widgets/base",
            "top": null,
            "grid_column": null,
            "overflow_y": null,
            "overflow_x": null,
            "grid_auto_flow": null,
            "grid_area": null,
            "grid_template_columns": null,
            "flex": null,
            "_model_name": "LayoutModel",
            "justify_items": null,
            "grid_row": null,
            "max_height": null,
            "align_content": null,
            "visibility": null,
            "align_self": null,
            "height": null,
            "min_height": null,
            "padding": null,
            "grid_auto_rows": null,
            "grid_gap": null,
            "max_width": null,
            "order": null,
            "_view_module_version": "1.2.0",
            "grid_template_areas": null,
            "object_position": null,
            "object_fit": null,
            "grid_auto_columns": null,
            "margin": null,
            "display": null,
            "left": null
          }
        },
<<<<<<< HEAD
        "3eaa5f28a5e84be396ac8c666705eca7": {
=======
        "f710c4787861457fad903bbc9e2d992f": {
>>>>>>> 6c431331739c1dcdad618b816190999dbf20862b
          "model_module": "@jupyter-widgets/controls",
          "model_name": "DescriptionStyleModel",
          "state": {
            "_view_name": "StyleView",
            "_model_name": "DescriptionStyleModel",
            "description_width": "",
            "_view_module": "@jupyter-widgets/base",
            "_model_module_version": "1.5.0",
            "_view_count": null,
            "_view_module_version": "1.2.0",
            "_model_module": "@jupyter-widgets/controls"
          }
        },
<<<<<<< HEAD
        "509256f822f94e93b4b5f2fa206a02d7": {
=======
        "fc0ead6d6c3947be89b5696f3b0ce0cf": {
>>>>>>> 6c431331739c1dcdad618b816190999dbf20862b
          "model_module": "@jupyter-widgets/base",
          "model_name": "LayoutModel",
          "state": {
            "_view_name": "LayoutView",
            "grid_template_rows": null,
            "right": null,
            "justify_content": null,
            "_view_module": "@jupyter-widgets/base",
            "overflow": null,
            "_model_module_version": "1.2.0",
            "_view_count": null,
            "flex_flow": null,
            "width": null,
            "min_width": null,
            "border": null,
            "align_items": null,
            "bottom": null,
            "_model_module": "@jupyter-widgets/base",
            "top": null,
            "grid_column": null,
            "overflow_y": null,
            "overflow_x": null,
            "grid_auto_flow": null,
            "grid_area": null,
            "grid_template_columns": null,
            "flex": null,
            "_model_name": "LayoutModel",
            "justify_items": null,
            "grid_row": null,
            "max_height": null,
            "align_content": null,
            "visibility": null,
            "align_self": null,
            "height": null,
            "min_height": null,
            "padding": null,
            "grid_auto_rows": null,
            "grid_gap": null,
            "max_width": null,
            "order": null,
            "_view_module_version": "1.2.0",
            "grid_template_areas": null,
            "object_position": null,
            "object_fit": null,
            "grid_auto_columns": null,
            "margin": null,
            "display": null,
            "left": null
          }
        },
<<<<<<< HEAD
        "2990ec885bf143a8bccf234abc94a773": {
=======
        "0a71d7c58ca2409786e252bb6f2469b2": {
>>>>>>> 6c431331739c1dcdad618b816190999dbf20862b
          "model_module": "@jupyter-widgets/controls",
          "model_name": "HBoxModel",
          "state": {
            "_view_name": "HBoxView",
            "_dom_classes": [],
            "_model_name": "HBoxModel",
            "_view_module": "@jupyter-widgets/controls",
            "_model_module_version": "1.5.0",
            "_view_count": null,
            "_view_module_version": "1.5.0",
            "box_style": "",
<<<<<<< HEAD
            "layout": "IPY_MODEL_5335f05fd2e243c38b793221a1fc28cb",
            "_model_module": "@jupyter-widgets/controls",
            "children": [
              "IPY_MODEL_3f548bebc7f2470994815898515d76ac",
              "IPY_MODEL_7509f8eb4b7a4cd79e23342b5027ed21"
            ]
          }
        },
        "5335f05fd2e243c38b793221a1fc28cb": {
=======
            "layout": "IPY_MODEL_3fd17a5b684740419fa8cf34da55103f",
            "_model_module": "@jupyter-widgets/controls",
            "children": [
              "IPY_MODEL_fbd87c0a872f45bb8a6c9b13f39b9a30",
              "IPY_MODEL_5e7ec32bebc74beab91685afdda3dcdf"
            ]
          }
        },
        "3fd17a5b684740419fa8cf34da55103f": {
>>>>>>> 6c431331739c1dcdad618b816190999dbf20862b
          "model_module": "@jupyter-widgets/base",
          "model_name": "LayoutModel",
          "state": {
            "_view_name": "LayoutView",
            "grid_template_rows": null,
            "right": null,
            "justify_content": null,
            "_view_module": "@jupyter-widgets/base",
            "overflow": null,
            "_model_module_version": "1.2.0",
            "_view_count": null,
            "flex_flow": null,
            "width": null,
            "min_width": null,
            "border": null,
            "align_items": null,
            "bottom": null,
            "_model_module": "@jupyter-widgets/base",
            "top": null,
            "grid_column": null,
            "overflow_y": null,
            "overflow_x": null,
            "grid_auto_flow": null,
            "grid_area": null,
            "grid_template_columns": null,
            "flex": null,
            "_model_name": "LayoutModel",
            "justify_items": null,
            "grid_row": null,
            "max_height": null,
            "align_content": null,
            "visibility": null,
            "align_self": null,
            "height": null,
            "min_height": null,
            "padding": null,
            "grid_auto_rows": null,
            "grid_gap": null,
            "max_width": null,
            "order": null,
            "_view_module_version": "1.2.0",
            "grid_template_areas": null,
            "object_position": null,
            "object_fit": null,
            "grid_auto_columns": null,
            "margin": null,
            "display": null,
            "left": null
          }
        },
<<<<<<< HEAD
        "3f548bebc7f2470994815898515d76ac": {
=======
        "fbd87c0a872f45bb8a6c9b13f39b9a30": {
>>>>>>> 6c431331739c1dcdad618b816190999dbf20862b
          "model_module": "@jupyter-widgets/controls",
          "model_name": "FloatProgressModel",
          "state": {
            "_view_name": "ProgressView",
<<<<<<< HEAD
            "style": "IPY_MODEL_08925cb5c7e943579587d4b446bbc3c9",
=======
            "style": "IPY_MODEL_39c5e929be3e4e068be8f5ed8e1ac3bd",
>>>>>>> 6c431331739c1dcdad618b816190999dbf20862b
            "_dom_classes": [],
            "description": "100%",
            "_model_name": "FloatProgressModel",
            "bar_style": "success",
            "max": 868,
            "_view_module": "@jupyter-widgets/controls",
            "_model_module_version": "1.5.0",
            "value": 868,
            "_view_count": null,
            "_view_module_version": "1.5.0",
            "orientation": "horizontal",
            "min": 0,
            "description_tooltip": null,
            "_model_module": "@jupyter-widgets/controls",
<<<<<<< HEAD
            "layout": "IPY_MODEL_d142c8e9db2f4e38aca4f061f53e69df"
          }
        },
        "7509f8eb4b7a4cd79e23342b5027ed21": {
=======
            "layout": "IPY_MODEL_9994f7e174b54fd285dcd9fd61c3f7d5"
          }
        },
        "5e7ec32bebc74beab91685afdda3dcdf": {
>>>>>>> 6c431331739c1dcdad618b816190999dbf20862b
          "model_module": "@jupyter-widgets/controls",
          "model_name": "HTMLModel",
          "state": {
            "_view_name": "HTMLView",
<<<<<<< HEAD
            "style": "IPY_MODEL_52eb1bac7ba14bb697d06e62d2141493",
=======
            "style": "IPY_MODEL_c09473e7b8cb47c08fee178422667802",
>>>>>>> 6c431331739c1dcdad618b816190999dbf20862b
            "_dom_classes": [],
            "description": "",
            "_model_name": "HTMLModel",
            "placeholder": "​",
            "_view_module": "@jupyter-widgets/controls",
            "_model_module_version": "1.5.0",
<<<<<<< HEAD
            "value": " 868/868 [00:05&lt;00:00, 158.53it/s]",
=======
            "value": " 868/868 [00:25&lt;00:00, 34.27it/s]",
>>>>>>> 6c431331739c1dcdad618b816190999dbf20862b
            "_view_count": null,
            "_view_module_version": "1.5.0",
            "description_tooltip": null,
            "_model_module": "@jupyter-widgets/controls",
<<<<<<< HEAD
            "layout": "IPY_MODEL_d51b4033306545cf8a7f563ef52056cf"
          }
        },
        "08925cb5c7e943579587d4b446bbc3c9": {
=======
            "layout": "IPY_MODEL_fb9c77b68b344d41a13daab72aeada45"
          }
        },
        "39c5e929be3e4e068be8f5ed8e1ac3bd": {
>>>>>>> 6c431331739c1dcdad618b816190999dbf20862b
          "model_module": "@jupyter-widgets/controls",
          "model_name": "ProgressStyleModel",
          "state": {
            "_view_name": "StyleView",
            "_model_name": "ProgressStyleModel",
            "description_width": "initial",
            "_view_module": "@jupyter-widgets/base",
            "_model_module_version": "1.5.0",
            "_view_count": null,
            "_view_module_version": "1.2.0",
            "bar_color": null,
            "_model_module": "@jupyter-widgets/controls"
          }
        },
<<<<<<< HEAD
        "d142c8e9db2f4e38aca4f061f53e69df": {
=======
        "9994f7e174b54fd285dcd9fd61c3f7d5": {
>>>>>>> 6c431331739c1dcdad618b816190999dbf20862b
          "model_module": "@jupyter-widgets/base",
          "model_name": "LayoutModel",
          "state": {
            "_view_name": "LayoutView",
            "grid_template_rows": null,
            "right": null,
            "justify_content": null,
            "_view_module": "@jupyter-widgets/base",
            "overflow": null,
            "_model_module_version": "1.2.0",
            "_view_count": null,
            "flex_flow": null,
            "width": null,
            "min_width": null,
            "border": null,
            "align_items": null,
            "bottom": null,
            "_model_module": "@jupyter-widgets/base",
            "top": null,
            "grid_column": null,
            "overflow_y": null,
            "overflow_x": null,
            "grid_auto_flow": null,
            "grid_area": null,
            "grid_template_columns": null,
            "flex": null,
            "_model_name": "LayoutModel",
            "justify_items": null,
            "grid_row": null,
            "max_height": null,
            "align_content": null,
            "visibility": null,
            "align_self": null,
            "height": null,
            "min_height": null,
            "padding": null,
            "grid_auto_rows": null,
            "grid_gap": null,
            "max_width": null,
            "order": null,
            "_view_module_version": "1.2.0",
            "grid_template_areas": null,
            "object_position": null,
            "object_fit": null,
            "grid_auto_columns": null,
            "margin": null,
            "display": null,
            "left": null
          }
        },
<<<<<<< HEAD
        "52eb1bac7ba14bb697d06e62d2141493": {
=======
        "c09473e7b8cb47c08fee178422667802": {
>>>>>>> 6c431331739c1dcdad618b816190999dbf20862b
          "model_module": "@jupyter-widgets/controls",
          "model_name": "DescriptionStyleModel",
          "state": {
            "_view_name": "StyleView",
            "_model_name": "DescriptionStyleModel",
            "description_width": "",
            "_view_module": "@jupyter-widgets/base",
            "_model_module_version": "1.5.0",
            "_view_count": null,
            "_view_module_version": "1.2.0",
            "_model_module": "@jupyter-widgets/controls"
          }
        },
<<<<<<< HEAD
        "d51b4033306545cf8a7f563ef52056cf": {
=======
        "fb9c77b68b344d41a13daab72aeada45": {
>>>>>>> 6c431331739c1dcdad618b816190999dbf20862b
          "model_module": "@jupyter-widgets/base",
          "model_name": "LayoutModel",
          "state": {
            "_view_name": "LayoutView",
            "grid_template_rows": null,
            "right": null,
            "justify_content": null,
            "_view_module": "@jupyter-widgets/base",
            "overflow": null,
            "_model_module_version": "1.2.0",
            "_view_count": null,
            "flex_flow": null,
            "width": null,
            "min_width": null,
            "border": null,
            "align_items": null,
            "bottom": null,
            "_model_module": "@jupyter-widgets/base",
            "top": null,
            "grid_column": null,
            "overflow_y": null,
            "overflow_x": null,
            "grid_auto_flow": null,
            "grid_area": null,
            "grid_template_columns": null,
            "flex": null,
            "_model_name": "LayoutModel",
            "justify_items": null,
            "grid_row": null,
            "max_height": null,
            "align_content": null,
            "visibility": null,
            "align_self": null,
            "height": null,
            "min_height": null,
            "padding": null,
            "grid_auto_rows": null,
            "grid_gap": null,
            "max_width": null,
            "order": null,
            "_view_module_version": "1.2.0",
            "grid_template_areas": null,
            "object_position": null,
            "object_fit": null,
            "grid_auto_columns": null,
            "margin": null,
            "display": null,
            "left": null
          }
        },
<<<<<<< HEAD
        "b640c3c410574a4c9be3c043df30a0bd": {
=======
        "f52918a73f6c41258a5ef9b899a225d3": {
>>>>>>> 6c431331739c1dcdad618b816190999dbf20862b
          "model_module": "@jupyter-widgets/controls",
          "model_name": "HBoxModel",
          "state": {
            "_view_name": "HBoxView",
            "_dom_classes": [],
            "_model_name": "HBoxModel",
            "_view_module": "@jupyter-widgets/controls",
            "_model_module_version": "1.5.0",
            "_view_count": null,
            "_view_module_version": "1.5.0",
            "box_style": "",
<<<<<<< HEAD
            "layout": "IPY_MODEL_8c5ad9441f9e4b9e9a84483ee57240ec",
            "_model_module": "@jupyter-widgets/controls",
            "children": [
              "IPY_MODEL_d9a72264b5ec44b49ec8e98c045c5006",
              "IPY_MODEL_bd974d4ebb6e4f6ca374d406ff94cc37"
            ]
          }
        },
        "8c5ad9441f9e4b9e9a84483ee57240ec": {
=======
            "layout": "IPY_MODEL_44f8c1837e7244b78bd0c84d03cbd97b",
            "_model_module": "@jupyter-widgets/controls",
            "children": [
              "IPY_MODEL_2f24a43afa924fd8966a6f96c13648d4",
              "IPY_MODEL_dc6a3ff3ec3345d18722959f411e48c1"
            ]
          }
        },
        "44f8c1837e7244b78bd0c84d03cbd97b": {
>>>>>>> 6c431331739c1dcdad618b816190999dbf20862b
          "model_module": "@jupyter-widgets/base",
          "model_name": "LayoutModel",
          "state": {
            "_view_name": "LayoutView",
            "grid_template_rows": null,
            "right": null,
            "justify_content": null,
            "_view_module": "@jupyter-widgets/base",
            "overflow": null,
            "_model_module_version": "1.2.0",
            "_view_count": null,
            "flex_flow": null,
            "width": null,
            "min_width": null,
            "border": null,
            "align_items": null,
            "bottom": null,
            "_model_module": "@jupyter-widgets/base",
            "top": null,
            "grid_column": null,
            "overflow_y": null,
            "overflow_x": null,
            "grid_auto_flow": null,
            "grid_area": null,
            "grid_template_columns": null,
            "flex": null,
            "_model_name": "LayoutModel",
            "justify_items": null,
            "grid_row": null,
            "max_height": null,
            "align_content": null,
            "visibility": null,
            "align_self": null,
            "height": null,
            "min_height": null,
            "padding": null,
            "grid_auto_rows": null,
            "grid_gap": null,
            "max_width": null,
            "order": null,
            "_view_module_version": "1.2.0",
            "grid_template_areas": null,
            "object_position": null,
            "object_fit": null,
            "grid_auto_columns": null,
            "margin": null,
            "display": null,
            "left": null
          }
        },
<<<<<<< HEAD
        "d9a72264b5ec44b49ec8e98c045c5006": {
=======
        "2f24a43afa924fd8966a6f96c13648d4": {
>>>>>>> 6c431331739c1dcdad618b816190999dbf20862b
          "model_module": "@jupyter-widgets/controls",
          "model_name": "FloatProgressModel",
          "state": {
            "_view_name": "ProgressView",
<<<<<<< HEAD
            "style": "IPY_MODEL_cd3b0c4a7913464daee9046d91f50a4e",
=======
            "style": "IPY_MODEL_7df02271b3464ca38c86796a3e7f5d28",
>>>>>>> 6c431331739c1dcdad618b816190999dbf20862b
            "_dom_classes": [],
            "description": "100%",
            "_model_name": "FloatProgressModel",
            "bar_style": "success",
            "max": 868,
            "_view_module": "@jupyter-widgets/controls",
            "_model_module_version": "1.5.0",
            "value": 868,
            "_view_count": null,
            "_view_module_version": "1.5.0",
            "orientation": "horizontal",
            "min": 0,
            "description_tooltip": null,
            "_model_module": "@jupyter-widgets/controls",
<<<<<<< HEAD
            "layout": "IPY_MODEL_5fa99646868e4c2abadaa4bd55765f0e"
          }
        },
        "bd974d4ebb6e4f6ca374d406ff94cc37": {
=======
            "layout": "IPY_MODEL_6dafe1678f1746eaacfa22d43167ae4d"
          }
        },
        "dc6a3ff3ec3345d18722959f411e48c1": {
>>>>>>> 6c431331739c1dcdad618b816190999dbf20862b
          "model_module": "@jupyter-widgets/controls",
          "model_name": "HTMLModel",
          "state": {
            "_view_name": "HTMLView",
<<<<<<< HEAD
            "style": "IPY_MODEL_a5e9b4202277464095b725c6bcffb926",
=======
            "style": "IPY_MODEL_123be0bcd0674a0eb24a0bf4abc2a545",
>>>>>>> 6c431331739c1dcdad618b816190999dbf20862b
            "_dom_classes": [],
            "description": "",
            "_model_name": "HTMLModel",
            "placeholder": "​",
            "_view_module": "@jupyter-widgets/controls",
            "_model_module_version": "1.5.0",
<<<<<<< HEAD
            "value": " 868/868 [00:05&lt;00:00, 157.67it/s]",
=======
            "value": " 868/868 [00:14&lt;00:00, 59.99it/s]",
>>>>>>> 6c431331739c1dcdad618b816190999dbf20862b
            "_view_count": null,
            "_view_module_version": "1.5.0",
            "description_tooltip": null,
            "_model_module": "@jupyter-widgets/controls",
<<<<<<< HEAD
            "layout": "IPY_MODEL_c1515b7bb8914d14acae1c2b96df3bb4"
          }
        },
        "cd3b0c4a7913464daee9046d91f50a4e": {
=======
            "layout": "IPY_MODEL_ae42cbebfc944145bda686c19319b672"
          }
        },
        "7df02271b3464ca38c86796a3e7f5d28": {
>>>>>>> 6c431331739c1dcdad618b816190999dbf20862b
          "model_module": "@jupyter-widgets/controls",
          "model_name": "ProgressStyleModel",
          "state": {
            "_view_name": "StyleView",
            "_model_name": "ProgressStyleModel",
            "description_width": "initial",
            "_view_module": "@jupyter-widgets/base",
            "_model_module_version": "1.5.0",
            "_view_count": null,
            "_view_module_version": "1.2.0",
            "bar_color": null,
            "_model_module": "@jupyter-widgets/controls"
          }
        },
<<<<<<< HEAD
        "5fa99646868e4c2abadaa4bd55765f0e": {
=======
        "6dafe1678f1746eaacfa22d43167ae4d": {
>>>>>>> 6c431331739c1dcdad618b816190999dbf20862b
          "model_module": "@jupyter-widgets/base",
          "model_name": "LayoutModel",
          "state": {
            "_view_name": "LayoutView",
            "grid_template_rows": null,
            "right": null,
            "justify_content": null,
            "_view_module": "@jupyter-widgets/base",
            "overflow": null,
            "_model_module_version": "1.2.0",
            "_view_count": null,
            "flex_flow": null,
            "width": null,
            "min_width": null,
            "border": null,
            "align_items": null,
            "bottom": null,
            "_model_module": "@jupyter-widgets/base",
            "top": null,
            "grid_column": null,
            "overflow_y": null,
            "overflow_x": null,
            "grid_auto_flow": null,
            "grid_area": null,
            "grid_template_columns": null,
            "flex": null,
            "_model_name": "LayoutModel",
            "justify_items": null,
            "grid_row": null,
            "max_height": null,
            "align_content": null,
            "visibility": null,
            "align_self": null,
            "height": null,
            "min_height": null,
            "padding": null,
            "grid_auto_rows": null,
            "grid_gap": null,
            "max_width": null,
            "order": null,
            "_view_module_version": "1.2.0",
            "grid_template_areas": null,
            "object_position": null,
            "object_fit": null,
            "grid_auto_columns": null,
            "margin": null,
            "display": null,
            "left": null
          }
        },
<<<<<<< HEAD
        "a5e9b4202277464095b725c6bcffb926": {
=======
        "123be0bcd0674a0eb24a0bf4abc2a545": {
>>>>>>> 6c431331739c1dcdad618b816190999dbf20862b
          "model_module": "@jupyter-widgets/controls",
          "model_name": "DescriptionStyleModel",
          "state": {
            "_view_name": "StyleView",
            "_model_name": "DescriptionStyleModel",
            "description_width": "",
            "_view_module": "@jupyter-widgets/base",
            "_model_module_version": "1.5.0",
            "_view_count": null,
            "_view_module_version": "1.2.0",
            "_model_module": "@jupyter-widgets/controls"
          }
        },
<<<<<<< HEAD
        "c1515b7bb8914d14acae1c2b96df3bb4": {
=======
        "ae42cbebfc944145bda686c19319b672": {
>>>>>>> 6c431331739c1dcdad618b816190999dbf20862b
          "model_module": "@jupyter-widgets/base",
          "model_name": "LayoutModel",
          "state": {
            "_view_name": "LayoutView",
            "grid_template_rows": null,
            "right": null,
            "justify_content": null,
            "_view_module": "@jupyter-widgets/base",
            "overflow": null,
            "_model_module_version": "1.2.0",
            "_view_count": null,
            "flex_flow": null,
            "width": null,
            "min_width": null,
            "border": null,
            "align_items": null,
            "bottom": null,
            "_model_module": "@jupyter-widgets/base",
            "top": null,
            "grid_column": null,
            "overflow_y": null,
            "overflow_x": null,
            "grid_auto_flow": null,
            "grid_area": null,
            "grid_template_columns": null,
            "flex": null,
            "_model_name": "LayoutModel",
            "justify_items": null,
            "grid_row": null,
            "max_height": null,
            "align_content": null,
            "visibility": null,
            "align_self": null,
            "height": null,
            "min_height": null,
            "padding": null,
            "grid_auto_rows": null,
            "grid_gap": null,
            "max_width": null,
            "order": null,
            "_view_module_version": "1.2.0",
            "grid_template_areas": null,
            "object_position": null,
            "object_fit": null,
            "grid_auto_columns": null,
            "margin": null,
            "display": null,
            "left": null
          }
        },
<<<<<<< HEAD
        "0339110c3d8f4726ba709937e9c486c3": {
=======
        "ae1d78ee540c43f6b1ecf8e203c0e90d": {
>>>>>>> 6c431331739c1dcdad618b816190999dbf20862b
          "model_module": "@jupyter-widgets/controls",
          "model_name": "HBoxModel",
          "state": {
            "_view_name": "HBoxView",
            "_dom_classes": [],
            "_model_name": "HBoxModel",
            "_view_module": "@jupyter-widgets/controls",
            "_model_module_version": "1.5.0",
            "_view_count": null,
            "_view_module_version": "1.5.0",
            "box_style": "",
<<<<<<< HEAD
            "layout": "IPY_MODEL_07df23446ace4807af031956a169c0da",
            "_model_module": "@jupyter-widgets/controls",
            "children": [
              "IPY_MODEL_fd546b469bd342138cd2bd53e067410a",
              "IPY_MODEL_99452296f5dd425988b7c011414b6511"
            ]
          }
        },
        "07df23446ace4807af031956a169c0da": {
=======
            "layout": "IPY_MODEL_df56a3a78d904de3baf64442f3388097",
            "_model_module": "@jupyter-widgets/controls",
            "children": [
              "IPY_MODEL_399ed0edba5047ca8927a76bd1e72d7a",
              "IPY_MODEL_9032b18e0baa4e98bf61152d3e4f4998"
            ]
          }
        },
        "df56a3a78d904de3baf64442f3388097": {
>>>>>>> 6c431331739c1dcdad618b816190999dbf20862b
          "model_module": "@jupyter-widgets/base",
          "model_name": "LayoutModel",
          "state": {
            "_view_name": "LayoutView",
            "grid_template_rows": null,
            "right": null,
            "justify_content": null,
            "_view_module": "@jupyter-widgets/base",
            "overflow": null,
            "_model_module_version": "1.2.0",
            "_view_count": null,
            "flex_flow": null,
            "width": null,
            "min_width": null,
            "border": null,
            "align_items": null,
            "bottom": null,
            "_model_module": "@jupyter-widgets/base",
            "top": null,
            "grid_column": null,
            "overflow_y": null,
            "overflow_x": null,
            "grid_auto_flow": null,
            "grid_area": null,
            "grid_template_columns": null,
            "flex": null,
            "_model_name": "LayoutModel",
            "justify_items": null,
            "grid_row": null,
            "max_height": null,
            "align_content": null,
            "visibility": null,
            "align_self": null,
            "height": null,
            "min_height": null,
            "padding": null,
            "grid_auto_rows": null,
            "grid_gap": null,
            "max_width": null,
            "order": null,
            "_view_module_version": "1.2.0",
            "grid_template_areas": null,
            "object_position": null,
            "object_fit": null,
            "grid_auto_columns": null,
            "margin": null,
            "display": null,
            "left": null
          }
        },
<<<<<<< HEAD
        "fd546b469bd342138cd2bd53e067410a": {
=======
        "399ed0edba5047ca8927a76bd1e72d7a": {
>>>>>>> 6c431331739c1dcdad618b816190999dbf20862b
          "model_module": "@jupyter-widgets/controls",
          "model_name": "FloatProgressModel",
          "state": {
            "_view_name": "ProgressView",
<<<<<<< HEAD
            "style": "IPY_MODEL_be1e29ef42314da5ae226c711b7ffe8b",
            "_dom_classes": [],
            "description": " 23%",
            "_model_name": "FloatProgressModel",
            "bar_style": "",
            "max": 868,
            "_view_module": "@jupyter-widgets/controls",
            "_model_module_version": "1.5.0",
            "value": 199,
=======
            "style": "IPY_MODEL_6d455cef950140e190369ce351d1aec2",
            "_dom_classes": [],
            "description": "100%",
            "_model_name": "FloatProgressModel",
            "bar_style": "success",
            "max": 868,
            "_view_module": "@jupyter-widgets/controls",
            "_model_module_version": "1.5.0",
            "value": 868,
            "_view_count": null,
            "_view_module_version": "1.5.0",
            "orientation": "horizontal",
            "min": 0,
            "description_tooltip": null,
            "_model_module": "@jupyter-widgets/controls",
            "layout": "IPY_MODEL_6463438d5aaa4993a36b840cee147813"
          }
        },
        "9032b18e0baa4e98bf61152d3e4f4998": {
          "model_module": "@jupyter-widgets/controls",
          "model_name": "HTMLModel",
          "state": {
            "_view_name": "HTMLView",
            "style": "IPY_MODEL_996a2b5d50cd4715a59c16a1e9ab4383",
            "_dom_classes": [],
            "description": "",
            "_model_name": "HTMLModel",
            "placeholder": "​",
            "_view_module": "@jupyter-widgets/controls",
            "_model_module_version": "1.5.0",
            "value": " 868/868 [00:23&lt;00:00, 37.72it/s]",
            "_view_count": null,
            "_view_module_version": "1.5.0",
            "description_tooltip": null,
            "_model_module": "@jupyter-widgets/controls",
            "layout": "IPY_MODEL_fe1a6f65b8664257a72eb0df2a807e72"
          }
        },
        "6d455cef950140e190369ce351d1aec2": {
          "model_module": "@jupyter-widgets/controls",
          "model_name": "ProgressStyleModel",
          "state": {
            "_view_name": "StyleView",
            "_model_name": "ProgressStyleModel",
            "description_width": "initial",
            "_view_module": "@jupyter-widgets/base",
            "_model_module_version": "1.5.0",
            "_view_count": null,
            "_view_module_version": "1.2.0",
            "bar_color": null,
            "_model_module": "@jupyter-widgets/controls"
          }
        },
        "6463438d5aaa4993a36b840cee147813": {
          "model_module": "@jupyter-widgets/base",
          "model_name": "LayoutModel",
          "state": {
            "_view_name": "LayoutView",
            "grid_template_rows": null,
            "right": null,
            "justify_content": null,
            "_view_module": "@jupyter-widgets/base",
            "overflow": null,
            "_model_module_version": "1.2.0",
            "_view_count": null,
            "flex_flow": null,
            "width": null,
            "min_width": null,
            "border": null,
            "align_items": null,
            "bottom": null,
            "_model_module": "@jupyter-widgets/base",
            "top": null,
            "grid_column": null,
            "overflow_y": null,
            "overflow_x": null,
            "grid_auto_flow": null,
            "grid_area": null,
            "grid_template_columns": null,
            "flex": null,
            "_model_name": "LayoutModel",
            "justify_items": null,
            "grid_row": null,
            "max_height": null,
            "align_content": null,
            "visibility": null,
            "align_self": null,
            "height": null,
            "min_height": null,
            "padding": null,
            "grid_auto_rows": null,
            "grid_gap": null,
            "max_width": null,
            "order": null,
            "_view_module_version": "1.2.0",
            "grid_template_areas": null,
            "object_position": null,
            "object_fit": null,
            "grid_auto_columns": null,
            "margin": null,
            "display": null,
            "left": null
          }
        },
        "996a2b5d50cd4715a59c16a1e9ab4383": {
          "model_module": "@jupyter-widgets/controls",
          "model_name": "DescriptionStyleModel",
          "state": {
            "_view_name": "StyleView",
            "_model_name": "DescriptionStyleModel",
            "description_width": "",
            "_view_module": "@jupyter-widgets/base",
            "_model_module_version": "1.5.0",
            "_view_count": null,
            "_view_module_version": "1.2.0",
            "_model_module": "@jupyter-widgets/controls"
          }
        },
        "fe1a6f65b8664257a72eb0df2a807e72": {
          "model_module": "@jupyter-widgets/base",
          "model_name": "LayoutModel",
          "state": {
            "_view_name": "LayoutView",
            "grid_template_rows": null,
            "right": null,
            "justify_content": null,
            "_view_module": "@jupyter-widgets/base",
            "overflow": null,
            "_model_module_version": "1.2.0",
            "_view_count": null,
            "flex_flow": null,
            "width": null,
            "min_width": null,
            "border": null,
            "align_items": null,
            "bottom": null,
            "_model_module": "@jupyter-widgets/base",
            "top": null,
            "grid_column": null,
            "overflow_y": null,
            "overflow_x": null,
            "grid_auto_flow": null,
            "grid_area": null,
            "grid_template_columns": null,
            "flex": null,
            "_model_name": "LayoutModel",
            "justify_items": null,
            "grid_row": null,
            "max_height": null,
            "align_content": null,
            "visibility": null,
            "align_self": null,
            "height": null,
            "min_height": null,
            "padding": null,
            "grid_auto_rows": null,
            "grid_gap": null,
            "max_width": null,
            "order": null,
            "_view_module_version": "1.2.0",
            "grid_template_areas": null,
            "object_position": null,
            "object_fit": null,
            "grid_auto_columns": null,
            "margin": null,
            "display": null,
            "left": null
          }
        },
        "8199688cb23049afb2657d6eb249721a": {
          "model_module": "@jupyter-widgets/controls",
          "model_name": "HBoxModel",
          "state": {
            "_view_name": "HBoxView",
            "_dom_classes": [],
            "_model_name": "HBoxModel",
            "_view_module": "@jupyter-widgets/controls",
            "_model_module_version": "1.5.0",
            "_view_count": null,
            "_view_module_version": "1.5.0",
            "box_style": "",
            "layout": "IPY_MODEL_6e6340bb4f0e4435a775ac75e55e5baf",
            "_model_module": "@jupyter-widgets/controls",
            "children": [
              "IPY_MODEL_d2eda822c62a485cb0b1d271117181f6",
              "IPY_MODEL_38cd06c3318c4708b8b058fdc6f43a11"
            ]
          }
        },
        "6e6340bb4f0e4435a775ac75e55e5baf": {
          "model_module": "@jupyter-widgets/base",
          "model_name": "LayoutModel",
          "state": {
            "_view_name": "LayoutView",
            "grid_template_rows": null,
            "right": null,
            "justify_content": null,
            "_view_module": "@jupyter-widgets/base",
            "overflow": null,
            "_model_module_version": "1.2.0",
            "_view_count": null,
            "flex_flow": null,
            "width": null,
            "min_width": null,
            "border": null,
            "align_items": null,
            "bottom": null,
            "_model_module": "@jupyter-widgets/base",
            "top": null,
            "grid_column": null,
            "overflow_y": null,
            "overflow_x": null,
            "grid_auto_flow": null,
            "grid_area": null,
            "grid_template_columns": null,
            "flex": null,
            "_model_name": "LayoutModel",
            "justify_items": null,
            "grid_row": null,
            "max_height": null,
            "align_content": null,
            "visibility": null,
            "align_self": null,
            "height": null,
            "min_height": null,
            "padding": null,
            "grid_auto_rows": null,
            "grid_gap": null,
            "max_width": null,
            "order": null,
            "_view_module_version": "1.2.0",
            "grid_template_areas": null,
            "object_position": null,
            "object_fit": null,
            "grid_auto_columns": null,
            "margin": null,
            "display": null,
            "left": null
          }
        },
        "d2eda822c62a485cb0b1d271117181f6": {
          "model_module": "@jupyter-widgets/controls",
          "model_name": "FloatProgressModel",
          "state": {
            "_view_name": "ProgressView",
            "style": "IPY_MODEL_794f01798c3c4ba3b8aea9407a8213e8",
            "_dom_classes": [],
            "description": "100%",
            "_model_name": "FloatProgressModel",
            "bar_style": "success",
            "max": 868,
            "_view_module": "@jupyter-widgets/controls",
            "_model_module_version": "1.5.0",
            "value": 868,
            "_view_count": null,
            "_view_module_version": "1.5.0",
            "orientation": "horizontal",
            "min": 0,
            "description_tooltip": null,
            "_model_module": "@jupyter-widgets/controls",
            "layout": "IPY_MODEL_1f9250c131034082ac6b4ac4fcb24940"
          }
        },
        "38cd06c3318c4708b8b058fdc6f43a11": {
          "model_module": "@jupyter-widgets/controls",
          "model_name": "HTMLModel",
          "state": {
            "_view_name": "HTMLView",
            "style": "IPY_MODEL_7ed0d44f74a7496ba021d4cd5a8149e1",
            "_dom_classes": [],
            "description": "",
            "_model_name": "HTMLModel",
            "placeholder": "​",
            "_view_module": "@jupyter-widgets/controls",
            "_model_module_version": "1.5.0",
            "value": " 868/868 [00:12&lt;00:00, 72.08it/s]",
            "_view_count": null,
            "_view_module_version": "1.5.0",
            "description_tooltip": null,
            "_model_module": "@jupyter-widgets/controls",
            "layout": "IPY_MODEL_5bd05b7d61464024af37db4fbeb7e2c6"
          }
        },
        "794f01798c3c4ba3b8aea9407a8213e8": {
          "model_module": "@jupyter-widgets/controls",
          "model_name": "ProgressStyleModel",
          "state": {
            "_view_name": "StyleView",
            "_model_name": "ProgressStyleModel",
            "description_width": "initial",
            "_view_module": "@jupyter-widgets/base",
            "_model_module_version": "1.5.0",
            "_view_count": null,
            "_view_module_version": "1.2.0",
            "bar_color": null,
            "_model_module": "@jupyter-widgets/controls"
          }
        },
        "1f9250c131034082ac6b4ac4fcb24940": {
          "model_module": "@jupyter-widgets/base",
          "model_name": "LayoutModel",
          "state": {
            "_view_name": "LayoutView",
            "grid_template_rows": null,
            "right": null,
            "justify_content": null,
            "_view_module": "@jupyter-widgets/base",
            "overflow": null,
            "_model_module_version": "1.2.0",
            "_view_count": null,
            "flex_flow": null,
            "width": null,
            "min_width": null,
            "border": null,
            "align_items": null,
            "bottom": null,
            "_model_module": "@jupyter-widgets/base",
            "top": null,
            "grid_column": null,
            "overflow_y": null,
            "overflow_x": null,
            "grid_auto_flow": null,
            "grid_area": null,
            "grid_template_columns": null,
            "flex": null,
            "_model_name": "LayoutModel",
            "justify_items": null,
            "grid_row": null,
            "max_height": null,
            "align_content": null,
            "visibility": null,
            "align_self": null,
            "height": null,
            "min_height": null,
            "padding": null,
            "grid_auto_rows": null,
            "grid_gap": null,
            "max_width": null,
            "order": null,
            "_view_module_version": "1.2.0",
            "grid_template_areas": null,
            "object_position": null,
            "object_fit": null,
            "grid_auto_columns": null,
            "margin": null,
            "display": null,
            "left": null
          }
        },
        "7ed0d44f74a7496ba021d4cd5a8149e1": {
          "model_module": "@jupyter-widgets/controls",
          "model_name": "DescriptionStyleModel",
          "state": {
            "_view_name": "StyleView",
            "_model_name": "DescriptionStyleModel",
            "description_width": "",
            "_view_module": "@jupyter-widgets/base",
            "_model_module_version": "1.5.0",
            "_view_count": null,
            "_view_module_version": "1.2.0",
            "_model_module": "@jupyter-widgets/controls"
          }
        },
        "5bd05b7d61464024af37db4fbeb7e2c6": {
          "model_module": "@jupyter-widgets/base",
          "model_name": "LayoutModel",
          "state": {
            "_view_name": "LayoutView",
            "grid_template_rows": null,
            "right": null,
            "justify_content": null,
            "_view_module": "@jupyter-widgets/base",
            "overflow": null,
            "_model_module_version": "1.2.0",
            "_view_count": null,
            "flex_flow": null,
            "width": null,
            "min_width": null,
            "border": null,
            "align_items": null,
            "bottom": null,
            "_model_module": "@jupyter-widgets/base",
            "top": null,
            "grid_column": null,
            "overflow_y": null,
            "overflow_x": null,
            "grid_auto_flow": null,
            "grid_area": null,
            "grid_template_columns": null,
            "flex": null,
            "_model_name": "LayoutModel",
            "justify_items": null,
            "grid_row": null,
            "max_height": null,
            "align_content": null,
            "visibility": null,
            "align_self": null,
            "height": null,
            "min_height": null,
            "padding": null,
            "grid_auto_rows": null,
            "grid_gap": null,
            "max_width": null,
            "order": null,
            "_view_module_version": "1.2.0",
            "grid_template_areas": null,
            "object_position": null,
            "object_fit": null,
            "grid_auto_columns": null,
            "margin": null,
            "display": null,
            "left": null
          }
        },
        "87564c1cad6f4e9d8b07e3f35c24c565": {
          "model_module": "@jupyter-widgets/controls",
          "model_name": "HBoxModel",
          "state": {
            "_view_name": "HBoxView",
            "_dom_classes": [],
            "_model_name": "HBoxModel",
            "_view_module": "@jupyter-widgets/controls",
            "_model_module_version": "1.5.0",
            "_view_count": null,
            "_view_module_version": "1.5.0",
            "box_style": "",
            "layout": "IPY_MODEL_8967022b39d7470ab2cac401f7364896",
            "_model_module": "@jupyter-widgets/controls",
            "children": [
              "IPY_MODEL_3062f5d8056d4a9ab853000485dc2347",
              "IPY_MODEL_f24a1e12b045425ea27b3c9aff14ae48"
            ]
          }
        },
        "8967022b39d7470ab2cac401f7364896": {
          "model_module": "@jupyter-widgets/base",
          "model_name": "LayoutModel",
          "state": {
            "_view_name": "LayoutView",
            "grid_template_rows": null,
            "right": null,
            "justify_content": null,
            "_view_module": "@jupyter-widgets/base",
            "overflow": null,
            "_model_module_version": "1.2.0",
            "_view_count": null,
            "flex_flow": null,
            "width": null,
            "min_width": null,
            "border": null,
            "align_items": null,
            "bottom": null,
            "_model_module": "@jupyter-widgets/base",
            "top": null,
            "grid_column": null,
            "overflow_y": null,
            "overflow_x": null,
            "grid_auto_flow": null,
            "grid_area": null,
            "grid_template_columns": null,
            "flex": null,
            "_model_name": "LayoutModel",
            "justify_items": null,
            "grid_row": null,
            "max_height": null,
            "align_content": null,
            "visibility": null,
            "align_self": null,
            "height": null,
            "min_height": null,
            "padding": null,
            "grid_auto_rows": null,
            "grid_gap": null,
            "max_width": null,
            "order": null,
            "_view_module_version": "1.2.0",
            "grid_template_areas": null,
            "object_position": null,
            "object_fit": null,
            "grid_auto_columns": null,
            "margin": null,
            "display": null,
            "left": null
          }
        },
        "3062f5d8056d4a9ab853000485dc2347": {
          "model_module": "@jupyter-widgets/controls",
          "model_name": "FloatProgressModel",
          "state": {
            "_view_name": "ProgressView",
            "style": "IPY_MODEL_ad2e2a5ac8554f94acc2a5845f903329",
            "_dom_classes": [],
            "description": "100%",
            "_model_name": "FloatProgressModel",
            "bar_style": "success",
            "max": 217,
            "_view_module": "@jupyter-widgets/controls",
            "_model_module_version": "1.5.0",
            "value": 217,
>>>>>>> 6c431331739c1dcdad618b816190999dbf20862b
            "_view_count": null,
            "_view_module_version": "1.5.0",
            "orientation": "horizontal",
            "min": 0,
            "description_tooltip": null,
            "_model_module": "@jupyter-widgets/controls",
<<<<<<< HEAD
            "layout": "IPY_MODEL_446d788c384347889b6d1390c52ef18f"
          }
        },
        "99452296f5dd425988b7c011414b6511": {
=======
            "layout": "IPY_MODEL_e87fe5e86c2a4d7695de0df0064ecf6a"
          }
        },
        "f24a1e12b045425ea27b3c9aff14ae48": {
>>>>>>> 6c431331739c1dcdad618b816190999dbf20862b
          "model_module": "@jupyter-widgets/controls",
          "model_name": "HTMLModel",
          "state": {
            "_view_name": "HTMLView",
<<<<<<< HEAD
            "style": "IPY_MODEL_4e5cd8cd19334af3b5ce34785338a1b3",
=======
            "style": "IPY_MODEL_df6248f4b983416b90915f0560d1fcf7",
>>>>>>> 6c431331739c1dcdad618b816190999dbf20862b
            "_dom_classes": [],
            "description": "",
            "_model_name": "HTMLModel",
            "placeholder": "​",
            "_view_module": "@jupyter-widgets/controls",
            "_model_module_version": "1.5.0",
<<<<<<< HEAD
            "value": " 199/868 [00:01&lt;00:04, 162.96it/s]",
=======
            "value": " 217/217 [00:01&lt;00:00, 193.96it/s]",
>>>>>>> 6c431331739c1dcdad618b816190999dbf20862b
            "_view_count": null,
            "_view_module_version": "1.5.0",
            "description_tooltip": null,
            "_model_module": "@jupyter-widgets/controls",
<<<<<<< HEAD
            "layout": "IPY_MODEL_a9072fe8f1a1411eaeb44fe6df285bbd"
          }
        },
        "be1e29ef42314da5ae226c711b7ffe8b": {
=======
            "layout": "IPY_MODEL_ccd2e90545a7485393324a3aa22c463b"
          }
        },
        "ad2e2a5ac8554f94acc2a5845f903329": {
>>>>>>> 6c431331739c1dcdad618b816190999dbf20862b
          "model_module": "@jupyter-widgets/controls",
          "model_name": "ProgressStyleModel",
          "state": {
            "_view_name": "StyleView",
            "_model_name": "ProgressStyleModel",
            "description_width": "initial",
            "_view_module": "@jupyter-widgets/base",
            "_model_module_version": "1.5.0",
            "_view_count": null,
            "_view_module_version": "1.2.0",
            "bar_color": null,
            "_model_module": "@jupyter-widgets/controls"
          }
        },
<<<<<<< HEAD
        "446d788c384347889b6d1390c52ef18f": {
=======
        "e87fe5e86c2a4d7695de0df0064ecf6a": {
>>>>>>> 6c431331739c1dcdad618b816190999dbf20862b
          "model_module": "@jupyter-widgets/base",
          "model_name": "LayoutModel",
          "state": {
            "_view_name": "LayoutView",
            "grid_template_rows": null,
            "right": null,
            "justify_content": null,
            "_view_module": "@jupyter-widgets/base",
            "overflow": null,
            "_model_module_version": "1.2.0",
            "_view_count": null,
            "flex_flow": null,
            "width": null,
            "min_width": null,
            "border": null,
            "align_items": null,
            "bottom": null,
            "_model_module": "@jupyter-widgets/base",
            "top": null,
            "grid_column": null,
            "overflow_y": null,
            "overflow_x": null,
            "grid_auto_flow": null,
            "grid_area": null,
            "grid_template_columns": null,
            "flex": null,
            "_model_name": "LayoutModel",
            "justify_items": null,
            "grid_row": null,
            "max_height": null,
            "align_content": null,
            "visibility": null,
            "align_self": null,
            "height": null,
            "min_height": null,
            "padding": null,
            "grid_auto_rows": null,
            "grid_gap": null,
            "max_width": null,
            "order": null,
            "_view_module_version": "1.2.0",
            "grid_template_areas": null,
            "object_position": null,
            "object_fit": null,
            "grid_auto_columns": null,
            "margin": null,
            "display": null,
            "left": null
          }
        },
<<<<<<< HEAD
        "4e5cd8cd19334af3b5ce34785338a1b3": {
=======
        "df6248f4b983416b90915f0560d1fcf7": {
>>>>>>> 6c431331739c1dcdad618b816190999dbf20862b
          "model_module": "@jupyter-widgets/controls",
          "model_name": "DescriptionStyleModel",
          "state": {
            "_view_name": "StyleView",
            "_model_name": "DescriptionStyleModel",
            "description_width": "",
            "_view_module": "@jupyter-widgets/base",
            "_model_module_version": "1.5.0",
            "_view_count": null,
            "_view_module_version": "1.2.0",
            "_model_module": "@jupyter-widgets/controls"
          }
        },
<<<<<<< HEAD
        "a9072fe8f1a1411eaeb44fe6df285bbd": {
=======
        "ccd2e90545a7485393324a3aa22c463b": {
>>>>>>> 6c431331739c1dcdad618b816190999dbf20862b
          "model_module": "@jupyter-widgets/base",
          "model_name": "LayoutModel",
          "state": {
            "_view_name": "LayoutView",
            "grid_template_rows": null,
            "right": null,
            "justify_content": null,
            "_view_module": "@jupyter-widgets/base",
            "overflow": null,
            "_model_module_version": "1.2.0",
            "_view_count": null,
            "flex_flow": null,
            "width": null,
            "min_width": null,
            "border": null,
            "align_items": null,
            "bottom": null,
            "_model_module": "@jupyter-widgets/base",
            "top": null,
            "grid_column": null,
            "overflow_y": null,
            "overflow_x": null,
            "grid_auto_flow": null,
            "grid_area": null,
            "grid_template_columns": null,
            "flex": null,
            "_model_name": "LayoutModel",
            "justify_items": null,
            "grid_row": null,
            "max_height": null,
            "align_content": null,
            "visibility": null,
            "align_self": null,
            "height": null,
            "min_height": null,
            "padding": null,
            "grid_auto_rows": null,
            "grid_gap": null,
            "max_width": null,
            "order": null,
            "_view_module_version": "1.2.0",
            "grid_template_areas": null,
            "object_position": null,
            "object_fit": null,
            "grid_auto_columns": null,
            "margin": null,
            "display": null,
            "left": null
          }
        }
      }
    },
    "accelerator": "GPU"
  },
  "cells": [
    {
      "cell_type": "markdown",
      "metadata": {
        "id": "view-in-github",
        "colab_type": "text"
      },
      "source": [
        "<a href=\"https://colab.research.google.com/github/abhinavtembulkar/galaxyCNNclassifier/blob/master/galaxyCNN.ipynb\" target=\"_parent\"><img src=\"https://colab.research.google.com/assets/colab-badge.svg\" alt=\"Open In Colab\"/></a>"
      ]
    },
    {
      "cell_type": "markdown",
      "metadata": {
        "id": "lswqPI24YsXs",
        "colab_type": "text"
      },
      "source": [
        "# GALAXY TYPE IDENTIFIER\n",
        "- Here, we are given a dataset of 21000 images of galaxies\n",
        "- Our task is to classify them using CNN"
      ]
    },
    {
      "cell_type": "markdown",
      "metadata": {
        "id": "M5cZxAHeY4oY",
        "colab_type": "text"
      },
      "source": [
        "## Fetching Dataset"
      ]
    },
    {
      "cell_type": "code",
      "metadata": {
        "id": "lZb833u0nBXr",
        "colab_type": "code",
        "colab": {
          "base_uri": "https://localhost:8080/",
<<<<<<< HEAD
          "height": 241
        },
        "outputId": "de3b984e-33cd-4c69-d2ee-ffbbead03bb3"
=======
          "height": 206
        },
        "outputId": "1e83847c-ef85-495f-c4f9-d99618e82371"
>>>>>>> 6c431331739c1dcdad618b816190999dbf20862b
      },
      "source": [
        "! mkdir /dataset\n",
        "! wget http://astro.utoronto.ca/~bovy/Galaxy10/Galaxy10.h5 -P ./dataset"
      ],
<<<<<<< HEAD
      "execution_count": null,
=======
      "execution_count": 1,
>>>>>>> 6c431331739c1dcdad618b816190999dbf20862b
      "outputs": [
        {
          "output_type": "stream",
          "text": [
<<<<<<< HEAD
            "mkdir: cannot create directory ‘/dataset’: File exists\n",
            "--2020-07-24 08:17:49--  http://astro.utoronto.ca/~bovy/Galaxy10/Galaxy10.h5\n",
=======
            "--2020-08-12 17:29:54--  http://astro.utoronto.ca/~bovy/Galaxy10/Galaxy10.h5\n",
>>>>>>> 6c431331739c1dcdad618b816190999dbf20862b
            "Resolving astro.utoronto.ca (astro.utoronto.ca)... 128.100.89.2\n",
            "Connecting to astro.utoronto.ca (astro.utoronto.ca)|128.100.89.2|:80... connected.\n",
            "HTTP request sent, awaiting response... 200 OK\n",
            "Length: 210234548 (200M) [text/plain]\n",
<<<<<<< HEAD
            "Saving to: ‘./dataset/Galaxy10.h5.5’\n",
            "\n",
            "Galaxy10.h5.5       100%[===================>] 200.50M  13.1MB/s    in 20s     \n",
            "\n",
            "2020-07-24 08:18:09 (9.93 MB/s) - ‘./dataset/Galaxy10.h5.5’ saved [210234548/210234548]\n",
=======
            "Saving to: ‘./dataset/Galaxy10.h5’\n",
            "\n",
            "Galaxy10.h5         100%[===================>] 200.50M  30.9MB/s    in 9.4s    \n",
            "\n",
            "2020-08-12 17:30:04 (21.3 MB/s) - ‘./dataset/Galaxy10.h5’ saved [210234548/210234548]\n",
>>>>>>> 6c431331739c1dcdad618b816190999dbf20862b
            "\n"
          ],
          "name": "stdout"
        }
      ]
    },
    {
      "cell_type": "markdown",
      "metadata": {
        "id": "-j-8jU49ZNU4",
        "colab_type": "text"
      },
      "source": [
        "## Plotting images\n",
        "- We are reading a .h5 file to plot images\n",
        "- Plot using matplotlib"
      ]
    },
    {
      "cell_type": "code",
      "metadata": {
        "id": "6yaZ9kamro0T",
        "colab_type": "code",
        "colab": {
          "base_uri": "https://localhost:8080/",
          "height": 299
        },
<<<<<<< HEAD
        "outputId": "c97d63a3-1680-48e6-aa2d-351422029c7a"
=======
        "outputId": "c03b18fa-598c-4bc1-efd0-6fcfcc7da179"
>>>>>>> 6c431331739c1dcdad618b816190999dbf20862b
      },
      "source": [
        "import h5py\n",
        "import numpy as np\n",
        "import cv2\n",
        "import matplotlib.pyplot as plt\n",
        "import random\n",
        "\n",
        "with h5py.File('./dataset/Galaxy10.h5','r') as f:\n",
        "  print(f['images'])\n",
        "  images = np.array(f['images'])\n",
        "  labels = np.array(f['ans'])\n",
        "\n",
        "imag = images[random.randrange(len(images))].reshape(-1,1)\n",
        "plt.plot(imag)\n",
        "print(len(images))"
      ],
<<<<<<< HEAD
      "execution_count": null,
=======
      "execution_count": 2,
>>>>>>> 6c431331739c1dcdad618b816190999dbf20862b
      "outputs": [
        {
          "output_type": "stream",
          "text": [
            "<HDF5 dataset \"images\": shape (21785, 69, 69, 3), type \"|u1\">\n",
            "21785\n"
          ],
          "name": "stdout"
        },
        {
          "output_type": "display_data",
          "data": {
<<<<<<< HEAD
            "image/png": "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\n",
=======
            "image/png": "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\n",
>>>>>>> 6c431331739c1dcdad618b816190999dbf20862b
            "text/plain": [
              "<Figure size 432x288 with 1 Axes>"
            ]
          },
          "metadata": {
            "tags": [],
            "needs_background": "light"
          }
        }
      ]
    },
    {
      "cell_type": "code",
      "metadata": {
        "id": "znc_6yShnRf7",
        "colab_type": "code",
        "colab": {
          "base_uri": "https://localhost:8080/",
          "height": 298
        },
<<<<<<< HEAD
        "outputId": "db70b817-5da8-4f5e-cd05-da398ac47cb5"
=======
        "outputId": "dba6f19f-4053-47c3-b750-40997c60efe4"
>>>>>>> 6c431331739c1dcdad618b816190999dbf20862b
      },
      "source": [
        "import random\n",
        "\n",
        "index = random.randrange(len(images))\n",
        "plt.imshow(images[index])\n",
        "plt.title(str(labels[index]))"
      ],
<<<<<<< HEAD
      "execution_count": null,
=======
      "execution_count": 3,
>>>>>>> 6c431331739c1dcdad618b816190999dbf20862b
      "outputs": [
        {
          "output_type": "execute_result",
          "data": {
            "text/plain": [
<<<<<<< HEAD
              "Text(0.5, 1.0, '0')"
=======
              "Text(0.5, 1.0, '1')"
>>>>>>> 6c431331739c1dcdad618b816190999dbf20862b
            ]
          },
          "metadata": {
            "tags": []
          },
<<<<<<< HEAD
          "execution_count": 104
=======
          "execution_count": 3
>>>>>>> 6c431331739c1dcdad618b816190999dbf20862b
        },
        {
          "output_type": "display_data",
          "data": {
<<<<<<< HEAD
            "image/png": "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\n",
=======
            "image/png": "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\n",
>>>>>>> 6c431331739c1dcdad618b816190999dbf20862b
            "text/plain": [
              "<Figure size 432x288 with 1 Axes>"
            ]
          },
          "metadata": {
            "tags": [],
            "needs_background": "light"
          }
        }
      ]
    },
    {
      "cell_type": "markdown",
      "metadata": {
        "id": "r33adbOAZZBi",
        "colab_type": "text"
      },
      "source": [
        "## Making Classifier ie. CNN\n",
        "- We make a CNN and a fully connected layer at end\n",
        "- model is very sentitve to batch size !"
      ]
    },
    {
      "cell_type": "code",
      "metadata": {
        "id": "u8XCPBV3ljXU",
        "colab_type": "code",
        "colab": {}
      },
      "source": [
        "import torch\n",
        "import torch.nn as nn\n",
        "import torch.nn.functional as F\n",
        "from torchvision import transforms,datasets\n",
        "import time"
      ],
<<<<<<< HEAD
      "execution_count": null,
=======
      "execution_count": 4,
>>>>>>> 6c431331739c1dcdad618b816190999dbf20862b
      "outputs": []
    },
    {
      "cell_type": "code",
      "metadata": {
        "id": "dU22UPRyb_8e",
        "colab_type": "code",
        "colab": {}
      },
      "source": [
        "BATCH_SIZE = 20"
      ],
<<<<<<< HEAD
      "execution_count": null,
=======
      "execution_count": 5,
>>>>>>> 6c431331739c1dcdad618b816190999dbf20862b
      "outputs": []
    },
    {
      "cell_type": "markdown",
      "metadata": {
        "id": "3STS3jjrpSMp",
        "colab_type": "text"
      },
      "source": [
        "## Organising data into batches"
      ]
    },
    {
      "cell_type": "code",
      "metadata": {
        "id": "f8dQa4tO1lee",
        "colab_type": "code",
        "colab": {}
      },
      "source": [
        "#print(len(images[:-5]))\n",
        "\n",
        "images = images[:-85]\n",
        "labels = labels[:-85]\n",
        "limit = int(0.8*len(images))\n",
        "\n",
        "trainimages = torch.Tensor(images[:limit])\n",
        "trainlabels = torch.Tensor(labels[:limit])\n",
        "\n",
        "testimages = torch.Tensor(images[limit:])\n",
        "testlabels = torch.Tensor(labels[limit:])\n",
        "\n",
        "trains = torch.utils.data.TensorDataset(trainimages,trainlabels)\n",
        "trainloader = torch.utils.data.DataLoader(trains,BATCH_SIZE,True)\n",
        "\n",
        "tests = torch.utils.data.TensorDataset(testimages,testlabels)\n",
        "testloader = torch.utils.data.DataLoader(tests,BATCH_SIZE,True)"
      ],
<<<<<<< HEAD
      "execution_count": null,
=======
      "execution_count": 6,
>>>>>>> 6c431331739c1dcdad618b816190999dbf20862b
      "outputs": []
    },
    {
      "cell_type": "code",
      "metadata": {
        "id": "ubp0vO6xyLhE",
        "colab_type": "code",
        "colab": {
          "base_uri": "https://localhost:8080/",
          "height": 34
        },
<<<<<<< HEAD
        "outputId": "1b63964b-47e6-4e38-91b4-456bf07b92e2"
=======
        "outputId": "cbf879b6-95a2-45f0-dd23-2a3f5b294398"
>>>>>>> 6c431331739c1dcdad618b816190999dbf20862b
      },
      "source": [
        "images.shape"
      ],
<<<<<<< HEAD
      "execution_count": null,
=======
      "execution_count": 7,
>>>>>>> 6c431331739c1dcdad618b816190999dbf20862b
      "outputs": [
        {
          "output_type": "execute_result",
          "data": {
            "text/plain": [
              "(21700, 69, 69, 3)"
            ]
          },
          "metadata": {
            "tags": []
          },
<<<<<<< HEAD
          "execution_count": 108
=======
          "execution_count": 7
>>>>>>> 6c431331739c1dcdad618b816190999dbf20862b
        }
      ]
    },
    {
      "cell_type": "code",
      "metadata": {
        "id": "ydcn38s0xZy0",
        "colab_type": "code",
        "colab": {
          "base_uri": "https://localhost:8080/",
          "height": 34
        },
<<<<<<< HEAD
        "outputId": "14fe9cda-7be5-4599-db84-266a8e49bae1"
=======
        "outputId": "c89964db-e18e-423f-cc77-ebd5db08a4e5"
>>>>>>> 6c431331739c1dcdad618b816190999dbf20862b
      },
      "source": [
        "images.shape"
      ],
<<<<<<< HEAD
      "execution_count": null,
=======
      "execution_count": 8,
>>>>>>> 6c431331739c1dcdad618b816190999dbf20862b
      "outputs": [
        {
          "output_type": "execute_result",
          "data": {
            "text/plain": [
              "(21700, 69, 69, 3)"
            ]
          },
          "metadata": {
            "tags": []
          },
<<<<<<< HEAD
          "execution_count": 109
=======
          "execution_count": 8
>>>>>>> 6c431331739c1dcdad618b816190999dbf20862b
        }
      ]
    },
    {
      "cell_type": "code",
      "metadata": {
        "id": "sslq8y0Xx0JB",
        "colab_type": "code",
        "colab": {
          "base_uri": "https://localhost:8080/",
          "height": 34
        },
<<<<<<< HEAD
        "outputId": "95932590-0df8-4613-eb23-9dcee1e97f11"
=======
        "outputId": "07f3eb68-654d-4cc4-dddd-8909f32eb74a"
>>>>>>> 6c431331739c1dcdad618b816190999dbf20862b
      },
      "source": [
        "len(tests)"
      ],
<<<<<<< HEAD
      "execution_count": null,
=======
      "execution_count": 9,
>>>>>>> 6c431331739c1dcdad618b816190999dbf20862b
      "outputs": [
        {
          "output_type": "execute_result",
          "data": {
            "text/plain": [
              "4340"
            ]
          },
          "metadata": {
            "tags": []
          },
<<<<<<< HEAD
          "execution_count": 110
=======
          "execution_count": 9
>>>>>>> 6c431331739c1dcdad618b816190999dbf20862b
        }
      ]
    },
    {
      "cell_type": "code",
      "metadata": {
        "id": "y5sxBTEVzRRa",
        "colab_type": "code",
        "colab": {
          "base_uri": "https://localhost:8080/",
          "height": 34
        },
<<<<<<< HEAD
        "outputId": "0bc8d12b-3d84-4c2f-bb55-6559fd6640f6"
=======
        "outputId": "770676d0-c9b3-4e38-c43a-8cce82da461d"
>>>>>>> 6c431331739c1dcdad618b816190999dbf20862b
      },
      "source": [
        "len(trains)"
      ],
<<<<<<< HEAD
      "execution_count": null,
=======
      "execution_count": 10,
>>>>>>> 6c431331739c1dcdad618b816190999dbf20862b
      "outputs": [
        {
          "output_type": "execute_result",
          "data": {
            "text/plain": [
              "17360"
            ]
          },
          "metadata": {
            "tags": []
          },
<<<<<<< HEAD
          "execution_count": 111
=======
          "execution_count": 10
>>>>>>> 6c431331739c1dcdad618b816190999dbf20862b
        }
      ]
    },
    {
      "cell_type": "code",
      "metadata": {
        "id": "FfLQ8Pb0YQkF",
        "colab_type": "code",
        "colab": {
          "base_uri": "https://localhost:8080/",
<<<<<<< HEAD
          "height": 68
        },
        "outputId": "7d62c0f5-1cdb-40ae-bb2d-3a4c1608145f"
=======
          "height": 69
        },
        "outputId": "56230213-fd8e-4e91-828a-5ab50f0f1e9a"
>>>>>>> 6c431331739c1dcdad618b816190999dbf20862b
      },
      "source": [
        "print(limit)\n",
        "print(len(trainloader))\n",
        "print(len(testloader))"
      ],
<<<<<<< HEAD
      "execution_count": null,
=======
      "execution_count": 11,
>>>>>>> 6c431331739c1dcdad618b816190999dbf20862b
      "outputs": [
        {
          "output_type": "stream",
          "text": [
            "17360\n",
            "868\n",
            "217\n"
          ],
          "name": "stdout"
        }
      ]
    },
    {
      "cell_type": "markdown",
      "metadata": {
        "id": "5rpy0R_IpX6s",
        "colab_type": "text"
      },
      "source": [
        "## NN model"
      ]
    },
    {
      "cell_type": "code",
      "metadata": {
        "id": "b4GT_SIQZ1hH",
        "colab_type": "code",
        "colab": {}
      },
      "source": [
        "class galaxyCNN (nn.Module):\n",
        "  def __init__(self,linear_dimen):\n",
        "    super().__init__()\n",
        "\n",
        "    #input channels are 3 , hence conv1 is 3,32\n",
        "    self.conv1 = nn.Conv2d(3,32,kernel_size=2)\n",
        "    self.conv2 = nn.Conv2d(32,64,kernel_size=2)\n",
        "    self.conv3 = nn.Conv2d(64,128,kernel_size=2)\n",
        "    self.conv4 = nn.Conv2d(128,512,kernel_size=2)\n",
        "\n",
        "    self.linear_dimen = linear_dimen\n",
        "    self.fc1 = nn.Linear(self.linear_dimen,1024)\n",
        "    self.fc2 = nn.Linear(1024,10)\n",
        "\n",
        "  def forward(self,x):\n",
        "    x = F.relu(self.conv1(x))\n",
        "    x = F.max_pool2d(x,kernel_size=2)\n",
        "    x = F.relu(self.conv2(x))\n",
        "    x = F.max_pool2d(x,kernel_size=2)\n",
        "    x = F.relu(self.conv3(x))\n",
        "    x = F.max_pool2d(x,kernel_size=2)\n",
        "    x = F.relu(self.conv4(x))\n",
        "    x = F.max_pool2d(x,kernel_size=2)\n",
        "    #print(x.shape/BATCH_Si)\n",
        "    #self.linear_dimen=x.shape//BATCH_SIZE\n",
        "\n",
        "    #x = x.view(-1,self.linear_dimen)\n",
        "    #x = torch.flatten(x)\n",
        "    x = x.view(BATCH_SIZE,self.linear_dimen)\n",
        "    x = F.relu(self.fc1(x))\n",
        "    y = self.fc2(x)\n",
        "\n",
        "    return y"
      ],
<<<<<<< HEAD
      "execution_count": null,
=======
      "execution_count": 12,
>>>>>>> 6c431331739c1dcdad618b816190999dbf20862b
      "outputs": []
    },
    {
      "cell_type": "code",
      "metadata": {
        "id": "kWy_8Zuu9SZD",
        "colab_type": "code",
        "colab": {
          "base_uri": "https://localhost:8080/",
          "height": 34
        },
<<<<<<< HEAD
        "outputId": "96a598ab-6ab4-4967-9fff-72d8c2325bd1"
=======
        "outputId": "c5cc0230-6d28-45d3-f27a-ff39a14aca7c"
>>>>>>> 6c431331739c1dcdad618b816190999dbf20862b
      },
      "source": [
        "want_gpu = True\n",
        "if torch.cuda.is_available() and want_gpu:\n",
        "  device = torch.device('cuda:0')\n",
        "  print('running on gpu')\n",
        "else:\n",
        "    device = torch.device('cpu')\n",
        "    print('running on cpu')"
      ],
<<<<<<< HEAD
      "execution_count": null,
=======
      "execution_count": 13,
>>>>>>> 6c431331739c1dcdad618b816190999dbf20862b
      "outputs": [
        {
          "output_type": "stream",
          "text": [
            "running on gpu\n"
          ],
          "name": "stdout"
        }
      ]
    },
    {
      "cell_type": "code",
      "metadata": {
        "id": "N8hh1xNaxDIN",
        "colab_type": "code",
        "colab": {}
      },
      "source": [
        "#image.shape"
      ],
<<<<<<< HEAD
      "execution_count": null,
=======
      "execution_count": 14,
>>>>>>> 6c431331739c1dcdad618b816190999dbf20862b
      "outputs": []
    },
    {
      "cell_type": "code",
      "metadata": {
        "id": "Ib1tHysJ7fC5",
        "colab_type": "code",
        "colab": {}
      },
      "source": [
        "galaxyModel = galaxyCNN(linear_dimen=128*6*6).to(device)\n",
        "Loss = nn.CrossEntropyLoss()\n",
        "optimizer = torch.optim.Adam(galaxyModel.parameters(),lr=0.0001)"
      ],
<<<<<<< HEAD
      "execution_count": null,
=======
      "execution_count": 15,
>>>>>>> 6c431331739c1dcdad618b816190999dbf20862b
      "outputs": []
    },
    {
      "cell_type": "code",
      "metadata": {
        "id": "i2zWcw9oytiD",
        "colab_type": "code",
        "colab": {
          "base_uri": "https://localhost:8080/",
<<<<<<< HEAD
          "height": 69
        },
        "outputId": "9e21acb2-4fbe-421c-a864-459889f3e14e"
=======
          "height": 52
        },
        "outputId": "987c41c5-0b0d-4f7a-fc20-358886978603"
>>>>>>> 6c431331739c1dcdad618b816190999dbf20862b
      },
      "source": [
        "\"\"\"\n",
        "galaxyModel.conv1.requires_grad_=True\n",
        "galaxyModel.conv2.requires_grad_=True\n",
        "galaxyModel.conv3.requires_grad_=True\n",
        "galaxyModel.conv4.requires_grad_=True\n",
        "\n",
        "galaxyModel.fc1.requires_grad_=True\n",
        "galaxyModel.fc2.requires_grad=True\n",
        "\"\"\""
      ],
<<<<<<< HEAD
      "execution_count": null,
=======
      "execution_count": 16,
>>>>>>> 6c431331739c1dcdad618b816190999dbf20862b
      "outputs": [
        {
          "output_type": "execute_result",
          "data": {
            "application/vnd.google.colaboratory.intrinsic+json": {
              "type": "string"
            },
            "text/plain": [
              "'\\ngalaxyModel.conv1.requires_grad_=True\\ngalaxyModel.conv2.requires_grad_=True\\ngalaxyModel.conv3.requires_grad_=True\\ngalaxyModel.conv4.requires_grad_=True\\n\\ngalaxyModel.fc1.requires_grad_=True\\ngalaxyModel.fc2.requires_grad=True\\n'"
            ]
          },
          "metadata": {
            "tags": []
          },
<<<<<<< HEAD
          "execution_count": 117
=======
          "execution_count": 16
>>>>>>> 6c431331739c1dcdad618b816190999dbf20862b
        }
      ]
    },
    {
      "cell_type": "markdown",
      "metadata": {
        "id": "YUZTuVNopfER",
        "colab_type": "text"
      },
      "source": [
        "## Training model on trainset"
      ]
    },
    {
      "cell_type": "code",
      "metadata": {
        "id": "JLMfnuIU7Jk4",
        "colab_type": "code",
        "colab": {
          "base_uri": "https://localhost:8080/",
<<<<<<< HEAD
          "height": 441,
          "referenced_widgets": [
            "20ac4ad6519d49719ca7ec5f8d99ae22",
            "347c6934882b4aaea344ea00fd3d41c2",
            "5c281898ed8f4332b19d485c57efaef8",
            "e32866d2eb3d4544a2abe3ad7331f0f0",
            "a7f0b38dd5764965ba78dc72c2175d41",
            "87261ff502ab43f78bffc623a8b34cad",
            "03f310d439944696b266ef5ba8118525",
            "16d41caf573c448c9611b35557a4f4c0",
            "471c4ee7f5754ee48941fc0a7cfc7eb2",
            "9f580cd8e1f24ec2b84c41033f45a62c",
            "9d260cc217ec45da83bdec9ce4ffeea2",
            "2f76648a99cd4fedbb2dc8199c19cc55",
            "4fd164c25a1343359b924fa71dff5f8c",
            "0b21436c5fa34063820ecbbaa152a52d",
            "8edffb13e0a34c09a3ab8bc0c21ab148",
            "d62f04ddfa22446a997f0931ba86841c",
            "ed894ed10c4e44b1876983a4e6aa7363",
            "d27fd97e64614e47827c4f1aa1ab2b18",
            "ef463fd5cbea4590a63c3f8866d1fff1",
            "93c7f74b6ade4d3296acaad8c1b4373e",
            "994df0bb225943fcb79fbab7bef7fc2a",
            "c0bf2d14b7734c9096075930c571ad3e",
            "e4ec29546eea468f972a098a3072308a",
            "7ff527ac0b1a432bb7a124e3e5edaebd",
            "8bb803a8b83f4f948bb38284bdc81381",
            "06288c708ce245c692faa835c23593fa",
            "a9d1e6302ec848c8881d3de7c54f9f34",
            "5f04dbe78c17417ebdbb1920eca5f757",
            "de442afadf864f1face49c19aec35921",
            "1eff9fe98c304a0499bdf74ef77874a9",
            "53301cc45ce641659e5a97396fe6ead1",
            "c29d900b47f34c579ac67e3280ac7c2b",
            "6f510c622ca14a51b26794e6c5346f96",
            "17d91b82aade48f3a88258120d1450cf",
            "16b54d8d93f44678820afefde05e6c5f",
            "9e494b1a99d34b13b9eed6bbc155a592",
            "3b9530f39aaa462886c03f92f25dac4b",
            "a4c4bd2a727249d7900ff3fb768711ec",
            "c0a08458d64340eabb227dbddb5acb54",
            "0fa2c644bf774605843854325f8c48d8",
            "4716505376774c37b90d2b0307fadca2",
            "3beee21261fc400b93699cad9c1b982c",
            "a52c2713e8e74062a394973f22f1ad82",
            "ab59faee2e5e47baa75492532432e5a0",
            "8f4dc542b6ae4114951ba6cad5250ef3",
            "093906c8a038487cbf40efebc8fb3731",
            "3eaa5f28a5e84be396ac8c666705eca7",
            "509256f822f94e93b4b5f2fa206a02d7",
            "2990ec885bf143a8bccf234abc94a773",
            "5335f05fd2e243c38b793221a1fc28cb",
            "3f548bebc7f2470994815898515d76ac",
            "7509f8eb4b7a4cd79e23342b5027ed21",
            "08925cb5c7e943579587d4b446bbc3c9",
            "d142c8e9db2f4e38aca4f061f53e69df",
            "52eb1bac7ba14bb697d06e62d2141493",
            "d51b4033306545cf8a7f563ef52056cf",
            "b640c3c410574a4c9be3c043df30a0bd",
            "8c5ad9441f9e4b9e9a84483ee57240ec",
            "d9a72264b5ec44b49ec8e98c045c5006",
            "bd974d4ebb6e4f6ca374d406ff94cc37",
            "cd3b0c4a7913464daee9046d91f50a4e",
            "5fa99646868e4c2abadaa4bd55765f0e",
            "a5e9b4202277464095b725c6bcffb926",
            "c1515b7bb8914d14acae1c2b96df3bb4",
            "0339110c3d8f4726ba709937e9c486c3",
            "07df23446ace4807af031956a169c0da",
            "fd546b469bd342138cd2bd53e067410a",
            "99452296f5dd425988b7c011414b6511",
            "be1e29ef42314da5ae226c711b7ffe8b",
            "446d788c384347889b6d1390c52ef18f",
            "4e5cd8cd19334af3b5ce34785338a1b3",
            "a9072fe8f1a1411eaeb44fe6df285bbd"
          ]
        },
        "outputId": "c08bcfc4-e7bb-4a06-ccf9-71625a91b2b3"
=======
          "height": 508,
          "referenced_widgets": [
            "c6426d5e2f684864a3418d82dc9c5432",
            "36f21932e5f946529b76b1dba3525485",
            "984b41c7f70443c4b44bdf9c1374700f",
            "4d4bd23a9ae149f9b8762002d0b86daa",
            "d3ef7714abd84cd5a6e3613890ff11ab",
            "06dc902a291f49c5a611e3fff9c2de41",
            "83701ea4fa4f4cac99f00e56a002456b",
            "a941ed856423484eb8123bc23ca1750f",
            "4561ed78e97842ae99ceabb32b29d9f8",
            "d0f8ca73cb5449488661280b1eb07ef3",
            "f22ac1422cdd475f8979e01fe8e7c587",
            "39714020ee314be38f14ffc8758ea307",
            "70b24b6d112a462098ce52a94362443f",
            "575a4aa4e8b347a39a36a69514a81142",
            "2d5fe1e213f141efb65f3e3c9552c2c1",
            "9c6f5e2620e2421682af695e809393f9",
            "cb2511b71ab34c51a4d2c55eb53a675e",
            "d35c2192843241b89bfde3ea0d2ba6da",
            "cf0f028bbf184aa2b54fcf1fd130c340",
            "65a374a522e245ef9921a38f0e8ed782",
            "20775b1fb7f745398ef87966549ac984",
            "c5bf99f932a1433e9e1a98c4ef67baca",
            "75edfdb7d5cc46709f080f1eb47dc4e0",
            "3ece6879729940c88bf26417cb554000",
            "7f84c4e310d44c19bafc418f5e46063a",
            "74cc21f33e164e659382f10f1f372e2f",
            "a0274862c65b4b4fbf5f05a5708f5524",
            "491183631e9f42d685da35288a95b667",
            "d39082a3564642e886ffd5efde5bd57c",
            "a9106b55dc194c179b92f1270212ae96",
            "e57ff3ec86334999916fe9ef25848c7a",
            "a928cb95b5844a2fa5d5eb1a65b45b76",
            "414d7d7134e9427984facdb46a0ff21e",
            "83a05f49d55d4b01bb0bb0b8bf036e62",
            "4bc0b682afef4f05b36f5abbff621937",
            "e84487e9539b411698673d2952efa1e7",
            "8a235f0ef740433ebb70a2f6e2cb439e",
            "b980b1157c044a59abc3d8354c150cbf",
            "2f5eca6264e74e4e98ad780dbb40466b",
            "f5456d4532b04627a3612cacbf6aa415",
            "87d8690e999a403f90b7c67eb163239d",
            "b0b050e72d364c5aa46f05545c58ba90",
            "c9058dc41f9443b3a76e4c7aedba5625",
            "512992cc594b4e708d1ec32411f759a8",
            "1c1b7d3b6c91481bb02660defde6f0a4",
            "82fcfdbbca4e4f9bb9bbfb4ef121ef8d",
            "f710c4787861457fad903bbc9e2d992f",
            "fc0ead6d6c3947be89b5696f3b0ce0cf",
            "0a71d7c58ca2409786e252bb6f2469b2",
            "3fd17a5b684740419fa8cf34da55103f",
            "fbd87c0a872f45bb8a6c9b13f39b9a30",
            "5e7ec32bebc74beab91685afdda3dcdf",
            "39c5e929be3e4e068be8f5ed8e1ac3bd",
            "9994f7e174b54fd285dcd9fd61c3f7d5",
            "c09473e7b8cb47c08fee178422667802",
            "fb9c77b68b344d41a13daab72aeada45",
            "f52918a73f6c41258a5ef9b899a225d3",
            "44f8c1837e7244b78bd0c84d03cbd97b",
            "2f24a43afa924fd8966a6f96c13648d4",
            "dc6a3ff3ec3345d18722959f411e48c1",
            "7df02271b3464ca38c86796a3e7f5d28",
            "6dafe1678f1746eaacfa22d43167ae4d",
            "123be0bcd0674a0eb24a0bf4abc2a545",
            "ae42cbebfc944145bda686c19319b672",
            "ae1d78ee540c43f6b1ecf8e203c0e90d",
            "df56a3a78d904de3baf64442f3388097",
            "399ed0edba5047ca8927a76bd1e72d7a",
            "9032b18e0baa4e98bf61152d3e4f4998",
            "6d455cef950140e190369ce351d1aec2",
            "6463438d5aaa4993a36b840cee147813",
            "996a2b5d50cd4715a59c16a1e9ab4383",
            "fe1a6f65b8664257a72eb0df2a807e72",
            "8199688cb23049afb2657d6eb249721a",
            "6e6340bb4f0e4435a775ac75e55e5baf",
            "d2eda822c62a485cb0b1d271117181f6",
            "38cd06c3318c4708b8b058fdc6f43a11",
            "794f01798c3c4ba3b8aea9407a8213e8",
            "1f9250c131034082ac6b4ac4fcb24940",
            "7ed0d44f74a7496ba021d4cd5a8149e1",
            "5bd05b7d61464024af37db4fbeb7e2c6"
          ]
        },
        "outputId": "8691e913-6591-4a98-e991-d9b55c7a737e"
>>>>>>> 6c431331739c1dcdad618b816190999dbf20862b
      },
      "source": [
        "from tqdm.notebook import tqdm\n",
        "\n",
        "EPOCHS = 10\n",
        "batches = iter(trainloader)\n",
        "results = [[],[],[]]\n",
        "\n",
        "correct = 0\n",
        "total = 0\n",
        "\n",
        "for e in range(EPOCHS):\n",
        "  for batch in tqdm(batches):\n",
        "    image,label = batch\n",
        "\n",
        "    image = image.view(BATCH_SIZE,3,69,69)\n",
        "    label = label.to(device)\n",
        "    image = image.to(device)\n",
        "\n",
        "    galaxyModel.zero_grad()\n",
        "    y = galaxyModel(image)\n",
        "    loss = Loss(y,label.long())\n",
        "\n",
        "    loss.backward()\n",
        "    optimizer.step()\n",
        "\n",
        "    correct += torch.sum((torch.argmax(torch.sigmoid(y),dim=1)==label).float())\n",
        "    total+=BATCH_SIZE\n",
        "\n",
        "    results[0].append(e)\n",
        "    results[1].append(loss)\n",
        "    results[2].append(correct/total)\n",
        "\n",
        "  batches = iter(trainloader)"
      ],
<<<<<<< HEAD
      "execution_count": null,
=======
      "execution_count": 17,
>>>>>>> 6c431331739c1dcdad618b816190999dbf20862b
      "outputs": [
        {
          "output_type": "display_data",
          "data": {
            "application/vnd.jupyter.widget-view+json": {
<<<<<<< HEAD
              "model_id": "20ac4ad6519d49719ca7ec5f8d99ae22",
=======
              "model_id": "c6426d5e2f684864a3418d82dc9c5432",
              "version_minor": 0,
              "version_major": 2
            },
            "text/plain": [
              "HBox(children=(FloatProgress(value=0.0, max=868.0), HTML(value='')))"
            ]
          },
          "metadata": {
            "tags": []
          }
        },
        {
          "output_type": "stream",
          "text": [
            "\n"
          ],
          "name": "stdout"
        },
        {
          "output_type": "display_data",
          "data": {
            "application/vnd.jupyter.widget-view+json": {
              "model_id": "4561ed78e97842ae99ceabb32b29d9f8",
>>>>>>> 6c431331739c1dcdad618b816190999dbf20862b
              "version_minor": 0,
              "version_major": 2
            },
            "text/plain": [
              "HBox(children=(FloatProgress(value=0.0, max=868.0), HTML(value='')))"
            ]
          },
          "metadata": {
            "tags": []
          }
        },
        {
          "output_type": "stream",
          "text": [
            "\n"
          ],
          "name": "stdout"
        },
        {
          "output_type": "display_data",
          "data": {
            "application/vnd.jupyter.widget-view+json": {
<<<<<<< HEAD
              "model_id": "471c4ee7f5754ee48941fc0a7cfc7eb2",
=======
              "model_id": "cb2511b71ab34c51a4d2c55eb53a675e",
>>>>>>> 6c431331739c1dcdad618b816190999dbf20862b
              "version_minor": 0,
              "version_major": 2
            },
            "text/plain": [
              "HBox(children=(FloatProgress(value=0.0, max=868.0), HTML(value='')))"
            ]
          },
          "metadata": {
            "tags": []
          }
        },
        {
          "output_type": "stream",
          "text": [
            "\n"
          ],
          "name": "stdout"
        },
        {
          "output_type": "display_data",
          "data": {
            "application/vnd.jupyter.widget-view+json": {
<<<<<<< HEAD
              "model_id": "ed894ed10c4e44b1876983a4e6aa7363",
=======
              "model_id": "7f84c4e310d44c19bafc418f5e46063a",
>>>>>>> 6c431331739c1dcdad618b816190999dbf20862b
              "version_minor": 0,
              "version_major": 2
            },
            "text/plain": [
              "HBox(children=(FloatProgress(value=0.0, max=868.0), HTML(value='')))"
            ]
          },
          "metadata": {
            "tags": []
          }
        },
        {
          "output_type": "stream",
          "text": [
            "\n"
          ],
          "name": "stdout"
        },
        {
          "output_type": "display_data",
          "data": {
            "application/vnd.jupyter.widget-view+json": {
<<<<<<< HEAD
              "model_id": "8bb803a8b83f4f948bb38284bdc81381",
=======
              "model_id": "414d7d7134e9427984facdb46a0ff21e",
>>>>>>> 6c431331739c1dcdad618b816190999dbf20862b
              "version_minor": 0,
              "version_major": 2
            },
            "text/plain": [
              "HBox(children=(FloatProgress(value=0.0, max=868.0), HTML(value='')))"
            ]
          },
          "metadata": {
            "tags": []
          }
        },
        {
          "output_type": "stream",
          "text": [
            "\n"
          ],
          "name": "stdout"
        },
        {
          "output_type": "display_data",
          "data": {
            "application/vnd.jupyter.widget-view+json": {
<<<<<<< HEAD
              "model_id": "6f510c622ca14a51b26794e6c5346f96",
=======
              "model_id": "87d8690e999a403f90b7c67eb163239d",
>>>>>>> 6c431331739c1dcdad618b816190999dbf20862b
              "version_minor": 0,
              "version_major": 2
            },
            "text/plain": [
              "HBox(children=(FloatProgress(value=0.0, max=868.0), HTML(value='')))"
            ]
          },
          "metadata": {
            "tags": []
          }
        },
        {
          "output_type": "stream",
          "text": [
            "\n"
          ],
          "name": "stdout"
        },
        {
          "output_type": "display_data",
          "data": {
            "application/vnd.jupyter.widget-view+json": {
<<<<<<< HEAD
              "model_id": "4716505376774c37b90d2b0307fadca2",
=======
              "model_id": "0a71d7c58ca2409786e252bb6f2469b2",
>>>>>>> 6c431331739c1dcdad618b816190999dbf20862b
              "version_minor": 0,
              "version_major": 2
            },
            "text/plain": [
              "HBox(children=(FloatProgress(value=0.0, max=868.0), HTML(value='')))"
            ]
          },
          "metadata": {
            "tags": []
          }
        },
        {
          "output_type": "stream",
          "text": [
            "\n"
          ],
          "name": "stdout"
        },
        {
          "output_type": "display_data",
          "data": {
            "application/vnd.jupyter.widget-view+json": {
<<<<<<< HEAD
              "model_id": "2990ec885bf143a8bccf234abc94a773",
=======
              "model_id": "f52918a73f6c41258a5ef9b899a225d3",
>>>>>>> 6c431331739c1dcdad618b816190999dbf20862b
              "version_minor": 0,
              "version_major": 2
            },
            "text/plain": [
              "HBox(children=(FloatProgress(value=0.0, max=868.0), HTML(value='')))"
            ]
          },
          "metadata": {
            "tags": []
          }
        },
        {
          "output_type": "stream",
          "text": [
            "\n"
          ],
          "name": "stdout"
        },
        {
          "output_type": "display_data",
          "data": {
            "application/vnd.jupyter.widget-view+json": {
<<<<<<< HEAD
              "model_id": "b640c3c410574a4c9be3c043df30a0bd",
=======
              "model_id": "ae1d78ee540c43f6b1ecf8e203c0e90d",
>>>>>>> 6c431331739c1dcdad618b816190999dbf20862b
              "version_minor": 0,
              "version_major": 2
            },
            "text/plain": [
              "HBox(children=(FloatProgress(value=0.0, max=868.0), HTML(value='')))"
            ]
          },
          "metadata": {
            "tags": []
          }
        },
        {
          "output_type": "stream",
          "text": [
            "\n"
          ],
          "name": "stdout"
        },
        {
          "output_type": "display_data",
          "data": {
            "application/vnd.jupyter.widget-view+json": {
<<<<<<< HEAD
              "model_id": "0339110c3d8f4726ba709937e9c486c3",
=======
              "model_id": "8199688cb23049afb2657d6eb249721a",
>>>>>>> 6c431331739c1dcdad618b816190999dbf20862b
              "version_minor": 0,
              "version_major": 2
            },
            "text/plain": [
              "HBox(children=(FloatProgress(value=0.0, max=868.0), HTML(value='')))"
            ]
          },
          "metadata": {
            "tags": []
          }
<<<<<<< HEAD
=======
        },
        {
          "output_type": "stream",
          "text": [
            "\n"
          ],
          "name": "stdout"
>>>>>>> 6c431331739c1dcdad618b816190999dbf20862b
        }
      ]
    },
    {
      "cell_type": "markdown",
      "metadata": {
        "id": "tQfSo0eYpncG",
        "colab_type": "text"
      },
      "source": [
        "## Testing model on testset"
      ]
    },
    {
      "cell_type": "code",
      "metadata": {
        "id": "m-QTsHb9kgvq",
        "colab_type": "code",
<<<<<<< HEAD
        "colab": {}
=======
        "colab": {
          "base_uri": "https://localhost:8080/",
          "height": 83,
          "referenced_widgets": [
            "87564c1cad6f4e9d8b07e3f35c24c565",
            "8967022b39d7470ab2cac401f7364896",
            "3062f5d8056d4a9ab853000485dc2347",
            "f24a1e12b045425ea27b3c9aff14ae48",
            "ad2e2a5ac8554f94acc2a5845f903329",
            "e87fe5e86c2a4d7695de0df0064ecf6a",
            "df6248f4b983416b90915f0560d1fcf7",
            "ccd2e90545a7485393324a3aa22c463b"
          ]
        },
        "outputId": "46f2b333-b1b7-4f6c-f0a8-f1d2b0baa5b7"
>>>>>>> 6c431331739c1dcdad618b816190999dbf20862b
      },
      "source": [
        "test_batches = iter(testloader)\n",
        "\n",
        "correct = 0\n",
        "total = 0\n",
        "\n",
        "with torch.no_grad():\n",
        "  for batch in tqdm(test_batches):\n",
        "    image,label = batch\n",
        "\n",
        "    image = image[:,:,:,:]\n",
        "    image = image.view(BATCH_SIZE,3,69,69)\n",
        "    image = image.to(device)\n",
        "    label = label.to(device)\n",
        "\n",
        "    y = galaxyModel(image)\n",
        "\n",
        "    correct += torch.sum((torch.argmax(F.relu(y),dim=1)==label).float())\n",
        "    total+=BATCH_SIZE\n",
        "\n",
        "print(\"Accuracy: {} %\".format((correct/total)*100))"
      ],
<<<<<<< HEAD
      "execution_count": null,
      "outputs": []
=======
      "execution_count": 18,
      "outputs": [
        {
          "output_type": "display_data",
          "data": {
            "application/vnd.jupyter.widget-view+json": {
              "model_id": "87564c1cad6f4e9d8b07e3f35c24c565",
              "version_minor": 0,
              "version_major": 2
            },
            "text/plain": [
              "HBox(children=(FloatProgress(value=0.0, max=217.0), HTML(value='')))"
            ]
          },
          "metadata": {
            "tags": []
          }
        },
        {
          "output_type": "stream",
          "text": [
            "\n",
            "Accuracy: 71.35945129394531 %\n"
          ],
          "name": "stdout"
        }
      ]
>>>>>>> 6c431331739c1dcdad618b816190999dbf20862b
    },
    {
      "cell_type": "markdown",
      "metadata": {
        "id": "841xiSlup12h",
        "colab_type": "text"
      },
      "source": [
        "## Checking model accuracy on trainset"
      ]
    },
    {
      "cell_type": "code",
      "metadata": {
        "id": "rHa6Y7YkytI7",
        "colab_type": "code",
<<<<<<< HEAD
        "colab": {}
=======
        "colab": {
          "base_uri": "https://localhost:8080/",
          "height": 297
        },
        "outputId": "b670066f-fc54-404f-8666-ccaa54d933f3"
>>>>>>> 6c431331739c1dcdad618b816190999dbf20862b
      },
      "source": [
        "fig, axes = plt.subplots(3)\n",
        "\n",
        "axes[0].plot(results[0])\n",
        "axes[0].set_title('EPOCHS')\n",
        "\n",
        "axes[1].plot(results[1])\n",
        "axes[1].set_title('LOSS')\n",
        "\n",
        "axes[2].plot(results[2])\n",
        "axes[2].set_title('ACCURACY')\n",
        "\n",
        "fig.tight_layout()\n",
        "plt.show()"
      ],
<<<<<<< HEAD
      "execution_count": null,
      "outputs": []
=======
      "execution_count": 19,
      "outputs": [
        {
          "output_type": "display_data",
          "data": {
            "image/png": "iVBORw0KGgoAAAANSUhEUgAAAagAAAEYCAYAAAAJeGK1AAAABHNCSVQICAgIfAhkiAAAAAlwSFlzAAALEgAACxIB0t1+/AAAADh0RVh0U29mdHdhcmUAbWF0cGxvdGxpYiB2ZXJzaW9uMy4yLjIsIGh0dHA6Ly9tYXRwbG90bGliLm9yZy+WH4yJAAAgAElEQVR4nO3deXxU1fn48c+TnYQlCUFEtoBFFFcwgmu1agW1Fdtqi9qKVuv321ar9Vtb1NaqrYq1P5dWrSLudd8XQATEHZCA7Pu+hwSy75N5fn/cM8Nkg4QsM5k879drXnPvuXfuPXO4zJNz7rnniKpijDHGRJqYcGfAGGOMaYgFKGOMMRHJApQxxpiIZAHKGGNMRLIAZYwxJiJZgDLGGBORLEAZY4yJSBagjGkGEdkkIuUiUhLyelRErhKRGrdeJCKLROQHIZ9LFZH/iMguESkTkaUicnUDx79cRLLdcXaKyDQROd1tu1NE/tvAZ1REvhNynmfceYpFZI2ITGjLMjGmrViAMqb5fqiqXUNe17v0OaraFUgFngZeF5E0EUkAZgIDgVOAHsAtwEQRuTlwULf8MHAv0BsYADwOjG1G3h4CugJHufNcBKw7+K9qTPjEhTsDxkQbVfWLyDPAv4DDgePxgs2ZqlrqdvtIRH4HPC0ikwEB7gauVtW3Qw73gXs11UnAn1U1362vci9jOhyrQRnTykQkDrgWKAHWAt8HpoUEp4C3gCS8WtUpbvmdFp5+LnCPiFwtIkNaeCxjwsoClDHN966IFIS8fuXSTxaRAmAXcBnwI1UtBDKAnXUPoqo+IM9t7wnkubT9+WmdcxfU2X4D8BJwPbBCRNaJyPkH/U2NCSMLUMY038Wqmhryesqlz3XrGap6sqrOdOl5QJ+6B3E1rQy3fQ+Q4dL25/U6504N3aiq5ap6r6qeiBf0XgfeEJH0FnxfY8LCApQxbW8mcL6IpNRJ/wlQidcsN8ctX9xaJ1XVIrwOFynAoNY6rjHtxQKUMW3vRWAbXk0mU0TiRWQ0XieKO1W10DUF3gE8JiIXi0iy2+98EflHU08kIn8RkZNEJEFEkoAbgQJgdRt8L2PalPXiM6b5PhCRmpD1GcB7je2sqpUici5wHzAP6A5sAG5X1ckh+/0/EdkF/BnvPlIxsAC4pxl5U+BZvF6DPmAJcKGqljTjGMZEBLEJC40xxkQia+IzxhgTkSxAGWOMiUgWoIwxxkQkC1DGGGMiUsT14svIyNDMzMxwZ8MYY0w7WbBgQZ6q9qqbHnEBKjMzk+zs7HBnwxhjIlJheTX5pVXhzkbQwJ7JiEiLjiEimxtKj7gAZYwxpmF+v3LmA7MpKKsOd1aC1vz9fBLiWhagGmMByhhjOoiqGj8FZdVceFwfzj3qkHBnB4DYmLYJTmAByhhjOozqGj8Aw/un8qPh/cKcm7ZnvfiMMaaDqPJ5ASohrnP8dFsNyhhjDqCk0seqnUXhzgZ7XOeI+FgLUMYYY4C73l/OGwu2hTsbQT26xIc7C+3CApQxxhxAflk1A9KTuedHx4Q7KyTExnDiwLRwZ6NdWIAyxpgDqK7xk5YczxlD6j1LatpQ52jINMaYFqiu8XeajgmRxGpQxpiI5Kvx88XaPCqqaw68cxvLKaqgd/ekcGej07EAZYyJSF+sy+Pq5+aHOxtBww7rEe4sdDoWoIwxEam4wgfAU1dm0T+9S5hzA5k9U8KdhU7HApQxJiIFHko98tBu9E9PDnNuTDjYXT9jTEQKDOvTWR5KNfVZDcoYU8tX6/LYkFsS7mwwb+NeAOJj224wUhPZLEAZY2q55vn5VFT7w50NwBsxISXRfqY6K/uXN8YE+f1KRbWf6747mOu+Ozjc2SElIY6k+NhwZ8OESbsEKBHZBBQDNYBPVbPa47zGmOap9ns1px5d4snomhjm3JjOrj1rUN9T1bx2PJ8xppmqaxSw+z4mMlgTnzERYPWuYqYs3RnubFDpRm1IsJ5zJgK0V4BS4GMRUeBJVZ0UulFErgOuAxgwYEA7ZcmYyDHp8w28tTAypnNIiI3h8EO6hjsbxrRbgDpdVbeLyCHADBFZpaqfBza6gDUJICsrS9spT8ZEjApfDYf3SmHW/50V7qwYEzHapR6vqtvd+27gHWBke5zXmI6i2ue3B1KNqaPN/0eISIqIdAssA+cBy9r6vMZ0JDadgzH1tUcTX2/gHREJnO9lVf2oHc5rzH4VV1TzyMy1lEXAdA4rdxbTNy38A6IaE0naPECp6gbg+LY+jzHNlb05n8lfbiQ1OZ64mPDXXkYNSg93FoyJKNbN3HRalW44n5euHcXRNtePMREn/H82GhMmgdGy7ZkfYyKT/c80nVYwQFnnBGMikjXxmXb36CdrWbytMNzZYHt+OWDzDRkTqSxAmXb3xGcbSIiLoXf3pHBnhTOP6GWDohoToSxAmXZX5fPzi1MG8qcxR4Y7K8aYCGZtG6ZdqSpVNTZqgjHmwOxXwrQrn98bajHBpnMwxhyANfF1EjNX5PD4p+sI90i8Lj5ZDcoYc0AWoDqJWatyWLa9iFGDwz9awfeG9uK7R/QKdzaMMRHOAlQnUeVTenVL5MVrRoU7K8YY0yTWztJJ2GjZxpiOxn6xOokqn9+G9DHGdCjWxNeGcooqGP/MN5RW+cKdFXKLK/mOTeNtjOlALEC1oXW7S1i1q5gzhmTQKwJGK/jekYeEOwvGGNNkFqDaUJUbjPT33z+CEQPSwpwbY4zpWNrlpoSIjBGR1SKyTkQmtMc5I0G1z6ZzMMaYg9Xmv5wiEgs8BpwPDAMuE5FhbX3eSFBd4z2Vag+lGmNM87VHE99IYJ2b+h0ReRUYC6xoqxMe+9fpVPv9bXX4JqtxwyYkWvduY4xptvYIUH2BrSHr24BaT4uKyHXAdQADBgxo8Ql/fspA/P5wD+rjSU9JYGDP5HBnwxhjOpyI6CShqpOASQBZWVktjiw2jYMxxnR87RGgtgP9Q9b7ubQGLViwIE9ENrfCeTOAvFY4Tmdl5XfwrOxaxsqvZTpi+Q1sKFFU27YpTETigDXAOXiBaT5wuaoub+PzZqtqVlueI5pZ+R08K7uWsfJrmWgqvzavQamqT0SuB6YDscAzbR2cjDHGdHztcg9KVacCU9vjXMYYY6JDNPd/nhTuDHRwVn4Hz8quZaz8WiZqyq/N70EZY4wxByOaa1DGGGM6MAtQxhhjIlLUBajOOjDtgYhIfxGZLSIrRGS5iNzo0tNFZIaIrHXvaS5dRORfrhyXiMiIkGONd/uvFZHx4fpO7U1EYkXkWxH50K0PEpF5roxeE5EEl57o1te57Zkhx7jVpa8WkdHh+SbhISKpIvKmiKwSkZUicopdf00jIr93/2+XicgrIpLUKa4/VY2aF1439vXAYCABWAwMC3e+IuEF9AFGuOVueM+mDQP+AUxw6ROA+93yBcA0QICTgXkuPR3Y4N7T3HJauL9fO5XhzcDLwIdu/XVgnFt+Avi1W/4N8IRbHge85paHuWsyERjkrtXYcH+vdiy/54Fr3XICkGrXX5PKrS+wEegSct1d1Rmuv2irQQUHplXVKiAwMG2np6o7VXWhWy4GVuJd+GPxfjhw7xe75bHAC+qZC6SKSB9gNDBDVfeqaj4wAxjTjl8lLESkH3AhMNmtC3A28KbbpW7ZBcr0TeAct/9Y4FVVrVTVjcA6vGs26olID+C7wNMAqlqlqgXY9ddUcUAXN/BBMrCTTnD9RVuAamhg2r5hykvEclX+4cA8oLeq7nSbdgG93XJjZdlZy/hh4I9AYJj8nkCBqvrcemg5BMvIbS90+3fWsgPvL/Zc4FnXTDpZRFKw6++AVHU78E9gC15gKgQW0Amuv2gLUOYARKQr8BZwk6oWhW5Trx3AnjuoQ0R+AOxW1QXhzksHFgeMAP6jqsOBUrwmvSC7/hrm7suNxQvyhwEpdI5aY9QFqGYNTNvZiEg8XnB6SVXfdsk5rukE977bpTdWlp2xjE8DLhKRTXjNxmcDj+A1OwVGYwkth2AZue09gD10zrIL2AZsU9V5bv1NvIBl19+BnQtsVNVcVa0G3sa7JqP++ou2ADUfGOJ6tyTg3SB8P8x5igiuDfppYKWqPhiy6X0g0BNqPPBeSPqVrjfVyUCha4qZDpwnImnuL7vzXFrUUtVbVbWfqmbiXVOfqOoVwGzgErdb3bILlOklbn916eNcL6tBwBDgm3b6GmGlqruArSIy1CWdgzdpqV1/B7YFOFlEkt3/40DZRf/1F+5eGq39wuv9swavh8rt4c5PpLyA0/GaT5YAi9zrAry26VnAWmAmkO72F+AxV45LgayQY/0S7wbrOuDqcH+3di7Hs9jXi28w3n/wdcAbQKJLT3Lr69z2wSGfv92V6Wrg/HB/n3YuuxOAbHcNvovXC8+uv6aV3V3AKmAZ8CJeT7yov/5sqCNjjDERKdqa+IwxxkQJC1DGGGMikgUoY4wxEckClDHGmIhkAcoYY0xEsgBljDEmIlmAMsYYE5EsQBljjIlIFqCMMcZEJAtQxhhjIpIFKGOMMRHJApQxxpiIZAHKGGNMRLIAZUwrE5FNInJuA+mnisgnIlIsIoUi8oGIDKuzz20islFESkRkm4i8FrLtaBH5WET2ikiBiCwQkQva4zsZEw4WoIxpByJyCvAx3qRyh+FN370Y+EpEBrt9xgO/AM5V1a5AFt5cSQEfADOAQ4FDgN8BRe31HYxpbzYflDGtzE0Nf62qzgxJ+wJYqqq/qbPvNCBXVa8UkUcBn6re1MAxM4BcIE1VC9r0CxgTIawGZUwbE5Fk4FS8WU7reh34vlueizfN+S0ikiUisSH77cGbIfW/InKxiPRu00wbEwEsQBnT9tLx/q/tbGDbTiADQFX/C9wAjAY+A3aLyJ/cNgW+B2wC/h+wU0Q+F5EhbZ57Y8LEApQxbS8f8AN9GtjWB8gLrKjqS6p6LpAK/C/wNxEZ7bZtU9XrVfVwYCBQCrzQ1pk3JlwsQBnTxlS1FJgDXNrA5p9SuyNE4DPVqvoGsAQ4poHtW4HHGtpmTLSIC3cGjIlS8SKSFLI+AZguIquAZ/H+7/0fcApwEoCIXIXXEeJzvNrRaOBoYJ6IpAE3AS8CG/CaDX+Jd9/KmKhkNShj2sZUoDzkNQYv4PwY777TZmA4cLqqrnWfKQJuA7YABcA/gF+r6pdAFZAJzHT7LQMqgava5dsYEwbWzdwYY0xEshqUMcaYiGQByhhjTESyAGWMMSYiWYAyxhgTkSKum3lGRoZmZmaGOxvGGGPayYIFC/JUtVfd9IgLUJmZmWRnZ7foGJM+X8+wPj04fUhGK+XKGGNMWxGRzQ2lR1yAag33Tl0FwKaJF4Y5J8YYYw6W3YMyxhgTkSxAGWOMiUgWoIwxxkQkC1DGGGMikgUoY4wxEckClDHGmIhkAcoYY0xEsgBljDEmIlmAMsYYE5EsQBljjIlIFqCMMcZEJAtQxhhjIpIFKGOMMREpqgNUWZWPP765mIKyqnBnxRhjTDNFdYCa/MVGXs/exiOz1oY7K8YYY5qpzQOUiPQXkdkiskJElovIjW19zoAHZ6wBQLW9zmiMMaa1tMeEhT7g/1R1oYh0AxaIyAxVXdEO5wagxm8RyhhjOpo2r0Gp6k5VXeiWi4GVQN+2Pm+oF+duZtykOVT6avjLu8vIL7V7UsYYE+na9R6UiGQCw4F5ddKvE5FsEcnOzc1tk3PP3bCX9xft4MW5m7n/o1W1tqkqv315IV+sbZtzG2OMab52C1Ai0hV4C7hJVYtCt6nqJFXNUtWsXr16tVkeAk19dZv8/ApTluzkyme+CaaVV9Wwu7iiScf1+5X7pq1kR0F5rfTb3llK5oQpLcx19Dv53lm8MGdTuLNhjIkw7RKgRCQeLzi9pKpvt8c5GzJ79W4A3liwDYDSSh+ZE6Zw+G1TAZCQfcc9NZeR98xq0nGvem4+T362gZteXVQr/eV5W1qe6U5gV1EFd7y3PNzZMMZEmPboxSfA08BKVX2wrc+3P9OX5wSXMydMYexjX9XaHiNCeVUNHy7ZweKtBQDc+f5ydhbuqxn9z4vZ/OGNxbU+9/kar2mw2u/nnikreGz2urb6CsYY02m0Ry++04BfAEtFJFDFuE1Vp7bDufdr3e6SWus+v3LUHR/VSnvu602szy3h2L49uHzUgGCQ++elx1PjV06dWLuW9dQXGwH47fe+E0xbtLWAE/qntnr+C8qqmPT5Bm7+/hHExUb1I23GmE6oPXrxfamqoqrHqeoJ7hX24NQcX6zN4/FP13PDK98G04oqqimt8pFTVBlMC20ifHHu5uDyrJU5tIW7P1zB45+uZ8aK5h0/r6SSOev3tEmeWtu0pTvJnDCFXYVNux9ojIke9md3M5RX1QSX75u6st52rzXT85d3lwWX//2J1+S3eGsBP3tyDo/MXIs28PTwjoJyNu8pDS431Enjyme+4WhXy6uo9vJT08wnkX/65Bwue2pusz4TLq/O3wrAyp1FB9jTGBNtojJATb4yq02Ou2pXcXD5lW+2simvtNb2BZvzG/1s4J7XvI17eWjmGv4+ZSWj7p2JqjJ16U5e/WYLp078hDMf+BSAUyd+wsh7ZlFRXcN901Yyd8MeMidM4fM1uZS6QBmIS4KwaGsBZVW+Jn2PDblevt/I3sr05bvqba/y+WutF1dU8/bCbbXS8kuryJwwhXe/3d6kcx6sz9Z0nK7/M1bkkDlhCiWVTft3aC+rdxWTOWEKi9x91Ujy7Zb8Wvd4jQkVlQHq3GG92+U8Fz361YF3asTTX24kp6iSrL/P5DcvLWTC20uD2x5yQzQBPPvVJp78bAPjJtWu8eSXVrGryKthFVVUc/FjX/G7V2r3IjyQW95cwv+8uIC/f7iCzAlTyJwwhY+W7eSIP0/jm4172bq3jJfnbeG2d5Zx8+uLazUlbnDB+abXFvHeou18s3FvcNvEaauC3et3FJQzsxlNkHPW7wnWDEMpzasl+mr83Pn+cnYXNd40WFbl4y/vLiO3uJKiiupmHb8hj8zy/t025JY0uP3leVvYsqesWcect2EPvhr/gXfcj09Web1Xpy3bWW/b5j2lYR1p5UePf80Z988O2/lbW6T9cdLRRWWA6kj2NDCqRejgtnUfKg4Y/rcZfLvF+4u40v2gL9qaHww0gSYxVeW1+Vu48dVv2VFQzgPT6x9v8pcbg8uvZ3s1pZ8+OYcz/jGb295ZygeLdwDwqxeygz+w/pBmxRtfXcRPn5zDut3F1PiVJz5bD8CanGLGPvYV176QXe+cHy3bxbb82j/W63NLuOypuRz5l494/utNtbb98rn6xwCvtldRXcPKnUVkTpjCO99uo7Csmq/X7+G5rzfxp7eWAF5zaN3AN+yO6bw4dzMn3TOT4+78OJh+5/vLg98hVF5JJWMe/rxevmv8yodLdhCIIw21uFb6arjtnaVc+uTXwbS/vreMW0P+MKlrweZ8fjZpLg/NXNPoPg3x+5UHpq8ir6Ryv/ttzCvlzAc+bbPBlH/x9Dz+9OaSA+7n6wBDkd07dSUvztm0331mrMjhmL9OZ+GWxltSTPO0Ry++sOiWGEdxJ/lr5uVvvOet8kr2BbvzH/mCH4/oy9sL9zXBvbdoxwGPFfhruzGXPPE1/7pseL0aHcC5D35ea/28h/atb9lTxi+fn8/x/VL57hEZ3OieGfvnpcfvO/fKfef+6/vL+fnJA+udY31uCf3TkomPFWau3M2vXPC74Wyv1+TvX1vM4b1SuPHcIwBYk1PCvA17+JnL76aJF7Ipr5Sz/vlpvWPX+JXNe0p5zgXHy0YOYPn2QlKTExh2WHfeWbidVbuKufP9FUwev68Z+dInvmbhlv03nwWCVn6ZV1P7bE0uz8/xOtLc9+Nj6+3vq/Fz69tLgt+hOb5an8djs9ezJqeEpxpp7q701fC4exziX7PWsnVvGQ/97IRmncfvV6Ys3ckFx/YhNkbqbf9ibR4A919y3AGPtWpXEUce2r1Z528tv3h6Hl+szWPTxAsb3WfS5xu8fU/JbHSfL91INIu3FjBiQFqr5rGzitoANe2mM1i1s5hzh/VmybaCFjXHRbrGfsBCg1Nr2V1c2WBwOpDvPuA146zbXcJbIfezQp8pu6dOx5NAzS1g/qa9XPrEHDK6JuJXZW9I7TO0aWV9bim/cz0utxeUB4NTwE2vNdwU+sD01bVqTsffta9WtWnihZS7GtjMlTkcfttUbhk9lKtPy9xvcFqyrYDkhNhavT0/Xr6L615cEFx/+suNLNycz2NXjAimvbdoR/DfdcaKHLbll9EvLbnR84QKVEhmrMjh2ueziY/1gseTn21gR0EF9//kWB6ZtTb4wDrAO99ub1KA2l1UwSHdkwB4a+E2bnlzCbuLK7nm9EG19mtuLWLMw1/sN0A0x6yVOZRU+hh7QtOG/AwE0pYKlHuM1A/WARXVNSTGxdTqUBVOFdU1bNpTGrY/Dg4kapv4+qUlB+9FHdcvlQ9vOD3MOTLNtXJX7Z57lz4xB/Ca2vbWaRp99qtNTTrm45+ua7SzwKerG689bswrDU7fAl5ta+K0VQz980f19r38qbnBDisXPfoV5z74OVdM9oafrPL5awUngL99uIIpS3fy5do8Pl6+i7ySSqrr3Hc6/f7ZXP7U3FpDZxWWV7OnpJJFWws4+o6PmLthD+8t2s6UJfsC+8yVOUxbtq8jzAeLdzDsjul8vLz+fcGbXv2Wh2euIXPCFLI37WX+pr21ts9Zv4eR985i6lLvXlagxr58R2G9Xpah91HX7S4ONq/e+vZSbn698Xulqsp7i7bz0bL6nXfAq1k+9fkGthc03rHimuezufHVRc2+31fXA9NXcfhtU5t8nECzd0wDtUmA3OJKjvzLR9z8+uIGt4f6cMkOLjuIPwSb6w9vLGbMw19QWNbye7BtIWprUHX1b+JfnyZyPPnZhlY/5j8+Wt3ottBemnV9r4EmwcaUVtUw7I7pTLvxjOZkjZ8/7QWxYX2607NrQr3tX7tn1wrLqpn40Upe+WZrre3NqdlurNMDFeDdkCbgS9wfAwBTf3cGCXHC8h2FAHyzcS8b80p5y9XA3l64nbcXbicxLobFfz2Pp7/cWKtWcu6Dn/PD4w8js2cyr7jm6BED0ujVLbHW+at8fsZNmhOskU678QwGZaSQFB8b3OeFOZu5Z+rKYG37vGG9+edPj+e4Oz/mX5cNp19al+C+331gNm/87ykc0bsbx9/1MU+Pz+Kco7w/Wp/9aiMXHtsnWBsEOOW+WYwYmMZjl4/A71cem70+eJxQs1bmcPqQDBLjYmulB2pQG3NLUdVataTRD33O6hzv+nrn2+38acyRPDhjNX+7+Jh6xwG4/uVva637/crvX1/EFaMGMnJQer39D9Y817mp0lcDxLfacVuLNPQ8TjhlZWVpdnbDN8RbKr+0io17Svnx418zMjOdb+r8hWiMqS8tOZ78smqSE2Ipq6rhR8P78k4jjxcE9jkYXRPjGuwFF9r099CMNfU6dbz5v6dwyRNzSEmIDT6CEXDfj4/l8F5d+emTc8gamEb25nyO69eDJdu8YPvCL0fWGiQ6cL5f/3dBrZpnwFu/PoWf/GcOV52ayZ0XHR1Mrzso9MmD07l77DEc0btbg9v7pnZhe0E5T/x8BGOO6VPvPIH9F99xHjnFFbXu58677Rx6hwRWgOteyObYvj244Zwh9Y61P1l/n0FeSRXzbz+33h8M7UlEFqhqvRumnaYGBZCWkkBaSkKtC37d7uLgzf2RmenceO6QYHOMMWZfx45A4GksOIXuczAa66L91bo8Pli8I/jQdl2B2l7d4AReU2yg6S3bPacYCE5AveAEsGDz3gaDE8DeUq8sAg/UN2buhr2c99Dnjd5XCzRRVtcoqsru4kpem7+VG87+Tq2a1/F3f0xKQu0a1qh7Z9U77scrcvh4RQ4icNbQQzimbw/eXLCNP7yxmBV3jyY5wfup/+3LC5myZCcv/2oUpx6eEexB6fP78fuVh2etZVifbnyweCcF5VU8fsWJHH/Xx/zPmYMZkJ7MZScNQAQG3eoNBvSfK0Zw/rH1A2xr6VQ1qMasySlmbU4JFx7nFXRDU2Qsv2s0R/91ervmyxjTchce24cpS+s/A9ZSZw3tRf+05FrDmtW1aeKF+51y529jj+YvdUbyT4iLqfewfF390rrw5Z/ODq7XPceL14zkL+8uY9OeMmb935nc9OoiCsqr2LrXC4w/Ht6XB392QvBzx/btwW0XHFVvhJnEuBgqQ/IytHc3Hh53Auc/8kWt79hSjdWgoraTRHMc0btbMDgBrLh7NPf+aF/X31tGDyUlcV9l89TDe+73eBPOP7L1M2mMOShtEZwAPl2du9/gBA3/sRuqbnCC+iO5NGRbfjlVPj++Gn+DD1r/4ulv2OQ6dzw4Yw1LtxcGgxN4tcnSkBrr0u2FfLCk/mMolXXysjqnuFZwamtWg9qPHQXlzN+0N9hdNXPCFGIE1t5zAcfdOb1ek8Lx/VP54XF9+NHwvpz495n1jjdqUHrwpqQxxrSGW88/kvumNfxAf3toyxpUp7oH1VyHpXap9SzF7D+cRdfEOGJjhOV3j6n111HoP1JDbek/y+rPH0YPZcqSHdz5wYomnf8/V4wgOTGO8Q20k4ce97XshtvmjTHRL5zBqa1ZDaoF/H6ltMpHSaWPPj261Nq2alcRG3NLOapPd/qnJxMj+0Y7X7GjiAdnrGH00b25pc5QMKOP7s0NZw+htNLHqMFeU2JZlQ+/QlF5Nf/+ZG2t7sVfTTibw3ok8e3WAg7r0YWT72vaLMAAt11wJPdOrX1xv3ztKG59ZymbW/gMiTGmc2jLGpQFqDBbvLWArklxDM5IocavTZ54MHPCFMYcfShP/OLEWumn3/8Je0urmHxlFqd+J4MNuSVs2lNKaWUNHy3bxaOXD6/VSyhQCwy9yEorfWzLLyevpDLYo/GMIRlccmI/nvlyI4u3FfLStaOC2+784TBGDe4ZbJue9IsT6z2MCrD0zvO49Ik5weeNuiXFUVzResNRBYa3uu/Hx9Yb4y7QxThUekoCZw3t1SYjbhjTWSy58zy6J7XsGSoLUMwv28UAAB1RSURBVFHG71dEaPGQKVv2lFFW7WtwqBNVZeJHq7j0xH5855BuwTRV72n5PSWVVPj89E3tQqWvhqF//oibzh3CTecewd8+XEF6SgKvfLOFR8YNZ3j/VGJihPzSKlbnFHOyqx3uKalkdU4xT32+gdmrc3n52lEccWg3shq4h/f1hLP5cMkOlu8o4pFxw9leUM5pEz8Jbv/t9w7nltFeB5WZK3KYvXo3L83bQnJCLCvuHlNrDL4/jTmSK04eQPekeK6YPJev1tWfwDHwjMyzV53E1c/Nb3KZNrT/0Yd1Z/mO6J/T6trTB9UafLiuwRkpwZHwTXRY9bcxtR6mPhhhDVAiMgZ4BIgFJqvqxMb2tQBlwHuoGmDGyhxGDEilV7ckenRp+K+0f81ay/rcEu7/yXH1/qN8uTaPwb1SOCzVa4LNnDCFy0YOqDdA6/IdhRRX+Pho2S5Sk+NJiIvhN2d9J7g90EHm2jMGBwcODTy0eeFxfVi8tYBt+eV88cfv0T89mRfnbOLjFTnBERX+e82o4EgRH1x/OvM27uGSE/uxbHsR//NiNl/86Wy27i1j7GNf8fK1oygor+aWNxYHO+I8Mu4EavwaHCbnuatP4qyhhzB16U5+89LCYD6X3HlecGT2fmld2Jbf8JBAN3//CEYNSueI3t2oUaXK5ycuVnjw4zW1njfq0SWewvJ9w+CcNbQXn67O5ZvbzmHkvfuak48+rDtPjz+J9JQEjvjztFrneuaqLH75XDYXHHsoj19xIsu2F/KDf3/ZYL7C4ZbRQ8nsmcJvX1544J1NPR26iU9EYoE1wPeBbcB84DJVbbCngAUoE4k27ymlV7dEkhPi+GDxDo7q0y1YqwRvjLgdBRUM6Fl7SK29pVX4VcnomsjMFTmcObQX8U1sxi2uqOazNblccEyf4PhuK3cW8Zd3l/HiNaPo4h7gXLqtkBU7C/nZSQMAmLZ0J79+aSGL7ziPGlXSUxJ4bPY6Hpi+ukl/7W7ILaF39yS+3VLA6UMyGt3vk1U5zFq5m2U7injvt6fV2qaqvL94B6OPPrTe+VSVQbdOJTEuhok/OZZXvtnKY5ePoGdKAs/P2cRdH6yga2Icc287h2NCnj2884fDuPODFQzKSOGKUQMYOSidix79ird+fSo/+c++aUyGHNKVtbtrD6B8z4+O4fZ3lnH+MYfy6OUjqK7xs3xHIScO3Dds0N7SKvJKKjnvoc/5w3lHICKMPzWTGPFGsDhxYBr/+999QWxQRgqvXncyo+6tf983PSWB8adkUlrl46W5mxt8iPiRcScER/X/8IbTeX/xjuAfP23hsctHkFNUwd0f7vvpzeyZHOyOfiANletnt5zFwJ4pLc5bOAPUKcCdqjrard8KoKr3NbS/BShjot/r87eSlZnG4F5d623bll/GId2SSIjzAvkr32xhcEZKsNNQQ6pr/MTFSL0m79W7iiksr+bEgWk8OGM115w+mPSU+uMchiqvqiEpvuERx5duK+SNBVu566KjD6p5vbiimqXbC+nVNZEhvbvV217jV3x+P0u3FSIinDjQm7ZDVXn6y438ZEQ/0lIS2Ftaha/Gz9LthWzZW0ZBWTXxscI/P17D4IwU3rv+NArLq+mXlswHi3dw5KHdap1v3oY9nJSZHvzDZ3tBOc9+uZHiCh+/PutwendPoktCLAs27+X4fqn17o1/tS6P1OR4jj6sR7PLoCHhDFCXAGNU9Vq3/gtglKpeH7LPdcB1AAMGDDhx8+b9P/xmjDEmekT0c1CqOgmYBCAiuSLSGhEqA2idiV46Jyu/g2dl1zJWfi3TEcuv/uyktE+A2g70D1nv59IapKq9WuOkIpLdUEQ2TWPld/Cs7FrGyq9loqn82mMsvvnAEBEZJCIJwDjg/XY4rzHGmA6szWtQquoTkeuB6XjdzJ9R1fojJBpjjDEh2uUelKpOBaa2x7lCTGrn80UbK7+DZ2XXMlZ+LRM15RdxI0kYY4wxYPNBGWOMiVAWoIwxxkSkqAtQIjJGRFaLyDoRmRDu/EQKEekvIrNFZIWILBeRG116uojMEJG17j3NpYuI/MuV4xIRGRFyrPFu/7UiMj5c36m9iUisiHwrIh+69UEiMs+V0WuulyoikujW17ntmSHHuNWlrxaR0eH5JuEhIqki8qaIrBKRlSJyil1/TSMiv3f/b5eJyCsiktQprj9vdOroeOH1ElwPDAYSgMXAsHDnKxJeQB9ghFvuhjc+4jDgH8AElz4BuN8tXwBMAwQ4GZjn0tOBDe49zS2nhfv7tVMZ3gy8DHzo1l8HxrnlJ4Bfu+XfAE+45XHAa255mLsmE4FB7lqNDff3asfyex641i0nAKl2/TWp3PoCG4EuIdfdVZ3h+ou2GtRIYJ2qblDVKuBVYGyY8xQRVHWnqi50y8XASrwLfyzeDwfu/WK3PBZ4QT1zgVQR6QOMBmao6l5VzQdmAGPa8auEhYj0Ay4EJrt1Ac4G3nS71C27QJm+CZzj9h8LvKqqlaq6EViHd81GPRHpAXwXeBpAVatUtQC7/poqDugiInFAMrCTTnD9RVuA6guEzn++zaWZEK7KPxyYB/RW1Z1u0y6gt1turCw7axk/DPwR8Lv1nkCBqgZmXAwth2AZue2Fbv/OWnbg/cWeCzzrmkkni0gKdv0dkKpuB/4JbMELTIXAAjrB9RdtAcocgIh0Bd4CblLVWjPoqdcOYM8d1CEiPwB2q2r9aYJNU8UBI4D/qOpwoBSvSS/Irr+GuftyY/GC/GFACp2j1hh1AapZ4/51NiISjxecXlLVt11yjms6wb3vdumNlWVnLOPTgItEZBNes/HZeBNwpromF6hdDsEyctt7AHvonGUXsA3Ypqrz3PqbeAHLrr8DOxfYqKq5qloNvI13TUb99RdtAcrG/WuEa4N+Glipqg+GbHofCPSEGg+8F5J+petNdTJQ6JpipgPniUia+8vuPJcWtVT1VlXtp6qZeNfUJ6p6BTAbuMTtVrfsAmV6idtfXfo418tqEDAE+KadvkZYqeouYKuIDHVJ5wArsOuvKbYAJ4tIsvt/HCi76L/+wt1Lo7VfeL1/1uD1ULk93PmJlBdwOl7zyRJgkXtdgNc2PQtYC8wE0t3+AjzmynEpkBVyrF/i3WBdB1wd7u/WzuV4Fvt68Q3G+w++DngDSHTpSW59nds+OOTzt7syXQ2cH+7v085ldwKQ7a7Bd/F64dn117SyuwtYBSwDXsTriRf1158NdWSMMSYiRVsTnzHGmChhAcoYY0xEsgBljDEmIlmAMsYYE5EsQBljjIlIFqCMMcZEJAtQxhhjIpIFKGOMMRHJApQxxpiIZAHKGGNMRLIAZYwxJiJZgDLGGBORLEAZY4yJSBagjGmAiHwqIvkiklgn/XIRyRaREhHZKSLTROT0kO1HiMgbIpInIoUiskREbhaRWBE5S0S2NXKua93ynSJS7Y5fICJfi8gpDXzmORHxBSb7q7NttIh8LiLFIpIrIp+JyEUicq2IrAz9TiLSU0R2i0inmKHVdCwWoIypQ0QygTPw5s+6KCT9ZuBh4F6gNzAAeBxvOm5E5HBgHrAVOFZVewCXAllAt2Zk4TVV7Qpk4E1K90ad/KUAPwEKgZ/X2XaJ2/8FvBlTewN3AD9U1cl4M6jeEfKRh4GpqvpRM/JnTLuw+aCMqUNE7gBG4wWbI1T1ByLSA+/H/WpVfaORz/0XSFPVCxvZfhbwX1XtVyf9U5c+WUTuBL6jqj9324YBy4FDVDXXpV0J3AP8E/iVqh7j0gXYDPxbVR9oJA+ZwLfA9/CC17PA0aqaf+CSMaZ9WQ3KmPquBF5yr9Ei0hs4BW+m0nf287lzgTdbKxMikuDysgcIDSDjgVeAV4EjReRElz4U6L+/PKjqJrwa1DPAE8BvLDiZSGUBypgQ7n7SQOB1VV2ANz325XhTk+epqm8/H+8J7GyFbPxURAqAcuBXwCWB84rIALzaz8uqmoM3XfqVIeenCXl4FKgGFqnqu62QX2PahAUoY2obD3ysqnlu/WWXtgfIEJG4/Xx2D1Cv00IIHxDfQHo8XsAIeF1VU/Ga4JYBJ4Zs+wWwUlUXufWXgMtFJN6dnwPkAfXa9VfiNR0aE7EsQBnjiEgX4KfAmSKyS0R2Ab8HjserlVQCF+/nEDPxOi80ZgtekOsack7Bq7FtrruzC5LXAXeG9Na7Ehgckr8H8TpTXACsxuugsb88GNNhWIAyZp+LgRpgGHCCex0FfIEXGO4AHhORi0UkWUTiReR8EfmH+/xfgVNF5AERORRARL4jIv8VkVRV3YLX8eJ+Eenqunvfgld7mttQhlR1NTAd+KPrbn44MDIkf8fg1fKudDWjm4G/iMjVItJdRGJE5HQRmdTKZWVMm9tfc4Uxnc144FkXSIJE5FHgX3jdtncBf8ZrWisGFuD1qENV17sg8ndguWsO3ITXU67YHe5neLWedXj//xYAF6pqxX7y9QDwCdADeE9Vl9bJ3yPAFyKSrqpvikgJcDvwb7z7WMvdMYzpUKybuTHGmIhkTXzGGGMikgUoY4wxEckClDHGmIhkAcoYY0xEalIvPjfS8SNALDBZVSfW2f4Q3tPtAMl444alum01QKDX0RZVvYj9yMjI0MzMzCZ/AWOMMR3bggUL8lS1V930AwYoEYkFHgO+D2wD5ovI+6q6IrCPqv4+ZP8bgOEhhyhX1ROamtHMzEyys7ObursxxpgWUFV8fqW6xk+Vz0+Ve6+uUW/dpVXX+PHVKNV+P9U+f/AzFx1/GN7z5gdPROo9qA5Nq0GNBNap6gZ3oFfxphdY0cj+l+E9sGiMMQYvCFTX7AsC1TV+Kt17Vb00Da7XDhi13ytr/FT7lKqaGvfe+L5VNUqVr8YLNG7f6sAxavy05Gmj84/pQ0JcywJUY5oSoPriDZ8SsA0Y1dCOIjIQGIT3UGFAkohk441DNrGhwSlF5Dq8IV0YMGBA03JujDENCASDCl8NldV+Kn01tX7o6y5X1+z7ka90P9xVIe/1f/S9AFLpq6HS5w+eozKkplHr2C69tSXExZAYG0N8XAwJsTHEx4n3HhtDYpz3nhAXQ3JCHAlx3nJCbOi+scTHiXcMt2/gPaHOenysd+y4WG85PjaGuFghLiaGuJi2CU7Q+iNJjAPeVNWakLSBqrpdRAYDn4jIUlVdH/ohVZ0ETALIysqyJ4eN6aACwSH44+3zU1ldezk0OFTWDRh1gkFF6GddwNkXePYFhuB+bntrjT8gQvBHve4PdlJ8LIlxMSTGxZKWkhDcp+Ef+EDQcEEkZJ+EBgJEYt3gUOeYcTHS4ma1jqApAWo73hwzAf1cWkPGAb8NTVDV7e59g5uYbTjeFAbGmDagqvX+sq/01VBRve9HvtaPeuiPfMgPf0V17VpCaI2k1raQwFPpa1lzUUAgMASDQHwMSXGxJMZ7ASExLoZuSXG1gkRi/L79930ulsQGAke9dRc04mOFRFezSIiNIbaTBIJI1ZQANR8YIiKD8ALTOLz5cWoRkSOBNGBOSFoaUKaqlSKSAZwG/KPuZ42Jdn6/1+RUXlVDhc/vvVfXUOmrobzKCw6B7eXVNZRV1VBW6aPCBQ7vFdgvEExcmq/29kpfy5qTYgSS4mNDfvxjagWClMQ40lMCwWJfwEh0P/qhn0uMq71foHYQFxtDUrwXGBLjY4M1i85WQzD7d8AApao+Ebkeb0TlWOAZVV0uIncD2ar6vtt1HPCq1h7c7yjgSRHx4z1zNTG0958xkUDVu2lcXuUCgwse3rIvZLl2ACmv8nnv1TXBzwaWy4NBxQscB3sPIsnVCpLiYoPLifGxJMXFkJqcsC/NBYYkty2xsQATsj2xbjBx2+Ji7fFIExkibrDYrKwstW7mpjF+v1LqAkNJpY/SSh+F5dUUlfu89EofpS6wlFa6wFHtBZN9gaWm3nKNv3n/DxLiYugSH0tyQixdEtx7fCxdEuJIjvfSklxzVJeEfQEmsJwY730+Kb729sB6skuLacMb0MZEChFZoKpZddNtug3TbgLBpbSyhuKKaooqfBRVVFNc4aOo3L1XVNdaDmwrqfRRUuGjpMrXpHsccTFCckIsyQlxdHHBIzkhlq6JcfTqmugCS1wjQcb7XHKCF0CSE/bt0yXee1ktw5i2ZwHKNIuqUlTho6Csir2lVeSXVbG3tLrWemllDaWVPoorfSHBxwsyB6qoxMUI3bvE0z0pjm5J8XTvEkevrl3plhRH16Q4uiXGkZLoLackeMs9unj7BdZTEmNJiI2xexjGdHAWoDoxVaW40kd+qRdcCsqqQ4JOFfll1d62siry3XpBWRW+RqJMbIyQlhxP10AQSYyjb2oXjjq0G91cwAm8d02Ko3tSXDAYdU+Kp1tSPEnxFliMMR4LUFGousbPnpIqcosryS2pILe4krySKnYWlrOrsJJdReXkFFWSX3qgYJNAeko8qckJHN6rK2kpCaQlx5OekkBacgJpKfFunwTSUhLolhhnwcUY02osQHUge0u9oLO72As6e0qqyC2pdAGokt1FleSWVLK3tKrBz6cmx3No9yQO7ZHEMYf1ID0lwYKNMSZiWYCKIKpKflk1G/NKWZtTzJa9ZWzLL2drfhlb9pSxp4HAkxgXQ69uifTqlsiAnslkZaZxSLckMrol0KtrYnBbRtdEkuJjw/CtjDHm4FiACpPC8mqW7yhkxY4i1uQUs3xHEVv3llFU4QvuExcj9E3rQr+0Lnx/WG++c0hXDu2RxCHdklzQSaCr1XSMMVHKAlQbKyirYuGWfLbsKWNnUQUbc0tZuauIrXvLg/tkdE3gqD7dGTEgjcyMFAamJzP00G4cltqFWHsOxhjTSVmAakVFFdUs2JzP+t0lLNteyJJthWzIKw1uj48VBvZM4bi+qVw2cgBHH9aDow/rTkbXxDDm2hhjIlNrzah7FfAA+waRfVRVJ7tt44E/u/S/q+rzrZDviFBQVsWnq3PJ3ryX7E35rM4pDj5E2rt7Isf1S+XHI/oyclBPDu+VQmpygtWIjDGmiVplRl3nNVW9vs5n0/EmL8wCFFjgPpvfKrkPg9ziSmasyOGj5bv4el0ePr/SNTGO4QNSOf+YPpyUmcaRfbqTnpIQ7qwaY0yH1hYz6oYaDcxQ1b3uszOAMcArB5fd9uf3K8t2FPLF2jzmbdwbDEoDeyZzzemDuODYPhzTt4fVjIwxppW15oy6PxGR7wJrgN+r6tZGPtu37gcjcUbdsiof/527mWe+3MSuogoAjujdlWtOH8SPRvRlaO9u1nvOGGPaUGt1kvgAeMXN+/Q/wPPA2U39cCTNqLuzsJwPF+/kyc/Xk1dSxamH9+SW0UM5c2gv68xgjDHtqFVm1FXVPSGrk9k3KeF24Kw6n/20uZlsD3kllUyctop3vt1OjV85ZXBPnvj5EWRlpoc7a8YY0ym1yoy6ItJHVXe61YuAlW55OnCvm1kX4Dzg1hbnuhVV+mr47UsLmblyN7ExwriT+jP+1EyGHNLVmvCMMSaMWmtG3d+JyEWAD9gLXOU+u1dE/oYX5ADuDnSYiAQ7Csr55XPzWbWrmPOPOZQbzh7CsMO6hztbxhhj6MQz6pZU+rj0iTls21vGw+NO4Jyjerf5OY0xxtRnM+qG+GJtLr975VsKyqt5ZvxJfO/IQ8KdJWOMMXV0ugB11wfLefarTQA8d/VJnDXUgpMxxkSiThOgVJVrn89m1qrdnNA/led/OZIeXeLDnS1jjDGN6BQBqsrnZ8JbS5i1ajejBqXzwjUjSYyzuZGMMSaSRX2A8vuVI/48DYATB6bxyq9OJsaGJTLGmIgX1QFq4rRVPPHZ+uD6y78aZcHJGGM6iKgNUJkTptRaX3/vBTagqzHGdCAx4c5AWzu+fyqbJl5owckYYzqYqAxQd32wHIAzhmTw3m9PC3NujDHGHIwmBSgRGSMiq0VknYhMaGD7zSKyQkSWiMgsERkYsq1GRBa51/utmfnGBJ5zuviEejN7GGOM6SBaa0bdb4EsVS0TkV/jjWb+M7etXFVPaOV8N8nRfW1cPWOM6aiaUoMKzqirqlVAYEbdIFWdraplbnUu3rQaYXfkoRagjDGmo2pKgGrSrLghrgGmhawniUi2iMwVkYsb+oCIXOf2yc7NzW1Clg5spM3jZIwxHVqrdjMXkZ8DWcCZIckDVXW7iAwGPhGRpaq6PvRzrT2jbp8eSWRmJLf0MMYYY8KoKTWoA86oCyAi5wK3AxepamUgXVW3u/cNeLPpDm9BfpvE51diY6Kyg6IxxnQaTfkVD86oKyIJeDPq1uqNJyLDgSfxgtPukPQ0EUl0yxnAaUBo54o2UeNXYi0+GWNMh9ZaM+o+AHQF3nDTpG9R1YuAo4AnRcSPFwwn1un91yZq/Eqc1aCMMaZDa9I9KFWdCkytk3ZHyPK5jXzua+DYlmTwYHg1KBs5whhjOrKorGb4/H4LUMYY08FFZYCyGpQxxnR8UTma+SPjhjMoIyXc2TDGGNMCURmgLji2T7izYIwxpoVEtcXPxbYqEckFNrfCoTKAvFY4Tmdl5XfwrOxaxsqvZTpi+Q1U1V51EyMuQLUWEclW1axw56OjsvI7eFZ2LWPl1zLRVH5R2UnCGGNMx2cByhhjTESK5gA1KdwZ6OCs/A6elV3LWPm1TNSUX9TegzLGGNOxRXMNyhhjTAdmAcoYY0xEiroAJSJjRGS1iKwTkQnhzk+kEJH+IjJbRFaIyHIRudGlp4vIDBFZ697TXLqIyL9cOS4RkREhxxrv9l8rIuPD9Z3am4jEisi3IvKhWx8kIvNcGb3mpqNBRBLd+jq3PTPkGLe69NUiMjo83yQ8RCRVRN4UkVUislJETrHrr2lE5Pfu/+0yEXlFRJI6xfWnqlHzwpsOZD0wGEgAFgPDwp2vSHgBfYARbrkbsAYYBvwDmODSJwD3u+ULgGmAACcD81x6OrDBvae55bRwf792KsObgZeBD93668A4t/wE8Gu3/BvgCbc8DnjNLQ9z12QiMMhdq7Hh/l7tWH7PA9e65QQg1a6/JpVbX2Aj0CXkuruqM1x/0VaDGgmsU9UNqloFvAqMDXOeIoKq7lTVhW65GFiJd+GPxfvhwL1f7JbHAi+oZy6QKiJ9gNHADFXdq6r5wAxgTDt+lbAQkX7AhcBkty7A2cCbbpe6ZRco0zeBc9z+Y4FXVbVSVTcC6/Cu2agnIj2A7wJPA6hqlaoWYNdfU8UBXUQkDkgGdtIJrr9oC1B9ga0h69tcmgnhqvzDgXlAb1Xd6TbtAnq75cbKsrOW8cPAHwG/W+8JFKiqz62HlkOwjNz2Qrd/Zy078P5izwWedc2kk0UkBbv+DkhVtwP/BLbgBaZCYAGd4PqLtgBlDkBEugJvATepalHoNvXaAey5gzpE5AfAblVdEO68dGBxwAjgP6o6HCjFa9ILsuuvYe6+3Fi8IH8YkELnqDVGXYDaDvQPWe/n0gwgIvF4weklVX3bJee4phPc+26X3lhZdsYyPg24SEQ24TUbnw08gtfsFJgRILQcgmXktvcA9tA5yy5gG7BNVee59TfxApZdfwd2LrBRVXNVtRp4G++ajPrrL9oC1HxgiOvdkoB3g/D9MOcpIrg26KeBlar6YMim94FAT6jxwHsh6Ve63lQnA4WuKWY6cJ6IpLm/7M5zaVFLVW9V1X6qmol3TX2iqlcAs4FL3G51yy5Qppe4/dWlj3O9rAYBQ4Bv2ulrhJWq7gK2ishQl3QOsAK7/ppiC3CyiCS7/8eBsov+6y/cvTRa+4XX+2cNXg+V28Odn0h5AafjNZ8sARa51wV4bdOzgLXATCDd7S/AY64clwJZIcf6Jd4N1nXA1eH+bu1cjmexrxffYLz/4OuAN4BEl57k1te57YNDPn+7K9PVwPnh/j7tXHYnANnuGnwXrxeeXX9NK7u7gFXAMuBFvJ54UX/92VBHxhhjIlK0NfEZY4yJEhagjDHGRCQLUMYYYyKSBShjjDERyQKUMcaYiGQByhhjTESyAGWMMSYi/X/R1REgI/PHwgAAAABJRU5ErkJggg==\n",
            "text/plain": [
              "<Figure size 432x288 with 3 Axes>"
            ]
          },
          "metadata": {
            "tags": [],
            "needs_background": "light"
          }
        }
      ]
>>>>>>> 6c431331739c1dcdad618b816190999dbf20862b
    },
    {
      "cell_type": "markdown",
      "metadata": {
        "id": "vWQBBvY0p6Pu",
        "colab_type": "text"
      },
      "source": [
        "## Checking random images ourselves"
      ]
    },
    {
      "cell_type": "code",
      "metadata": {
        "id": "eLv384M3f33b",
        "colab_type": "code",
<<<<<<< HEAD
        "colab": {}
=======
        "colab": {
          "base_uri": "https://localhost:8080/",
          "height": 234
        },
        "outputId": "5fac5243-81df-4404-edf3-052ed01d8b23"
>>>>>>> 6c431331739c1dcdad618b816190999dbf20862b
      },
      "source": [
        "indxx = random.randrange(len(images))\n",
        "\n",
        "img = images[indxx]\n",
        "img = img[:,:,:]\n",
        "img = torch.cuda.FloatTensor(img).view(1,1,69,69)\n",
        "y = galaxyModel(img)\n",
        "print(y)"
      ],
<<<<<<< HEAD
      "execution_count": null,
      "outputs": []
=======
      "execution_count": 20,
      "outputs": [
        {
          "output_type": "error",
          "ename": "RuntimeError",
          "evalue": "ignored",
          "traceback": [
            "\u001b[0;31m---------------------------------------------------------------------------\u001b[0m",
            "\u001b[0;31mRuntimeError\u001b[0m                              Traceback (most recent call last)",
            "\u001b[0;32m<ipython-input-20-de6ebcf36dd1>\u001b[0m in \u001b[0;36m<module>\u001b[0;34m()\u001b[0m\n\u001b[1;32m      3\u001b[0m \u001b[0mimg\u001b[0m \u001b[0;34m=\u001b[0m \u001b[0mimages\u001b[0m\u001b[0;34m[\u001b[0m\u001b[0mindxx\u001b[0m\u001b[0;34m]\u001b[0m\u001b[0;34m\u001b[0m\u001b[0;34m\u001b[0m\u001b[0m\n\u001b[1;32m      4\u001b[0m \u001b[0mimg\u001b[0m \u001b[0;34m=\u001b[0m \u001b[0mimg\u001b[0m\u001b[0;34m[\u001b[0m\u001b[0;34m:\u001b[0m\u001b[0;34m,\u001b[0m\u001b[0;34m:\u001b[0m\u001b[0;34m,\u001b[0m\u001b[0;34m:\u001b[0m\u001b[0;34m]\u001b[0m\u001b[0;34m\u001b[0m\u001b[0;34m\u001b[0m\u001b[0m\n\u001b[0;32m----> 5\u001b[0;31m \u001b[0mimg\u001b[0m \u001b[0;34m=\u001b[0m \u001b[0mtorch\u001b[0m\u001b[0;34m.\u001b[0m\u001b[0mcuda\u001b[0m\u001b[0;34m.\u001b[0m\u001b[0mFloatTensor\u001b[0m\u001b[0;34m(\u001b[0m\u001b[0mimg\u001b[0m\u001b[0;34m)\u001b[0m\u001b[0;34m.\u001b[0m\u001b[0mview\u001b[0m\u001b[0;34m(\u001b[0m\u001b[0;36m1\u001b[0m\u001b[0;34m,\u001b[0m\u001b[0;36m1\u001b[0m\u001b[0;34m,\u001b[0m\u001b[0;36m69\u001b[0m\u001b[0;34m,\u001b[0m\u001b[0;36m69\u001b[0m\u001b[0;34m)\u001b[0m\u001b[0;34m\u001b[0m\u001b[0;34m\u001b[0m\u001b[0m\n\u001b[0m\u001b[1;32m      6\u001b[0m \u001b[0my\u001b[0m \u001b[0;34m=\u001b[0m \u001b[0mgalaxyModel\u001b[0m\u001b[0;34m(\u001b[0m\u001b[0mimg\u001b[0m\u001b[0;34m)\u001b[0m\u001b[0;34m\u001b[0m\u001b[0;34m\u001b[0m\u001b[0m\n\u001b[1;32m      7\u001b[0m \u001b[0mprint\u001b[0m\u001b[0;34m(\u001b[0m\u001b[0my\u001b[0m\u001b[0;34m)\u001b[0m\u001b[0;34m\u001b[0m\u001b[0;34m\u001b[0m\u001b[0m\n",
            "\u001b[0;31mRuntimeError\u001b[0m: shape '[1, 1, 69, 69]' is invalid for input of size 14283"
          ]
        }
      ]
>>>>>>> 6c431331739c1dcdad618b816190999dbf20862b
    },
    {
      "cell_type": "code",
      "metadata": {
        "id": "IRC2drZ8jXA-",
        "colab_type": "code",
<<<<<<< HEAD
        "colab": {}
=======
        "colab": {
          "base_uri": "https://localhost:8080/",
          "height": 298
        },
        "outputId": "8a1819f9-a308-4cb1-c737-e56090dfa1e5"
>>>>>>> 6c431331739c1dcdad618b816190999dbf20862b
      },
      "source": [
        "lbl = torch.argmax(F.relu(y))\n",
        "plt.imshow(images[indxx])\n",
        "plt.title(str(labels[indxx]))\n",
        "\n",
        "print(lbl)"
      ],
<<<<<<< HEAD
      "execution_count": null,
      "outputs": []
=======
      "execution_count": 21,
      "outputs": [
        {
          "output_type": "stream",
          "text": [
            "tensor(156, device='cuda:0')\n"
          ],
          "name": "stdout"
        },
        {
          "output_type": "display_data",
          "data": {
            "image/png": "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\n",
            "text/plain": [
              "<Figure size 432x288 with 1 Axes>"
            ]
          },
          "metadata": {
            "tags": [],
            "needs_background": "light"
          }
        }
      ]
>>>>>>> 6c431331739c1dcdad618b816190999dbf20862b
    },
    {
      "cell_type": "code",
      "metadata": {
        "id": "Gt7-MY-BlrBc",
        "colab_type": "code",
        "colab": {}
      },
      "source": [
        "print(F.relu(y),torch.sigmoid(y))"
      ],
      "execution_count": null,
      "outputs": []
    },
    {
      "cell_type": "code",
      "metadata": {
        "id": "MgyMpFyNFxz8",
        "colab_type": "code",
        "colab": {}
      },
      "source": [
        ""
      ],
      "execution_count": null,
      "outputs": []
    }
  ]
}